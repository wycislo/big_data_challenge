{
 "cells": [
  {
   "cell_type": "markdown",
   "id": "211f6ea2",
   "metadata": {},
   "source": [
    "## Big Data Challenge notebook #2\n",
    "### Goals\n",
    "\n",
    "1) Perform the ETL process completely in the cloud and upload a dataframe to an RDS instance\n",
    "\n",
    "2) Use PySpark or SQL to perform a statistical analysis of selected data.\n",
    "\n",
    "3) I am using my local machine to run spark so I can load the data to my local postgres database and avoid paying Amazon. "
   ]
  },
  {
   "cell_type": "code",
   "execution_count": 17,
   "id": "56736157",
   "metadata": {},
   "outputs": [
    {
     "data": {
      "text/plain": [
       "True"
      ]
     },
     "execution_count": 17,
     "metadata": {},
     "output_type": "execute_result"
    }
   ],
   "source": [
    "# https://medium.com/beeranddiapers/installing-apache-spark-on-mac-os-ce416007d79f\n",
    "# installed spark on mac using brew and modified bash_profile \n",
    "import os\n",
    "SPARK_VERSION = 'spark-3.3.1'\n",
    "import findspark\n",
    "findspark.init()\n",
    "from dotenv import load_dotenv\n",
    "from pyspark.sql.functions import col,to_date,count\n",
    "DB_HOST = os.getenv('DB_HOST')\n",
    "DB_NAME = os.getenv('DB_NAME')\n",
    "DB_USER = os.getenv('DB_USER')\n",
    "DB_PASS = os.getenv('DB_PASS')\n",
    "load_dotenv()"
   ]
  },
  {
   "cell_type": "code",
   "execution_count": 18,
   "id": "8128d725",
   "metadata": {},
   "outputs": [],
   "source": [
    "# Start Spark session on local machine\n",
    "# from pyspark.sql import SparkSession\n",
    "# spark = SparkSession.builder.appName(\"CloudETLProject\").getOrCreate()\n",
    "\n",
    "from pyspark.sql import SparkSession\n",
    "\n",
    "spark = SparkSession \\\n",
    "    .builder \\\n",
    "    .appName(\"Python Spark write to postgres example\") \\\n",
    "    .config(\"spark.jars\", \"/usr/local/Cellar/apache-spark/3.2.0/libexec/jars/postgresql-42.2.9.jar\") \\\n",
    "    .getOrCreate()\n"
   ]
  },
  {
   "cell_type": "code",
   "execution_count": 19,
   "id": "7a1ca603",
   "metadata": {},
   "outputs": [],
   "source": [
    "from pyspark import SparkFiles\n",
    "# Load in user_data.csv from S3 into a DataFrame\n",
    "url = \"https://s3.amazonaws.com/amazon-reviews-pds/tsv/amazon_reviews_us_Watches_v1_00.tsv.gz\"\n",
    "spark.sparkContext.addFile(url)"
   ]
  },
  {
   "cell_type": "code",
   "execution_count": 20,
   "id": "0f92888b",
   "metadata": {},
   "outputs": [],
   "source": [
    "# \n",
    "df = spark.read.option('header', 'true').csv(SparkFiles.get(\"amazon_reviews_us_Watches_v1_00.tsv.gz\"), inferSchema=True, sep='\\t', timestampFormat=\"mm/dd/yy\")\n",
    "# df.show(10)"
   ]
  },
  {
   "cell_type": "code",
   "execution_count": 21,
   "id": "d2c62d64",
   "metadata": {},
   "outputs": [
    {
     "data": {
      "text/plain": [
       "960872"
      ]
     },
     "execution_count": 21,
     "metadata": {},
     "output_type": "execute_result"
    }
   ],
   "source": [
    "# Count number of records in the spark dataframe\n",
    "df.count()"
   ]
  },
  {
   "cell_type": "code",
   "execution_count": 22,
   "id": "644868a6",
   "metadata": {},
   "outputs": [
    {
     "name": "stdout",
     "output_type": "stream",
     "text": [
      "root\n",
      " |-- marketplace: string (nullable = true)\n",
      " |-- customer_id: integer (nullable = true)\n",
      " |-- review_id: string (nullable = true)\n",
      " |-- product_id: string (nullable = true)\n",
      " |-- product_parent: integer (nullable = true)\n",
      " |-- product_title: string (nullable = true)\n",
      " |-- product_category: string (nullable = true)\n",
      " |-- star_rating: integer (nullable = true)\n",
      " |-- helpful_votes: integer (nullable = true)\n",
      " |-- total_votes: integer (nullable = true)\n",
      " |-- vine: string (nullable = true)\n",
      " |-- verified_purchase: string (nullable = true)\n",
      " |-- review_headline: string (nullable = true)\n",
      " |-- review_body: string (nullable = true)\n",
      " |-- review_date: string (nullable = true)\n",
      "\n"
     ]
    }
   ],
   "source": [
    "# Print schema\n",
    "df.printSchema()"
   ]
  },
  {
   "cell_type": "code",
   "execution_count": 23,
   "id": "16cbad47",
   "metadata": {},
   "outputs": [
    {
     "name": "stdout",
     "output_type": "stream",
     "text": [
      "+-----------+----------+--------------+-----------+\n",
      "|customer_id|product_id|product_parent|review_date|\n",
      "+-----------+----------+--------------+-----------+\n",
      "|    3653882|B00FALQ1ZC|     937001370| 2015-08-31|\n",
      "|   14661224|B00D3RGO20|     484010722| 2015-08-31|\n",
      "|   27324930|B00DKYC7TK|     361166390| 2015-08-31|\n",
      "|    7211452|B000EQS1JW|     958035625| 2015-08-31|\n",
      "|   12733322|B00A6GFD7S|     765328221| 2015-08-31|\n",
      "|    6576411|B00EYSOSE8|     230493695| 2015-08-31|\n",
      "|   11811565|B00WM0QA3M|     549298279| 2015-08-31|\n",
      "|   49401598|B00A4EYBR0|     844009113| 2015-08-31|\n",
      "|   45925069|B00MAMPGGE|     263720892| 2015-08-31|\n",
      "|   44751341|B004LBPB7Q|     124278407| 2015-08-31|\n",
      "|    9962330|B00KGTVGKS|      28017857| 2015-08-31|\n",
      "|   16097204|B0039UT5OU|     685450910| 2015-08-31|\n",
      "|   51330346|B00MPF0XJQ|     767769082| 2015-08-31|\n",
      "|    4201739|B003P1OHHS|     648595227| 2015-08-31|\n",
      "|   26339765|B00R70YEOE|     457338020| 2015-08-31|\n",
      "|    2692576|B000FVE3BG|     824370661| 2015-08-31|\n",
      "|   44713366|B008X6JB12|     814431355| 2015-08-31|\n",
      "|   32778769|B0040UOFPW|     187700878| 2015-08-31|\n",
      "|   27258523|B00UR2R5UY|     594315262| 2015-08-31|\n",
      "|   42646538|B00HFF57L0|     520810507| 2015-08-31|\n",
      "+-----------+----------+--------------+-----------+\n",
      "only showing top 20 rows\n",
      "\n"
     ]
    }
   ],
   "source": [
    "# Create review dataframe\n",
    "watch_reviews = df.select(\"customer_id\",\"product_id\",\"product_parent\",\"review_date\")\n",
    "watch_reviews.show()"
   ]
  },
  {
   "cell_type": "code",
   "execution_count": 24,
   "id": "98465e57",
   "metadata": {},
   "outputs": [],
   "source": [
    "watch_reviews.write \\\n",
    "    .mode(\"overwrite\") \\\n",
    "    .format(\"jdbc\") \\\n",
    "    .option(\"url\", \"jdbc:postgresql://localhost:5432/big_data\") \\\n",
    "    .option(\"dbtable\", \"watch_reviews\") \\\n",
    "    .option(\"user\", DB_USER) \\\n",
    "    .option(\"password\", DB_PASS) \\\n",
    "    .option(\"driver\", \"org.postgresql.Driver\") \\\n",
    "    .save()"
   ]
  },
  {
   "cell_type": "code",
   "execution_count": 25,
   "id": "4fa253df",
   "metadata": {},
   "outputs": [],
   "source": [
    "# Create products dataframe\n",
    "watch_products = df.select(\"product_id\",\"product_title\")"
   ]
  },
  {
   "cell_type": "code",
   "execution_count": 26,
   "id": "48a82383",
   "metadata": {},
   "outputs": [],
   "source": [
    "watch_products.write \\\n",
    "    .mode(\"overwrite\") \\\n",
    "    .format(\"jdbc\") \\\n",
    "    .option(\"url\", \"jdbc:postgresql://localhost:5432/big_data\") \\\n",
    "    .option(\"dbtable\", \"watch_products\") \\\n",
    "    .option(\"user\", DB_USER) \\\n",
    "    .option(\"password\", DB_PASS) \\\n",
    "    .option(\"driver\", \"org.postgresql.Driver\") \\\n",
    "    .save()"
   ]
  },
  {
   "cell_type": "code",
   "execution_count": 28,
   "id": "033da6b6",
   "metadata": {},
   "outputs": [],
   "source": [
    "# Create vine dataframe\n",
    "watches_vine = df.select(\"review_id\",\"star_rating\",\"helpful_votes\",\"total_votes\",\"vine\")"
   ]
  },
  {
   "cell_type": "code",
   "execution_count": 29,
   "id": "4c3e8ea5",
   "metadata": {},
   "outputs": [],
   "source": [
    "watches_vine.write \\\n",
    "    .mode(\"overwrite\") \\\n",
    "    .format(\"jdbc\") \\\n",
    "    .option(\"url\", \"jdbc:postgresql://localhost:5432/big_data\") \\\n",
    "    .option(\"dbtable\", \"watches_vine\") \\\n",
    "    .option(\"user\", DB_USER) \\\n",
    "    .option(\"password\", DB_PASS) \\\n",
    "    .option(\"driver\", \"org.postgresql.Driver\") \\\n",
    "    .save()"
   ]
  },
  {
   "cell_type": "code",
   "execution_count": null,
   "id": "405f2bdf",
   "metadata": {},
   "outputs": [],
   "source": [
    "# customer counts\n",
    "watch_customers = df.select(col('customer_id').cast('int')).groupBy('customer_id').agg(count('customer_id').alias(\"customer_count\") )\n",
    "watch_customers.show()"
   ]
  }
 ],
 "metadata": {
  "kernelspec": {
   "display_name": "Python [conda env:PythonData] *",
   "language": "python",
   "name": "conda-env-PythonData-py"
  },
  "language_info": {
   "codemirror_mode": {
    "name": "ipython",
    "version": 3
   },
   "file_extension": ".py",
   "mimetype": "text/x-python",
   "name": "python",
   "nbconvert_exporter": "python",
   "pygments_lexer": "ipython3",
   "version": "3.6.13"
  }
 },
 "nbformat": 4,
 "nbformat_minor": 5
}
