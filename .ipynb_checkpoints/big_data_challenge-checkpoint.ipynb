{
 "cells": [
  {
   "cell_type": "markdown",
   "id": "70ae0725",
   "metadata": {},
   "source": [
    "## Big Data Challenge\n",
    "### Two goals\n",
    "\n",
    "1) Perform the ETL process completely in the cloud and upload a dataframe to an RDS instance\n",
    "\n",
    "2) Use PySpark or SQL to perform a statistical analysis of selected data.\n"
   ]
  },
  {
   "cell_type": "code",
   "execution_count": 1,
   "id": "1b2fb74f",
   "metadata": {},
   "outputs": [
    {
     "data": {
      "text/plain": [
       "True"
      ]
     },
     "execution_count": 1,
     "metadata": {},
     "output_type": "execute_result"
    }
   ],
   "source": [
    "# https://medium.com/beeranddiapers/installing-apache-spark-on-mac-os-ce416007d79f\n",
    "# installed spark on mac using brew and modified bash_profile \n",
    "import os\n",
    "SPARK_VERSION = 'spark-3.3.1'\n",
    "import findspark\n",
    "findspark.init()\n",
    "from dotenv import load_dotenv\n",
    "DB_HOST = os.getenv('DB_HOST')\n",
    "DB_NAME = os.getenv('DB_NAME')\n",
    "DB_USER = os.getenv('DB_USER')\n",
    "DB_PASS = os.getenv('DB_PASS')\n",
    "load_dotenv()"
   ]
  },
  {
   "cell_type": "code",
   "execution_count": 1,
   "id": "1fb271e7",
   "metadata": {},
   "outputs": [],
   "source": [
    "# Start Spark session\n",
    "from pyspark.sql import SparkSession\n",
    "spark = SparkSession.builder.appName(\"CloudETLProject\").getOrCreate()"
   ]
  },
  {
   "cell_type": "code",
   "execution_count": 2,
   "id": "6a96dbc7",
   "metadata": {},
   "outputs": [],
   "source": [
    "from pyspark import SparkFiles\n",
    "# Load in user_data.csv from S3 into a DataFrame\n",
    "url = \"https://s3.amazonaws.com/amazon-reviews-pds/tsv/amazon_reviews_us_Wireless_v1_00.tsv.gz\"\n",
    "spark.sparkContext.addFile(url)"
   ]
  },
  {
   "cell_type": "code",
   "execution_count": null,
   "id": "99ae1ba0",
   "metadata": {},
   "outputs": [],
   "source": [
    "# Count number of records in the spark dataframe\n",
    "df.count()"
   ]
  },
  {
   "cell_type": "code",
   "execution_count": 3,
   "id": "47baa120",
   "metadata": {},
   "outputs": [
    {
     "data": {
      "text/plain": [
       "True"
      ]
     },
     "execution_count": 3,
     "metadata": {},
     "output_type": "execute_result"
    }
   ],
   "source": [
    "# Print schema\n",
    "df.printSchema()"
   ]
  },
  {
   "cell_type": "code",
   "execution_count": 4,
   "id": "ce6b8e57",
   "metadata": {},
   "outputs": [],
   "source": [
    "# connect to local postgres database\n",
    "engine = create_engine(f'postgresql://{DB_USER}:{DB_PASS}@{DB_HOST}:5432/big_data')\n",
    "# load df to database"
   ]
  },
  {
   "cell_type": "code",
   "execution_count": 2,
   "id": "eb6d505e",
   "metadata": {},
   "outputs": [],
   "source": [
    "\n",
    "url = \"https://s3.amazonaws.com/amazon-reviews-pds/tsv/amazon_reviews_us_Wireless_v1_00.tsv.gz\"\n",
    "\n",
    "video_games_url = \"https://s3.amazonaws.com/amazon-reviews-pds/tsv/amazon_reviews_us_Video_Games_v1_00.tsv.gz\"\n",
    "video_games_s3 = \"s3a://amazon-reviews-pds/tsv/amazon_reviews_us_Video_Games_v1_00.tsv.gz\"\n",
    "\n"
   ]
  },
  {
   "cell_type": "code",
   "execution_count": 7,
   "id": "971be15c",
   "metadata": {},
   "outputs": [
    {
     "name": "stderr",
     "output_type": "stream",
     "text": [
      "b'Skipping line 51163: expected 15 fields, saw 22\\n'\n",
      "b'Skipping line 77018: expected 15 fields, saw 22\\nSkipping line 97528: expected 15 fields, saw 22\\n'\n",
      "b'Skipping line 145503: expected 15 fields, saw 22\\nSkipping line 172172: expected 15 fields, saw 22\\nSkipping line 185136: expected 15 fields, saw 22\\nSkipping line 187592: expected 15 fields, saw 22\\n'\n",
      "b'Skipping line 222158: expected 15 fields, saw 22\\nSkipping line 232048: expected 15 fields, saw 22\\nSkipping line 232320: expected 15 fields, saw 22\\nSkipping line 234653: expected 15 fields, saw 22\\nSkipping line 257210: expected 15 fields, saw 22\\nSkipping line 261368: expected 15 fields, saw 22\\n'\n",
      "b'Skipping line 262843: expected 15 fields, saw 22\\nSkipping line 274082: expected 15 fields, saw 22\\nSkipping line 276172: expected 15 fields, saw 22\\nSkipping line 327076: expected 15 fields, saw 22\\n'\n",
      "b'Skipping line 328675: expected 15 fields, saw 22\\nSkipping line 366744: expected 15 fields, saw 22\\nSkipping line 380897: expected 15 fields, saw 22\\nSkipping line 385372: expected 15 fields, saw 22\\nSkipping line 386090: expected 15 fields, saw 22\\nSkipping line 390349: expected 15 fields, saw 22\\n'\n",
      "b'Skipping line 415621: expected 15 fields, saw 22\\nSkipping line 418639: expected 15 fields, saw 22\\nSkipping line 428228: expected 15 fields, saw 22\\nSkipping line 430263: expected 15 fields, saw 22\\nSkipping line 441782: expected 15 fields, saw 22\\n'\n",
      "b'Skipping line 468743: expected 15 fields, saw 22\\n'\n",
      "b'Skipping line 528339: expected 15 fields, saw 22\\nSkipping line 562081: expected 15 fields, saw 22\\nSkipping line 567006: expected 15 fields, saw 22\\nSkipping line 569246: expected 15 fields, saw 22\\nSkipping line 574405: expected 15 fields, saw 22\\n'\n",
      "b'Skipping line 603332: expected 15 fields, saw 22\\nSkipping line 636067: expected 15 fields, saw 22\\n'\n",
      "b'Skipping line 660230: expected 15 fields, saw 22\\nSkipping line 660828: expected 15 fields, saw 22\\nSkipping line 678625: expected 15 fields, saw 22\\n'\n",
      "b'Skipping line 756367: expected 15 fields, saw 22\\nSkipping line 760714: expected 15 fields, saw 22\\nSkipping line 786243: expected 15 fields, saw 22\\n'\n",
      "b'Skipping line 798324: expected 15 fields, saw 22\\nSkipping line 821088: expected 15 fields, saw 22\\nSkipping line 825319: expected 15 fields, saw 22\\n'\n",
      "b'Skipping line 852507: expected 15 fields, saw 22\\nSkipping line 866712: expected 15 fields, saw 22\\nSkipping line 869545: expected 15 fields, saw 22\\n'\n",
      "b'Skipping line 925491: expected 15 fields, saw 22\\nSkipping line 938153: expected 15 fields, saw 22\\nSkipping line 950901: expected 15 fields, saw 22\\nSkipping line 959387: expected 15 fields, saw 22\\nSkipping line 960759: expected 15 fields, saw 22\\n'\n",
      "b'Skipping line 1011924: expected 15 fields, saw 22\\nSkipping line 1029952: expected 15 fields, saw 22\\n'\n",
      "b'Skipping line 1052281: expected 15 fields, saw 22\\nSkipping line 1101791: expected 15 fields, saw 22\\nSkipping line 1111307: expected 15 fields, saw 22\\n'\n",
      "b'Skipping line 1154652: expected 15 fields, saw 22\\nSkipping line 1160926: expected 15 fields, saw 22\\n'\n",
      "b'Skipping line 1231416: expected 15 fields, saw 22\\n'\n",
      "b'Skipping line 1260501: expected 15 fields, saw 22\\nSkipping line 1277534: expected 15 fields, saw 22\\nSkipping line 1296369: expected 15 fields, saw 22\\nSkipping line 1307597: expected 15 fields, saw 22\\n'\n",
      "b'Skipping line 1325090: expected 15 fields, saw 22\\nSkipping line 1334579: expected 15 fields, saw 22\\nSkipping line 1334605: expected 15 fields, saw 22\\n'\n",
      "b'Skipping line 1376783: expected 15 fields, saw 22\\nSkipping line 1433258: expected 15 fields, saw 22\\nSkipping line 1434269: expected 15 fields, saw 22\\nSkipping line 1437609: expected 15 fields, saw 22\\nSkipping line 1439772: expected 15 fields, saw 22\\nSkipping line 1439787: expected 15 fields, saw 22\\n'\n",
      "b'Skipping line 1453075: expected 15 fields, saw 22\\nSkipping line 1459700: expected 15 fields, saw 22\\nSkipping line 1464111: expected 15 fields, saw 22\\nSkipping line 1488577: expected 15 fields, saw 22\\n'\n",
      "b'Skipping line 1557764: expected 15 fields, saw 22\\n'\n",
      "b'Skipping line 1578716: expected 15 fields, saw 22\\nSkipping line 1631571: expected 15 fields, saw 22\\n'\n",
      "b'Skipping line 1650716: expected 15 fields, saw 22\\nSkipping line 1652945: expected 15 fields, saw 22\\nSkipping line 1685704: expected 15 fields, saw 22\\nSkipping line 1694353: expected 15 fields, saw 22\\n'\n",
      "b'Skipping line 1730142: expected 15 fields, saw 22\\nSkipping line 1750283: expected 15 fields, saw 22\\nSkipping line 1755827: expected 15 fields, saw 22\\n'\n",
      "b'Skipping line 1771363: expected 15 fields, saw 22\\nSkipping line 1778652: expected 15 fields, saw 22\\nSkipping line 1786040: expected 15 fields, saw 22\\nSkipping line 1811130: expected 15 fields, saw 22\\n'\n",
      "b'Skipping line 1851243: expected 15 fields, saw 22\\nSkipping line 1859576: expected 15 fields, saw 22\\nSkipping line 1873227: expected 15 fields, saw 22\\nSkipping line 1875708: expected 15 fields, saw 22\\nSkipping line 1875744: expected 15 fields, saw 22\\nSkipping line 1876464: expected 15 fields, saw 22\\n'\n",
      "b'Skipping line 1911896: expected 15 fields, saw 22\\nSkipping line 1927903: expected 15 fields, saw 22\\nSkipping line 1956728: expected 15 fields, saw 22\\nSkipping line 1961194: expected 15 fields, saw 22\\nSkipping line 1964795: expected 15 fields, saw 22\\n'\n",
      "b'Skipping line 1972104: expected 15 fields, saw 22\\nSkipping line 1984043: expected 15 fields, saw 22\\nSkipping line 2014391: expected 15 fields, saw 22\\nSkipping line 2028519: expected 15 fields, saw 22\\nSkipping line 2031468: expected 15 fields, saw 22\\n'\n",
      "b'Skipping line 2043552: expected 15 fields, saw 22\\nSkipping line 2055083: expected 15 fields, saw 22\\nSkipping line 2057381: expected 15 fields, saw 22\\nSkipping line 2059594: expected 15 fields, saw 22\\nSkipping line 2062807: expected 15 fields, saw 22\\nSkipping line 2074663: expected 15 fields, saw 22\\nSkipping line 2091271: expected 15 fields, saw 22\\n'\n",
      "b'Skipping line 2141672: expected 15 fields, saw 22\\nSkipping line 2155845: expected 15 fields, saw 22\\n'\n",
      "b'Skipping line 2203178: expected 15 fields, saw 22\\nSkipping line 2213973: expected 15 fields, saw 22\\nSkipping line 2226402: expected 15 fields, saw 22\\n'\n",
      "b'Skipping line 2228466: expected 15 fields, saw 22\\nSkipping line 2240607: expected 15 fields, saw 22\\n'\n",
      "b'Skipping line 2375154: expected 15 fields, saw 22\\nSkipping line 2392796: expected 15 fields, saw 22\\nSkipping line 2418255: expected 15 fields, saw 22\\nSkipping line 2420805: expected 15 fields, saw 22\\nSkipping line 2422512: expected 15 fields, saw 22\\n'\n",
      "b'Skipping line 2456502: expected 15 fields, saw 22\\nSkipping line 2461503: expected 15 fields, saw 22\\n'\n",
      "b'Skipping line 2502272: expected 15 fields, saw 22\\nSkipping line 2508333: expected 15 fields, saw 22\\nSkipping line 2516880: expected 15 fields, saw 22\\nSkipping line 2527783: expected 15 fields, saw 22\\nSkipping line 2554258: expected 15 fields, saw 22\\n'\n",
      "b'Skipping line 2559624: expected 15 fields, saw 22\\nSkipping line 2615834: expected 15 fields, saw 22\\n'\n",
      "b'Skipping line 2649950: expected 15 fields, saw 22\\nSkipping line 2655521: expected 15 fields, saw 22\\nSkipping line 2662038: expected 15 fields, saw 22\\n'\n",
      "b'Skipping line 2704137: expected 15 fields, saw 22\\nSkipping line 2747242: expected 15 fields, saw 22\\nSkipping line 2749072: expected 15 fields, saw 22\\n'\n",
      "b'Skipping line 2769812: expected 15 fields, saw 22\\nSkipping line 2806620: expected 15 fields, saw 22\\n'\n",
      "b'Skipping line 2868142: expected 15 fields, saw 22\\n'\n",
      "b'Skipping line 2928728: expected 15 fields, saw 22\\n'\n",
      "b'Skipping line 3060440: expected 15 fields, saw 22\\nSkipping line 3074844: expected 15 fields, saw 22\\nSkipping line 3078673: expected 15 fields, saw 22\\n'\n",
      "b'Skipping line 3086850: expected 15 fields, saw 22\\nSkipping line 3097846: expected 15 fields, saw 22\\nSkipping line 3108353: expected 15 fields, saw 22\\nSkipping line 3108833: expected 15 fields, saw 22\\nSkipping line 3141546: expected 15 fields, saw 22\\nSkipping line 3141841: expected 15 fields, saw 22\\n'\n",
      "b'Skipping line 3177323: expected 15 fields, saw 22\\n'\n",
      "b'Skipping line 3301495: expected 15 fields, saw 22\\nSkipping line 3303685: expected 15 fields, saw 22\\nSkipping line 3307866: expected 15 fields, saw 22\\nSkipping line 3331179: expected 15 fields, saw 22\\n'\n"
     ]
    },
    {
     "name": "stderr",
     "output_type": "stream",
     "text": [
      "b'Skipping line 3350797: expected 15 fields, saw 22\\nSkipping line 3353129: expected 15 fields, saw 22\\nSkipping line 3359991: expected 15 fields, saw 22\\nSkipping line 3374754: expected 15 fields, saw 22\\nSkipping line 3384256: expected 15 fields, saw 22\\n'\n",
      "b'Skipping line 3466921: expected 15 fields, saw 22\\n'\n",
      "b'Skipping line 3489262: expected 15 fields, saw 22\\nSkipping line 3495576: expected 15 fields, saw 22\\nSkipping line 3523962: expected 15 fields, saw 22\\nSkipping line 3529611: expected 15 fields, saw 22\\nSkipping line 3531020: expected 15 fields, saw 22\\nSkipping line 3536942: expected 15 fields, saw 22\\n'\n",
      "b'Skipping line 3541414: expected 15 fields, saw 22\\nSkipping line 3552928: expected 15 fields, saw 22\\nSkipping line 3586921: expected 15 fields, saw 22\\nSkipping line 3599085: expected 15 fields, saw 22\\n'\n",
      "b'Skipping line 3613803: expected 15 fields, saw 22\\nSkipping line 3615552: expected 15 fields, saw 22\\nSkipping line 3617751: expected 15 fields, saw 22\\nSkipping line 3640481: expected 15 fields, saw 22\\nSkipping line 3665208: expected 15 fields, saw 22\\n'\n",
      "b'Skipping line 3675914: expected 15 fields, saw 22\\n'\n",
      "b'Skipping line 3738934: expected 15 fields, saw 22\\nSkipping line 3744765: expected 15 fields, saw 22\\nSkipping line 3770180: expected 15 fields, saw 22\\nSkipping line 3777748: expected 15 fields, saw 22\\nSkipping line 3780701: expected 15 fields, saw 22\\n'\n",
      "b'Skipping line 3837914: expected 15 fields, saw 22\\nSkipping line 3858205: expected 15 fields, saw 22\\n'\n",
      "b'Skipping line 3917010: expected 15 fields, saw 22\\nSkipping line 3928876: expected 15 fields, saw 22\\n'\n",
      "b'Skipping line 3953578: expected 15 fields, saw 22\\n'\n",
      "b'Skipping line 3998250: expected 15 fields, saw 22\\nSkipping line 4014291: expected 15 fields, saw 22\\n'\n",
      "b'Skipping line 4108511: expected 15 fields, saw 22\\n'\n",
      "b'Skipping line 4159047: expected 15 fields, saw 22\\nSkipping line 4159918: expected 15 fields, saw 22\\n'\n",
      "b'Skipping line 4278132: expected 15 fields, saw 22\\nSkipping line 4280362: expected 15 fields, saw 22\\nSkipping line 4319821: expected 15 fields, saw 22\\n'\n",
      "b'Skipping line 4346435: expected 15 fields, saw 22\\nSkipping line 4352265: expected 15 fields, saw 22\\nSkipping line 4363896: expected 15 fields, saw 22\\nSkipping line 4383897: expected 15 fields, saw 22\\nSkipping line 4385506: expected 15 fields, saw 22\\n'\n",
      "b'Skipping line 4482367: expected 15 fields, saw 22\\nSkipping line 4491605: expected 15 fields, saw 22\\nSkipping line 4520374: expected 15 fields, saw 22\\n'\n",
      "b'Skipping line 4540276: expected 15 fields, saw 22\\nSkipping line 4546846: expected 15 fields, saw 22\\nSkipping line 4572266: expected 15 fields, saw 22\\nSkipping line 4575956: expected 15 fields, saw 22\\n'\n",
      "b'Skipping line 4591310: expected 15 fields, saw 22\\n'\n",
      "b'Skipping line 4689145: expected 15 fields, saw 22\\nSkipping line 4702660: expected 15 fields, saw 22\\nSkipping line 4716887: expected 15 fields, saw 22\\n'\n",
      "b'Skipping line 4735482: expected 15 fields, saw 22\\nSkipping line 4781074: expected 15 fields, saw 22\\n'\n",
      "b'Skipping line 4804591: expected 15 fields, saw 22\\n'\n",
      "b'Skipping line 4990535: expected 15 fields, saw 22\\n'\n",
      "b'Skipping line 5415775: expected 15 fields, saw 22\\n'\n",
      "b'Skipping line 5506042: expected 15 fields, saw 22\\nSkipping line 5522317: expected 15 fields, saw 22\\n'\n",
      "b'Skipping line 5625291: expected 15 fields, saw 22\\n'\n",
      "b'Skipping line 5860345: expected 15 fields, saw 22\\n'\n",
      "b'Skipping line 5939648: expected 15 fields, saw 22\\n'\n",
      "b'Skipping line 6027713: expected 15 fields, saw 22\\n'\n",
      "b'Skipping line 6146975: expected 15 fields, saw 22\\n'\n",
      "b'Skipping line 6388986: expected 15 fields, saw 22\\n'\n",
      "b'Skipping line 7073026: expected 15 fields, saw 22\\n'\n",
      "b'Skipping line 7311194: expected 15 fields, saw 22\\n'\n",
      "b'Skipping line 7952497: expected 15 fields, saw 22\\n'\n",
      "b'Skipping line 8416412: expected 15 fields, saw 22\\n'\n",
      "/opt/anaconda3/envs/PythonData/lib/python3.6/site-packages/IPython/core/interactiveshell.py:3072: DtypeWarning: Columns (7) have mixed types.Specify dtype option on import or set low_memory=False.\n",
      "  interactivity=interactivity, compiler=compiler, result=result)\n"
     ]
    }
   ],
   "source": [
    "# read url with pandas \n",
    "df = pd.read_csv(url,sep='\\t',error_bad_lines=False)"
   ]
  },
  {
   "cell_type": "code",
   "execution_count": 8,
   "id": "0f06ad49",
   "metadata": {},
   "outputs": [
    {
     "name": "stdout",
     "output_type": "stream",
     "text": [
      "Requirement already satisfied: pyspark in /opt/anaconda3/envs/PythonData/lib/python3.6/site-packages (3.2.0)\r\n",
      "Requirement already satisfied: py4j==0.10.9.2 in /opt/anaconda3/envs/PythonData/lib/python3.6/site-packages (from pyspark) (0.10.9.2)\r\n"
     ]
    }
   ],
   "source": [
    "# video_games_df = spark.read.option(\"header\", \"true\").csv(\"s3a://amazon-reviews-pds/tsv/amazon_reviews_us_Video_Games_v1_00.tsv.gz\", inferSchema=True, sep=\"\\t\")\n",
    "!pip install pyspark"
   ]
  },
  {
   "cell_type": "code",
   "execution_count": 9,
   "id": "a84256dc",
   "metadata": {},
   "outputs": [
    {
     "ename": "NameError",
     "evalue": "name 'spark' is not defined",
     "output_type": "error",
     "traceback": [
      "\u001b[0;31m---------------------------------------------------------------------------\u001b[0m",
      "\u001b[0;31mNameError\u001b[0m                                 Traceback (most recent call last)",
      "\u001b[0;32m<ipython-input-9-0957c9285fcb>\u001b[0m in \u001b[0;36m<module>\u001b[0;34m\u001b[0m\n\u001b[0;32m----> 1\u001b[0;31m \u001b[0mvideo_games_df\u001b[0m \u001b[0;34m=\u001b[0m \u001b[0mspark\u001b[0m\u001b[0;34m.\u001b[0m\u001b[0mread\u001b[0m\u001b[0;34m.\u001b[0m\u001b[0moption\u001b[0m\u001b[0;34m(\u001b[0m\u001b[0;34m\"header\"\u001b[0m\u001b[0;34m,\u001b[0m \u001b[0;34m\"true\"\u001b[0m\u001b[0;34m)\u001b[0m\u001b[0;34m.\u001b[0m\u001b[0mcsv\u001b[0m\u001b[0;34m(\u001b[0m\u001b[0;34m\"s3a://amazon-reviews-pds/tsv/amazon_reviews_us_Video_Games_v1_00.tsv.gz\"\u001b[0m\u001b[0;34m,\u001b[0m \u001b[0minferSchema\u001b[0m\u001b[0;34m=\u001b[0m\u001b[0;32mTrue\u001b[0m\u001b[0;34m,\u001b[0m \u001b[0msep\u001b[0m\u001b[0;34m=\u001b[0m\u001b[0;34m\"\\t\"\u001b[0m\u001b[0;34m)\u001b[0m\u001b[0;34m\u001b[0m\u001b[0;34m\u001b[0m\u001b[0m\n\u001b[0m",
      "\u001b[0;31mNameError\u001b[0m: name 'spark' is not defined"
     ]
    }
   ],
   "source": [
    "video_games_df = spark.read.option(\"header\", \"true\").csv(\"s3a://amazon-reviews-pds/tsv/amazon_reviews_us_Video_Games_v1_00.tsv.gz\", inferSchema=True, sep=\"\\t\")"
   ]
  },
  {
   "cell_type": "code",
   "execution_count": 10,
   "id": "66a61460",
   "metadata": {},
   "outputs": [
    {
     "ename": "ImportError",
     "evalue": "cannot import name 'SparkFiles'",
     "output_type": "error",
     "traceback": [
      "\u001b[0;31m---------------------------------------------------------------------------\u001b[0m",
      "\u001b[0;31mImportError\u001b[0m                               Traceback (most recent call last)",
      "\u001b[0;32m<ipython-input-10-600c4a97a746>\u001b[0m in \u001b[0;36m<module>\u001b[0;34m\u001b[0m\n\u001b[0;32m----> 1\u001b[0;31m \u001b[0;32mfrom\u001b[0m \u001b[0mpyspark\u001b[0m \u001b[0;32mimport\u001b[0m \u001b[0mSparkFiles\u001b[0m\u001b[0;34m\u001b[0m\u001b[0;34m\u001b[0m\u001b[0m\n\u001b[0m\u001b[1;32m      2\u001b[0m \u001b[0;31m# Load in user_data.csv from S3 into a DataFrame\u001b[0m\u001b[0;34m\u001b[0m\u001b[0;34m\u001b[0m\u001b[0;34m\u001b[0m\u001b[0m\n\u001b[1;32m      3\u001b[0m \u001b[0murl\u001b[0m \u001b[0;34m=\u001b[0m \u001b[0;34m\"https://s3.amazonaws.com/amazon-reviews-pds/tsv/amazon_reviews_us_Wireless_v1_00.tsv.gz\"\u001b[0m\u001b[0;34m\u001b[0m\u001b[0;34m\u001b[0m\u001b[0m\n\u001b[1;32m      4\u001b[0m \u001b[0mspark\u001b[0m\u001b[0;34m.\u001b[0m\u001b[0msparkContext\u001b[0m\u001b[0;34m.\u001b[0m\u001b[0maddFile\u001b[0m\u001b[0;34m(\u001b[0m\u001b[0murl\u001b[0m\u001b[0;34m)\u001b[0m\u001b[0;34m\u001b[0m\u001b[0;34m\u001b[0m\u001b[0m\n",
      "\u001b[0;31mImportError\u001b[0m: cannot import name 'SparkFiles'"
     ]
    }
   ],
   "source": [
    "from pyspark import SparkFiles\n",
    "# Load in user_data.csv from S3 into a DataFrame\n",
    "url = \"https://s3.amazonaws.com/amazon-reviews-pds/tsv/amazon_reviews_us_Wireless_v1_00.tsv.gz\"\n",
    "spark.sparkContext.addFile(url)"
   ]
  },
  {
   "cell_type": "code",
   "execution_count": null,
   "id": "e9e30802",
   "metadata": {},
   "outputs": [],
   "source": []
  }
 ],
 "metadata": {
  "kernelspec": {
   "display_name": "Python [conda env:PythonData] *",
   "language": "python",
   "name": "conda-env-PythonData-py"
  },
  "language_info": {
   "codemirror_mode": {
    "name": "ipython",
    "version": 3
   },
   "file_extension": ".py",
   "mimetype": "text/x-python",
   "name": "python",
   "nbconvert_exporter": "python",
   "pygments_lexer": "ipython3",
   "version": "3.6.13"
  }
 },
 "nbformat": 4,
 "nbformat_minor": 5
}
