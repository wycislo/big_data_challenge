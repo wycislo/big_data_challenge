{
 "cells": [
  {
   "cell_type": "markdown",
   "id": "70ae0725",
   "metadata": {},
   "source": [
    "## Big Data Challenge\n",
    "### Goals\n",
    "\n",
    "1) Perform the ETL process completely in the cloud and upload a dataframe to an RDS instance\n",
    "\n",
    "2) Use PySpark or SQL to perform a statistical analysis of selected data.\n",
    "\n",
    "3) I am using my local machine to run spark so I can load the data to my local postgres database and avoid paying Amazon. "
   ]
  },
  {
   "cell_type": "code",
   "execution_count": 32,
   "id": "1b2fb74f",
   "metadata": {},
   "outputs": [
    {
     "data": {
      "text/plain": [
       "True"
      ]
     },
     "execution_count": 32,
     "metadata": {},
     "output_type": "execute_result"
    }
   ],
   "source": [
    "# https://medium.com/beeranddiapers/installing-apache-spark-on-mac-os-ce416007d79f\n",
    "# installed spark on mac using brew and modified bash_profile \n",
    "import os\n",
    "SPARK_VERSION = 'spark-3.3.1'\n",
    "import findspark\n",
    "findspark.init()\n",
    "from dotenv import load_dotenv\n",
    "from pyspark.sql.functions import col,to_date,count\n",
    "DB_HOST = os.getenv('DB_HOST')\n",
    "DB_NAME = os.getenv('DB_NAME')\n",
    "DB_USER = os.getenv('DB_USER')\n",
    "DB_PASS = os.getenv('DB_PASS')\n",
    "load_dotenv()"
   ]
  },
  {
   "cell_type": "code",
   "execution_count": 6,
   "id": "1fb271e7",
   "metadata": {},
   "outputs": [],
   "source": [
    "# Start Spark session on local machine\n",
    "# from pyspark.sql import SparkSession\n",
    "# spark = SparkSession.builder.appName(\"CloudETLProject\").getOrCreate()\n",
    "\n",
    "from pyspark.sql import SparkSession\n",
    "\n",
    "spark = SparkSession \\\n",
    "    .builder \\\n",
    "    .appName(\"Python Spark write to postgres example\") \\\n",
    "    .config(\"spark.jars\", \"/usr/local/Cellar/apache-spark/3.2.0/libexec/jars/postgresql-42.2.9.jar\") \\\n",
    "    .getOrCreate()\n"
   ]
  },
  {
   "cell_type": "code",
   "execution_count": 7,
   "id": "6a96dbc7",
   "metadata": {},
   "outputs": [],
   "source": [
    "from pyspark import SparkFiles\n",
    "# Load in user_data.csv from S3 into a DataFrame\n",
    "url = \"https://s3.amazonaws.com/amazon-reviews-pds/tsv/amazon_reviews_us_Wireless_v1_00.tsv.gz\"\n",
    "spark.sparkContext.addFile(url)"
   ]
  },
  {
   "cell_type": "code",
   "execution_count": 8,
   "id": "56593837",
   "metadata": {},
   "outputs": [],
   "source": [
    "df = spark.read.option('header', 'true').csv(SparkFiles.get(\"amazon_reviews_us_Wireless_v1_00.tsv.gz\"), inferSchema=True, sep='\\t', timestampFormat=\"mm/dd/yy\")\n",
    "# df.show(10)"
   ]
  },
  {
   "cell_type": "code",
   "execution_count": 9,
   "id": "99ae1ba0",
   "metadata": {},
   "outputs": [
    {
     "data": {
      "text/plain": [
       "9002021"
      ]
     },
     "execution_count": 9,
     "metadata": {},
     "output_type": "execute_result"
    }
   ],
   "source": [
    "# Count number of records in the spark dataframe\n",
    "df.count()"
   ]
  },
  {
   "cell_type": "code",
   "execution_count": 10,
   "id": "47baa120",
   "metadata": {},
   "outputs": [
    {
     "name": "stdout",
     "output_type": "stream",
     "text": [
      "root\n",
      " |-- marketplace: string (nullable = true)\n",
      " |-- customer_id: integer (nullable = true)\n",
      " |-- review_id: string (nullable = true)\n",
      " |-- product_id: string (nullable = true)\n",
      " |-- product_parent: integer (nullable = true)\n",
      " |-- product_title: string (nullable = true)\n",
      " |-- product_category: string (nullable = true)\n",
      " |-- star_rating: string (nullable = true)\n",
      " |-- helpful_votes: integer (nullable = true)\n",
      " |-- total_votes: integer (nullable = true)\n",
      " |-- vine: string (nullable = true)\n",
      " |-- verified_purchase: string (nullable = true)\n",
      " |-- review_headline: string (nullable = true)\n",
      " |-- review_body: string (nullable = true)\n",
      " |-- review_date: string (nullable = true)\n",
      "\n"
     ]
    }
   ],
   "source": [
    "# Print schema\n",
    "df.printSchema()"
   ]
  },
  {
   "cell_type": "code",
   "execution_count": 24,
   "id": "ce6b8e57",
   "metadata": {},
   "outputs": [],
   "source": [
    "# Create review dataframe\n",
    "review_table = df.select(\"customer_id\",\"product_id\",\"product_parent\",\"review_date\")"
   ]
  },
  {
   "cell_type": "code",
   "execution_count": 26,
   "id": "dd3f1613",
   "metadata": {},
   "outputs": [
    {
     "name": "stdout",
     "output_type": "stream",
     "text": [
      "+-----------+----------+--------------+-----------+\n",
      "|customer_id|product_id|product_parent|review_date|\n",
      "+-----------+----------+--------------+-----------+\n",
      "|   16414143|B00YL0EKWE|     852431543| 2015-08-31|\n",
      "|   50800750|B00XK95RPQ|     516894650| 2015-08-31|\n",
      "|   15184378|B00SXRXUKO|     984297154| 2015-08-31|\n",
      "|   10203548|B009V5X1CE|     279912704| 2015-08-31|\n",
      "|     488280|B00D93OVF0|     662791300| 2015-08-31|\n",
      "|   13334021|B00XVGJMDQ|     421688488| 2015-08-31|\n",
      "|   27520697|B00KQW1X1C|     554285554| 2015-08-31|\n",
      "|   48086021|B00IP1MQNK|     488006702| 2015-08-31|\n",
      "|   12738196|B00HVORET8|     389677711| 2015-08-31|\n",
      "|   15867807|B00HX3G6J6|     299654876| 2015-08-31|\n",
      "|    1972249|B00U4NATNQ|     577878727| 2015-08-31|\n",
      "|   10956619|B00SZEFDH8|     654620704| 2015-08-31|\n",
      "|   14805911|B00JRJUL9U|     391166958| 2015-08-31|\n",
      "|   15611116|B00KQ4T0HE|     481551630| 2015-08-31|\n",
      "|   39298603|B00M0YWKPM|     685107474| 2015-08-31|\n",
      "|   17552454|B00KDZEE68|     148320945| 2015-08-31|\n",
      "|   12218556|B00BJN45GM|      47788188| 2015-08-31|\n",
      "|   21872923|B00SA86SXW|     748759272| 2015-08-31|\n",
      "|   16264332|B00Q3I68TU|     974085141| 2015-08-31|\n",
      "|    6042304|B00TN4J1TA|     716174627| 2015-08-31|\n",
      "+-----------+----------+--------------+-----------+\n",
      "only showing top 20 rows\n",
      "\n"
     ]
    }
   ],
   "source": [
    "type(review_table)\n",
    "review_table.show()"
   ]
  },
  {
   "cell_type": "markdown",
   "id": "6de8bffd",
   "metadata": {},
   "source": [
    "## Spent HOURS trying to figure out why I could not write the contents of a dataframe to a table. \n",
    "## https://cumsum.wordpress.com/2020/09/26/pyspark-attributeerror-nonetype-object-has-no-attribute/\n",
    "### The cause was I had a .show() at the end of my create dataframe command. The show returns a none object. Instead, execute the create dataframe by itself then excute a dataframe.show() on the next command. \n"
   ]
  },
  {
   "cell_type": "code",
   "execution_count": 27,
   "id": "340bd690",
   "metadata": {},
   "outputs": [],
   "source": [
    "review_table.write \\\n",
    "    .mode(\"overwrite\") \\\n",
    "    .format(\"jdbc\") \\\n",
    "    .option(\"url\", \"jdbc:postgresql://localhost:5432/big_data\") \\\n",
    "    .option(\"dbtable\", \"review_id_table\") \\\n",
    "    .option(\"user\", DB_USER) \\\n",
    "    .option(\"password\", DB_PASS) \\\n",
    "    .option(\"driver\", \"org.postgresql.Driver\") \\\n",
    "    .save()"
   ]
  },
  {
   "cell_type": "code",
   "execution_count": 28,
   "id": "3389aaed",
   "metadata": {},
   "outputs": [],
   "source": [
    "# Create products dataframe\n",
    "products_table = df.select(\"product_id\",\"product_title\")"
   ]
  },
  {
   "cell_type": "code",
   "execution_count": 29,
   "id": "ff493fee",
   "metadata": {},
   "outputs": [],
   "source": [
    "products_table.write \\\n",
    "    .mode(\"overwrite\") \\\n",
    "    .format(\"jdbc\") \\\n",
    "    .option(\"url\", \"jdbc:postgresql://localhost:5432/big_data\") \\\n",
    "    .option(\"dbtable\", \"products\") \\\n",
    "    .option(\"user\", DB_USER) \\\n",
    "    .option(\"password\", DB_PASS) \\\n",
    "    .option(\"driver\", \"org.postgresql.Driver\") \\\n",
    "    .save()"
   ]
  },
  {
   "cell_type": "code",
   "execution_count": 30,
   "id": "2affe7e7",
   "metadata": {},
   "outputs": [],
   "source": [
    "# Create vine dataframe\n",
    "vine_table = df.select(\"review_id\",\"star_rating\",\"helpful_votes\",\"total_votes\",\"vine\")"
   ]
  },
  {
   "cell_type": "code",
   "execution_count": 31,
   "id": "7f0b3724",
   "metadata": {},
   "outputs": [],
   "source": [
    "vine_table.write \\\n",
    "    .mode(\"overwrite\") \\\n",
    "    .format(\"jdbc\") \\\n",
    "    .option(\"url\", \"jdbc:postgresql://localhost:5432/big_data\") \\\n",
    "    .option(\"dbtable\", \"vine_table\") \\\n",
    "    .option(\"user\", DB_USER) \\\n",
    "    .option(\"password\", DB_PASS) \\\n",
    "    .option(\"driver\", \"org.postgresql.Driver\") \\\n",
    "    .save()"
   ]
  },
  {
   "cell_type": "code",
   "execution_count": 33,
   "id": "e9e30802",
   "metadata": {},
   "outputs": [
    {
     "name": "stdout",
     "output_type": "stream",
     "text": [
      "+-----------+--------------+\n",
      "|customer_id|customer_count|\n",
      "+-----------+--------------+\n",
      "|   46909180|             6|\n",
      "|   42560427|             7|\n",
      "|   43789873|             3|\n",
      "|   22037526|             2|\n",
      "|   34220092|             2|\n",
      "|   42801586|             1|\n",
      "|    9565734|             2|\n",
      "|   15829398|             1|\n",
      "|   38247118|             1|\n",
      "|   32478248|             2|\n",
      "|   48114630|             1|\n",
      "|   23085063|             1|\n",
      "|   32787070|             3|\n",
      "|   43515569|             1|\n",
      "|    4919528|             2|\n",
      "|    5088547|             2|\n",
      "|   41852407|             3|\n",
      "|   49703087|             1|\n",
      "|   12713799|             1|\n",
      "|   36728141|             8|\n",
      "+-----------+--------------+\n",
      "only showing top 20 rows\n",
      "\n"
     ]
    }
   ],
   "source": [
    "# customer counts\n",
    "customers_table = df.select(col('customer_id').cast('int')).groupBy('customer_id').agg(count('customer_id').alias(\"customer_count\") )\n",
    "customers_table.show()"
   ]
  },
  {
   "cell_type": "code",
   "execution_count": null,
   "id": "63737373",
   "metadata": {},
   "outputs": [],
   "source": []
  }
 ],
 "metadata": {
  "kernelspec": {
   "display_name": "Python [conda env:PythonData] *",
   "language": "python",
   "name": "conda-env-PythonData-py"
  },
  "language_info": {
   "codemirror_mode": {
    "name": "ipython",
    "version": 3
   },
   "file_extension": ".py",
   "mimetype": "text/x-python",
   "name": "python",
   "nbconvert_exporter": "python",
   "pygments_lexer": "ipython3",
   "version": "3.6.13"
  }
 },
 "nbformat": 4,
 "nbformat_minor": 5
}
