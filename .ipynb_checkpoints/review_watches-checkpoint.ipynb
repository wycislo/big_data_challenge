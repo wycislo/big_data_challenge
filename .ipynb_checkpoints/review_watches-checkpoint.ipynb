{
 "cells": [
  {
   "cell_type": "code",
   "execution_count": 1,
   "id": "4e59291b",
   "metadata": {},
   "outputs": [
    {
     "ename": "SyntaxError",
     "evalue": "invalid syntax (<ipython-input-1-4eb32bac2b4a>, line 1)",
     "output_type": "error",
     "traceback": [
      "\u001b[0;36m  File \u001b[0;32m\"<ipython-input-1-4eb32bac2b4a>\"\u001b[0;36m, line \u001b[0;32m1\u001b[0m\n\u001b[0;31m    https://s3.amazonaws.com/amazon-reviews-pds/tsv/amazon_reviews_us_Watches_v1_00.tsv.gz\u001b[0m\n\u001b[0m           ^\u001b[0m\n\u001b[0;31mSyntaxError\u001b[0m\u001b[0;31m:\u001b[0m invalid syntax\n"
     ]
    }
   ],
   "source": [
    "https://s3.amazonaws.com/amazon-reviews-pds/tsv/amazon_reviews_us_Watches_v1_00.tsv.gz\n",
    "    "
   ]
  },
  {
   "cell_type": "markdown",
   "id": "5db8a37f",
   "metadata": {},
   "source": [
    "## Big Data Challenge notebook #2\n",
    "### Goals\n",
    "\n",
    "1) Perform the ETL process completely in the cloud and upload a dataframe to an RDS instance\n",
    "\n",
    "2) Use PySpark or SQL to perform a statistical analysis of selected data.\n",
    "\n",
    "3) I am using my local machine to run spark so I can load the data to my local postgres database and avoid paying Amazon. "
   ]
  },
  {
   "cell_type": "code",
   "execution_count": null,
   "id": "ec52b1f4",
   "metadata": {},
   "outputs": [],
   "source": []
  }
 ],
 "metadata": {
  "kernelspec": {
   "display_name": "Python [conda env:PythonData] *",
   "language": "python",
   "name": "conda-env-PythonData-py"
  },
  "language_info": {
   "codemirror_mode": {
    "name": "ipython",
    "version": 3
   },
   "file_extension": ".py",
   "mimetype": "text/x-python",
   "name": "python",
   "nbconvert_exporter": "python",
   "pygments_lexer": "ipython3",
   "version": "3.6.13"
  }
 },
 "nbformat": 4,
 "nbformat_minor": 5
}
