{
 "cells": [
  {
   "cell_type": "code",
   "execution_count": 0,
   "metadata": {
    "application/vnd.databricks.v1+cell": {
     "inputWidgets": {},
     "nuid": "f8cadc0e-dfcf-4afd-9024-e0122efbf552",
     "showTitle": false,
     "title": ""
    }
   },
   "outputs": [
    {
     "data": {
      "text/plain": [
       "Out[7]: [FileInfo(path='dbfs:/FileStore/tables/species.csv', name='species.csv', size=1605),\n",
       " FileInfo(path='dbfs:/FileStore/tables/surveys.csv', name='surveys.csv', size=1021588),\n",
       " FileInfo(path='dbfs:/FileStore/tables/ufoSightings.csv', name='ufoSightings.csv', size=13685183),\n",
       " FileInfo(path='dbfs:/FileStore/tables/vehicles.csv', name='vehicles.csv', size=8732953),\n",
       " FileInfo(path='dbfs:/FileStore/tables/vehicles.parquet', name='vehicles.parquet', size=4975246)]"
      ]
     },
     "metadata": {
      "application/vnd.databricks.v1+output": {
       "addedWidgets": {},
       "arguments": {},
       "data": "Out[7]: [FileInfo(path='dbfs:/FileStore/tables/species.csv', name='species.csv', size=1605),\n FileInfo(path='dbfs:/FileStore/tables/surveys.csv', name='surveys.csv', size=1021588),\n FileInfo(path='dbfs:/FileStore/tables/ufoSightings.csv', name='ufoSightings.csv', size=13685183),\n FileInfo(path='dbfs:/FileStore/tables/vehicles.csv', name='vehicles.csv', size=8732953),\n FileInfo(path='dbfs:/FileStore/tables/vehicles.parquet', name='vehicles.parquet', size=4975246)]",
       "datasetInfos": [],
       "metadata": {},
       "removedWidgets": [],
       "type": "ansi"
      }
     },
     "output_type": "display_data"
    }
   ],
   "source": [
    "# dbutils.fs.ls('FileStore/tables/northwind')\n",
    "dbutils.fs.ls('FileStore/tables/')"
   ]
  },
  {
   "cell_type": "code",
   "execution_count": 0,
   "metadata": {
    "application/vnd.databricks.v1+cell": {
     "inputWidgets": {},
     "nuid": "400380e4-d74d-4c09-a072-534491a3c77c",
     "showTitle": false,
     "title": ""
    }
   },
   "outputs": [],
   "source": [
    "file_links = {\n",
    "  \"categories\": \"s3://2u-data-curriculum-team/dataviz-classroom/v1.1/22-big-data/categories.csv\",\n",
    "  \"customers\": \"s3://2u-data-curriculum-team/dataviz-classroom/v1.1/22-big-data/customers.csv\",\n",
    "  \"employee_territories\": \"s3://2u-data-curriculum-team/dataviz-classroom/v1.1/22-big-data/employee-territories.csv\",\n",
    "  \"employees\": \"s3://2u-data-curriculum-team/dataviz-classroom/v1.1/22-big-data/employees.csv\",\n",
    "  \"order_details\": \"s3://2u-data-curriculum-team/dataviz-classroom/v1.1/22-big-data/order-details.csv\",\n",
    "  \"orders\": \"s3://2u-data-curriculum-team/dataviz-classroom/v1.1/22-big-data/orders.csv\",\n",
    "  \"products\": \"s3://2u-data-curriculum-team/dataviz-classroom/v1.1/22-big-data/products.csv\",\n",
    "  \"regions\": \"s3://2u-data-curriculum-team/dataviz-classroom/v1.1/22-big-data/regions.csv\",\n",
    "  \"shippers\": \"s3://2u-data-curriculum-team/dataviz-classroom/v1.1/22-big-data/shippers.csv\",\n",
    "  \"suppliers\": \"s3://2u-data-curriculum-team/dataviz-classroom/v1.1/22-big-data/suppliers.csv\",\n",
    "  \"territories\": \"s3://2u-data-curriculum-team/dataviz-classroom/v1.1/22-big-data/territories.csv\"\n",
    "}"
   ]
  },
  {
   "cell_type": "code",
   "execution_count": 0,
   "metadata": {
    "application/vnd.databricks.v1+cell": {
     "inputWidgets": {},
     "nuid": "bd82bb99-1479-4d5c-be10-8c36df0f1d44",
     "showTitle": false,
     "title": ""
    }
   },
   "outputs": [],
   "source": [
    "for table_name, table_path in file_links.items():\n",
    "  df_name = table_name + \"_df\"\n",
    "  df_name = spark.read.csv(table_path, inferSchema=True, header=True)\n",
    "  df_name.createOrReplaceTempView(table_name)\n",
    "  "
   ]
  },
  {
   "cell_type": "code",
   "execution_count": 0,
   "metadata": {
    "application/vnd.databricks.v1+cell": {
     "inputWidgets": {},
     "nuid": "0d11313c-e710-40ef-9829-c82800e2e208",
     "showTitle": false,
     "title": ""
    }
   },
   "outputs": [
    {
     "data": {
      "text/plain": [
       "Out[5]: [Table(name='categories', database=None, description=None, tableType='TEMPORARY', isTemporary=True),\n",
       " Table(name='customers', database=None, description=None, tableType='TEMPORARY', isTemporary=True),\n",
       " Table(name='employee_territories', database=None, description=None, tableType='TEMPORARY', isTemporary=True),\n",
       " Table(name='employees', database=None, description=None, tableType='TEMPORARY', isTemporary=True),\n",
       " Table(name='order_details', database=None, description=None, tableType='TEMPORARY', isTemporary=True),\n",
       " Table(name='orders', database=None, description=None, tableType='TEMPORARY', isTemporary=True),\n",
       " Table(name='products', database=None, description=None, tableType='TEMPORARY', isTemporary=True),\n",
       " Table(name='regions', database=None, description=None, tableType='TEMPORARY', isTemporary=True),\n",
       " Table(name='shippers', database=None, description=None, tableType='TEMPORARY', isTemporary=True),\n",
       " Table(name='suppliers', database=None, description=None, tableType='TEMPORARY', isTemporary=True),\n",
       " Table(name='territories', database=None, description=None, tableType='TEMPORARY', isTemporary=True)]"
      ]
     },
     "metadata": {
      "application/vnd.databricks.v1+output": {
       "addedWidgets": {},
       "arguments": {},
       "data": "Out[5]: [Table(name='categories', database=None, description=None, tableType='TEMPORARY', isTemporary=True),\n Table(name='customers', database=None, description=None, tableType='TEMPORARY', isTemporary=True),\n Table(name='employee_territories', database=None, description=None, tableType='TEMPORARY', isTemporary=True),\n Table(name='employees', database=None, description=None, tableType='TEMPORARY', isTemporary=True),\n Table(name='order_details', database=None, description=None, tableType='TEMPORARY', isTemporary=True),\n Table(name='orders', database=None, description=None, tableType='TEMPORARY', isTemporary=True),\n Table(name='products', database=None, description=None, tableType='TEMPORARY', isTemporary=True),\n Table(name='regions', database=None, description=None, tableType='TEMPORARY', isTemporary=True),\n Table(name='shippers', database=None, description=None, tableType='TEMPORARY', isTemporary=True),\n Table(name='suppliers', database=None, description=None, tableType='TEMPORARY', isTemporary=True),\n Table(name='territories', database=None, description=None, tableType='TEMPORARY', isTemporary=True)]",
       "datasetInfos": [],
       "metadata": {},
       "removedWidgets": [],
       "type": "ansi"
      }
     },
     "output_type": "display_data"
    }
   ],
   "source": [
    "spark.catalog.listTables()"
   ]
  },
  {
   "cell_type": "code",
   "execution_count": 0,
   "metadata": {
    "application/vnd.databricks.v1+cell": {
     "inputWidgets": {},
     "nuid": "98d50c7d-59cd-438c-992d-46331938fff2",
     "showTitle": false,
     "title": ""
    }
   },
   "outputs": [
    {
     "data": {
      "text/html": [
       "<style scoped>\n",
       "  .table-result-container {\n",
       "    max-height: 300px;\n",
       "    overflow: auto;\n",
       "  }\n",
       "  table, th, td {\n",
       "    border: 1px solid black;\n",
       "    border-collapse: collapse;\n",
       "  }\n",
       "  th, td {\n",
       "    padding: 5px;\n",
       "  }\n",
       "  th {\n",
       "    text-align: left;\n",
       "  }\n",
       "</style><div class='table-result-container'><table class='table-result'><thead style='background-color: white'><tr><th>ShipCountry</th></tr></thead><tbody><tr><td>Sweden</td></tr><tr><td>Germany</td></tr><tr><td>France</td></tr><tr><td>Argentina</td></tr><tr><td>Belgium</td></tr><tr><td>Finland</td></tr><tr><td>Italy</td></tr><tr><td>Norway</td></tr><tr><td>Spain</td></tr><tr><td>Denmark</td></tr><tr><td>Ireland</td></tr><tr><td>Venezuela</td></tr><tr><td>USA</td></tr><tr><td>Mexico</td></tr><tr><td>UK</td></tr><tr><td>Switzerland</td></tr><tr><td>Canada</td></tr><tr><td>Brazil</td></tr><tr><td>Poland</td></tr><tr><td>Portugal</td></tr><tr><td>Austria</td></tr></tbody></table></div>"
      ]
     },
     "metadata": {
      "application/vnd.databricks.v1+output": {
       "addedWidgets": {},
       "aggData": [],
       "aggError": "",
       "aggOverflow": false,
       "aggSchema": [],
       "aggSeriesLimitReached": false,
       "aggType": "",
       "arguments": {},
       "columnCustomDisplayInfos": {},
       "data": [
        [
         "Sweden"
        ],
        [
         "Germany"
        ],
        [
         "France"
        ],
        [
         "Argentina"
        ],
        [
         "Belgium"
        ],
        [
         "Finland"
        ],
        [
         "Italy"
        ],
        [
         "Norway"
        ],
        [
         "Spain"
        ],
        [
         "Denmark"
        ],
        [
         "Ireland"
        ],
        [
         "Venezuela"
        ],
        [
         "USA"
        ],
        [
         "Mexico"
        ],
        [
         "UK"
        ],
        [
         "Switzerland"
        ],
        [
         "Canada"
        ],
        [
         "Brazil"
        ],
        [
         "Poland"
        ],
        [
         "Portugal"
        ],
        [
         "Austria"
        ]
       ],
       "datasetInfos": [],
       "dbfsResultPath": null,
       "isJsonSchema": true,
       "metadata": {
        "isDbfsCommandResult": false
       },
       "overflow": false,
       "plotOptions": {
        "customPlotOptions": {},
        "displayType": "table",
        "pivotAggregation": null,
        "pivotColumns": null,
        "xColumns": null,
        "yColumns": null
       },
       "removedWidgets": [],
       "schema": [
        {
         "metadata": "{}",
         "name": "ShipCountry",
         "type": "\"string\""
        }
       ],
       "type": "table"
      }
     },
     "output_type": "display_data"
    }
   ],
   "source": [
    "%sql\n",
    "-- A list of all countries that orders have been shipped to\n",
    "SELECT DISTINCT ShipCountry\n",
    "FROM orders;"
   ]
  },
  {
   "cell_type": "code",
   "execution_count": 0,
   "metadata": {
    "application/vnd.databricks.v1+cell": {
     "inputWidgets": {},
     "nuid": "2d79ea43-4f74-41a2-94da-7c7f23293ebd",
     "showTitle": false,
     "title": ""
    }
   },
   "outputs": [
    {
     "data": {
      "text/html": [
       "<style scoped>\n",
       "  .table-result-container {\n",
       "    max-height: 300px;\n",
       "    overflow: auto;\n",
       "  }\n",
       "  table, th, td {\n",
       "    border: 1px solid black;\n",
       "    border-collapse: collapse;\n",
       "  }\n",
       "  th, td {\n",
       "    padding: 5px;\n",
       "  }\n",
       "  th {\n",
       "    text-align: left;\n",
       "  }\n",
       "</style><div class='table-result-container'><table class='table-result'><thead style='background-color: white'><tr><th>count(1)</th></tr></thead><tbody><tr><td>830</td></tr></tbody></table></div>"
      ]
     },
     "metadata": {
      "application/vnd.databricks.v1+output": {
       "addedWidgets": {},
       "aggData": [],
       "aggError": "",
       "aggOverflow": false,
       "aggSchema": [],
       "aggSeriesLimitReached": false,
       "aggType": "",
       "arguments": {},
       "columnCustomDisplayInfos": {},
       "data": [
        [
         830
        ]
       ],
       "datasetInfos": [],
       "dbfsResultPath": null,
       "isJsonSchema": true,
       "metadata": {
        "isDbfsCommandResult": false
       },
       "overflow": false,
       "plotOptions": {
        "customPlotOptions": {},
        "displayType": "table",
        "pivotAggregation": null,
        "pivotColumns": null,
        "xColumns": null,
        "yColumns": null
       },
       "removedWidgets": [],
       "schema": [
        {
         "metadata": "{}",
         "name": "count(1)",
         "type": "\"long\""
        }
       ],
       "type": "table"
      }
     },
     "output_type": "display_data"
    }
   ],
   "source": [
    "%sql\n",
    "SELECT COUNT(*)\n",
    "FROM orders;"
   ]
  },
  {
   "cell_type": "code",
   "execution_count": 0,
   "metadata": {
    "application/vnd.databricks.v1+cell": {
     "inputWidgets": {},
     "nuid": "d7cd7a99-ee75-4754-a879-a034bb6b6865",
     "showTitle": false,
     "title": ""
    }
   },
   "outputs": [
    {
     "data": {
      "text/html": [
       "<style scoped>\n",
       "  .table-result-container {\n",
       "    max-height: 300px;\n",
       "    overflow: auto;\n",
       "  }\n",
       "  table, th, td {\n",
       "    border: 1px solid black;\n",
       "    border-collapse: collapse;\n",
       "  }\n",
       "  th, td {\n",
       "    padding: 5px;\n",
       "  }\n",
       "  th {\n",
       "    text-align: left;\n",
       "  }\n",
       "</style><div class='table-result-container'><table class='table-result'><thead style='background-color: white'><tr><th>ShipCountry</th><th>NumOrders</th></tr></thead><tbody><tr><td>Germany</td><td>122</td></tr><tr><td>USA</td><td>122</td></tr><tr><td>Brazil</td><td>83</td></tr><tr><td>France</td><td>77</td></tr><tr><td>UK</td><td>56</td></tr><tr><td>Venezuela</td><td>46</td></tr><tr><td>Austria</td><td>40</td></tr><tr><td>Sweden</td><td>37</td></tr><tr><td>Canada</td><td>30</td></tr><tr><td>Italy</td><td>28</td></tr><tr><td>Mexico</td><td>28</td></tr><tr><td>Spain</td><td>23</td></tr><tr><td>Finland</td><td>22</td></tr><tr><td>Ireland</td><td>19</td></tr><tr><td>Belgium</td><td>19</td></tr><tr><td>Denmark</td><td>18</td></tr><tr><td>Switzerland</td><td>18</td></tr><tr><td>Argentina</td><td>16</td></tr><tr><td>Portugal</td><td>13</td></tr><tr><td>Poland</td><td>7</td></tr><tr><td>Norway</td><td>6</td></tr></tbody></table></div>"
      ]
     },
     "metadata": {
      "application/vnd.databricks.v1+output": {
       "addedWidgets": {},
       "aggData": [],
       "aggError": "",
       "aggOverflow": false,
       "aggSchema": [],
       "aggSeriesLimitReached": false,
       "aggType": "",
       "arguments": {},
       "columnCustomDisplayInfos": {},
       "data": [
        [
         "Germany",
         122
        ],
        [
         "USA",
         122
        ],
        [
         "Brazil",
         83
        ],
        [
         "France",
         77
        ],
        [
         "UK",
         56
        ],
        [
         "Venezuela",
         46
        ],
        [
         "Austria",
         40
        ],
        [
         "Sweden",
         37
        ],
        [
         "Canada",
         30
        ],
        [
         "Italy",
         28
        ],
        [
         "Mexico",
         28
        ],
        [
         "Spain",
         23
        ],
        [
         "Finland",
         22
        ],
        [
         "Ireland",
         19
        ],
        [
         "Belgium",
         19
        ],
        [
         "Denmark",
         18
        ],
        [
         "Switzerland",
         18
        ],
        [
         "Argentina",
         16
        ],
        [
         "Portugal",
         13
        ],
        [
         "Poland",
         7
        ],
        [
         "Norway",
         6
        ]
       ],
       "datasetInfos": [],
       "dbfsResultPath": null,
       "isJsonSchema": true,
       "metadata": {
        "isDbfsCommandResult": false
       },
       "overflow": false,
       "plotOptions": {
        "customPlotOptions": {},
        "displayType": "plotlyBar",
        "pivotAggregation": null,
        "pivotColumns": null,
        "xColumns": null,
        "yColumns": null
       },
       "removedWidgets": [],
       "schema": [
        {
         "metadata": "{}",
         "name": "ShipCountry",
         "type": "\"string\""
        },
        {
         "metadata": "{}",
         "name": "NumOrders",
         "type": "\"long\""
        }
       ],
       "type": "table"
      }
     },
     "output_type": "display_data"
    }
   ],
   "source": [
    "%sql\n",
    "SELECT ShipCountry, COUNT(*) As NumOrders\n",
    "FROM orders\n",
    "GROUP BY ShipCountry\n",
    "ORDER BY NumOrders DESC;"
   ]
  },
  {
   "cell_type": "code",
   "execution_count": 0,
   "metadata": {
    "application/vnd.databricks.v1+cell": {
     "inputWidgets": {},
     "nuid": "b5ba8c5c-3ac0-4e15-b1c6-063deef194fe",
     "showTitle": false,
     "title": ""
    }
   },
   "outputs": [
    {
     "data": {
      "text/html": [
       "<style scoped>\n",
       "  .table-result-container {\n",
       "    max-height: 300px;\n",
       "    overflow: auto;\n",
       "  }\n",
       "  table, th, td {\n",
       "    border: 1px solid black;\n",
       "    border-collapse: collapse;\n",
       "  }\n",
       "  th, td {\n",
       "    padding: 5px;\n",
       "  }\n",
       "  th {\n",
       "    text-align: left;\n",
       "  }\n",
       "</style><div class='table-result-container'><table class='table-result'><thead style='background-color: white'><tr><th>ProductID</th><th>ProductName</th><th>CompanyName</th></tr></thead><tbody><tr><td>1</td><td>Chai</td><td>Exotic Liquids</td></tr><tr><td>2</td><td>Chang</td><td>Exotic Liquids</td></tr><tr><td>3</td><td>Aniseed Syrup</td><td>Exotic Liquids</td></tr><tr><td>4</td><td>Chef Anton's Cajun Seasoning</td><td>New Orleans Cajun Delights</td></tr><tr><td>5</td><td>Chef Anton's Gumbo Mix</td><td>New Orleans Cajun Delights</td></tr><tr><td>6</td><td>Grandma's Boysenberry Spread</td><td>Grandma Kelly's Homestead</td></tr><tr><td>7</td><td>Uncle Bob's Organic Dried Pears</td><td>Grandma Kelly's Homestead</td></tr><tr><td>8</td><td>Northwoods Cranberry Sauce</td><td>Grandma Kelly's Homestead</td></tr><tr><td>9</td><td>Mishi Kobe Niku</td><td>Tokyo Traders</td></tr><tr><td>10</td><td>Ikura</td><td>Tokyo Traders</td></tr><tr><td>11</td><td>Queso Cabrales</td><td>Cooperativa de Quesos 'Las Cabras'</td></tr><tr><td>12</td><td>Queso Manchego La Pastora</td><td>Cooperativa de Quesos 'Las Cabras'</td></tr><tr><td>13</td><td>Konbu</td><td>Mayumi's</td></tr><tr><td>14</td><td>Tofu</td><td>Mayumi's</td></tr><tr><td>15</td><td>Genen Shouyu</td><td>Mayumi's</td></tr><tr><td>16</td><td>Pavlova</td><td>Pavlova, Ltd.</td></tr><tr><td>17</td><td>Alice Mutton</td><td>Pavlova, Ltd.</td></tr><tr><td>18</td><td>Carnarvon Tigers</td><td>Pavlova, Ltd.</td></tr><tr><td>19</td><td>Teatime Chocolate Biscuits</td><td>Specialty Biscuits, Ltd.</td></tr><tr><td>20</td><td>Sir Rodney's Marmalade</td><td>Specialty Biscuits, Ltd.</td></tr><tr><td>21</td><td>Sir Rodney's Scones</td><td>Specialty Biscuits, Ltd.</td></tr><tr><td>22</td><td>Gustaf's Knäckebröd</td><td>PB Knäckebröd AB</td></tr><tr><td>23</td><td>Tunnbröd</td><td>PB Knäckebröd AB</td></tr><tr><td>24</td><td>Guaraná Fantástica</td><td>Refrescos Americanas LTDA</td></tr><tr><td>25</td><td>NuNuCa Nuß-Nougat-Creme</td><td>Heli Süßwaren GmbH & Co. KG</td></tr><tr><td>26</td><td>Gumbär Gummibärchen</td><td>Heli Süßwaren GmbH & Co. KG</td></tr><tr><td>27</td><td>Schoggi Schokolade</td><td>Heli Süßwaren GmbH & Co. KG</td></tr><tr><td>28</td><td>Rössle Sauerkraut</td><td>Plutzer Lebensmittelgroßmärkte AG</td></tr><tr><td>29</td><td>Thüringer Rostbratwurst</td><td>Plutzer Lebensmittelgroßmärkte AG</td></tr><tr><td>30</td><td>Nord-Ost Matjeshering</td><td>Nord-Ost-Fisch Handelsgesellschaft mbH</td></tr><tr><td>31</td><td>Gorgonzola Telino</td><td>Formaggi Fortini s.r.l.</td></tr><tr><td>32</td><td>Mascarpone Fabioli</td><td>Formaggi Fortini s.r.l.</td></tr><tr><td>33</td><td>Geitost</td><td>Norske Meierier</td></tr><tr><td>34</td><td>Sasquatch Ale</td><td>Bigfoot Breweries</td></tr><tr><td>35</td><td>Steeleye Stout</td><td>Bigfoot Breweries</td></tr><tr><td>36</td><td>Inlagd Sill</td><td>Svensk Sjöföda AB</td></tr><tr><td>37</td><td>Gravad lax</td><td>Svensk Sjöföda AB</td></tr><tr><td>38</td><td>Côte de Blaye</td><td>Aux joyeux ecclésiastiques</td></tr><tr><td>39</td><td>Chartreuse verte</td><td>Aux joyeux ecclésiastiques</td></tr><tr><td>40</td><td>Boston Crab Meat</td><td>New England Seafood Cannery</td></tr><tr><td>41</td><td>Jack's New England Clam Chowder</td><td>New England Seafood Cannery</td></tr><tr><td>42</td><td>Singaporean Hokkien Fried Mee</td><td>Leka Trading</td></tr><tr><td>43</td><td>Ipoh Coffee</td><td>Leka Trading</td></tr><tr><td>44</td><td>Gula Malacca</td><td>Leka Trading</td></tr><tr><td>45</td><td>Rogede sild</td><td>Lyngbysild</td></tr><tr><td>46</td><td>Spegesild</td><td>Lyngbysild</td></tr><tr><td>47</td><td>Zaanse koeken</td><td>Zaanse Snoepfabriek</td></tr><tr><td>48</td><td>Chocolade</td><td>Zaanse Snoepfabriek</td></tr><tr><td>49</td><td>Maxilaku</td><td>Karkki Oy</td></tr><tr><td>50</td><td>Valkoinen suklaa</td><td>Karkki Oy</td></tr><tr><td>51</td><td>Manjimup Dried Apples</td><td>G'day, Mate</td></tr><tr><td>52</td><td>Filo Mix</td><td>G'day, Mate</td></tr><tr><td>53</td><td>Perth Pasties</td><td>G'day, Mate</td></tr><tr><td>54</td><td>Tourtière</td><td>Ma Maison</td></tr><tr><td>55</td><td>Pâté chinois</td><td>Ma Maison</td></tr><tr><td>56</td><td>Gnocchi di nonna Alice</td><td>Pasta Buttini s.r.l.</td></tr><tr><td>57</td><td>Ravioli Angelo</td><td>Pasta Buttini s.r.l.</td></tr><tr><td>58</td><td>Escargots de Bourgogne</td><td>Escargots Nouveaux</td></tr><tr><td>59</td><td>Raclette Courdavault</td><td>Gai pâturage</td></tr><tr><td>60</td><td>Camembert Pierrot</td><td>Gai pâturage</td></tr><tr><td>61</td><td>Sirop d'érable</td><td>Forêts d'érables</td></tr><tr><td>62</td><td>Tarte au sucre</td><td>Forêts d'érables</td></tr><tr><td>63</td><td>Vegie-spread</td><td>Pavlova, Ltd.</td></tr><tr><td>64</td><td>Wimmers gute Semmelknödel</td><td>Plutzer Lebensmittelgroßmärkte AG</td></tr><tr><td>65</td><td>Louisiana Fiery Hot Pepper Sauce</td><td>New Orleans Cajun Delights</td></tr><tr><td>66</td><td>Louisiana Hot Spiced Okra</td><td>New Orleans Cajun Delights</td></tr><tr><td>67</td><td>Laughing Lumberjack Lager</td><td>Bigfoot Breweries</td></tr><tr><td>68</td><td>Scottish Longbreads</td><td>Specialty Biscuits, Ltd.</td></tr><tr><td>69</td><td>Gudbrandsdalsost</td><td>Norske Meierier</td></tr><tr><td>70</td><td>Outback Lager</td><td>Pavlova, Ltd.</td></tr><tr><td>71</td><td>Flotemysost</td><td>Norske Meierier</td></tr><tr><td>72</td><td>Mozzarella di Giovanni</td><td>Formaggi Fortini s.r.l.</td></tr><tr><td>73</td><td>Röd Kaviar</td><td>Svensk Sjöföda AB</td></tr><tr><td>74</td><td>Longlife Tofu</td><td>Tokyo Traders</td></tr><tr><td>75</td><td>Rhönbräu Klosterbier</td><td>Plutzer Lebensmittelgroßmärkte AG</td></tr><tr><td>76</td><td>Lakkalikööri</td><td>Karkki Oy</td></tr><tr><td>77</td><td>Original Frankfurter grüne Soße</td><td>Plutzer Lebensmittelgroßmärkte AG</td></tr></tbody></table></div>"
      ]
     },
     "metadata": {
      "application/vnd.databricks.v1+output": {
       "addedWidgets": {},
       "aggData": [],
       "aggError": "",
       "aggOverflow": false,
       "aggSchema": [],
       "aggSeriesLimitReached": false,
       "aggType": "",
       "arguments": {},
       "columnCustomDisplayInfos": {},
       "data": [
        [
         1,
         "Chai",
         "Exotic Liquids"
        ],
        [
         2,
         "Chang",
         "Exotic Liquids"
        ],
        [
         3,
         "Aniseed Syrup",
         "Exotic Liquids"
        ],
        [
         4,
         "Chef Anton's Cajun Seasoning",
         "New Orleans Cajun Delights"
        ],
        [
         5,
         "Chef Anton's Gumbo Mix",
         "New Orleans Cajun Delights"
        ],
        [
         6,
         "Grandma's Boysenberry Spread",
         "Grandma Kelly's Homestead"
        ],
        [
         7,
         "Uncle Bob's Organic Dried Pears",
         "Grandma Kelly's Homestead"
        ],
        [
         8,
         "Northwoods Cranberry Sauce",
         "Grandma Kelly's Homestead"
        ],
        [
         9,
         "Mishi Kobe Niku",
         "Tokyo Traders"
        ],
        [
         10,
         "Ikura",
         "Tokyo Traders"
        ],
        [
         11,
         "Queso Cabrales",
         "Cooperativa de Quesos 'Las Cabras'"
        ],
        [
         12,
         "Queso Manchego La Pastora",
         "Cooperativa de Quesos 'Las Cabras'"
        ],
        [
         13,
         "Konbu",
         "Mayumi's"
        ],
        [
         14,
         "Tofu",
         "Mayumi's"
        ],
        [
         15,
         "Genen Shouyu",
         "Mayumi's"
        ],
        [
         16,
         "Pavlova",
         "Pavlova, Ltd."
        ],
        [
         17,
         "Alice Mutton",
         "Pavlova, Ltd."
        ],
        [
         18,
         "Carnarvon Tigers",
         "Pavlova, Ltd."
        ],
        [
         19,
         "Teatime Chocolate Biscuits",
         "Specialty Biscuits, Ltd."
        ],
        [
         20,
         "Sir Rodney's Marmalade",
         "Specialty Biscuits, Ltd."
        ],
        [
         21,
         "Sir Rodney's Scones",
         "Specialty Biscuits, Ltd."
        ],
        [
         22,
         "Gustaf's Knäckebröd",
         "PB Knäckebröd AB"
        ],
        [
         23,
         "Tunnbröd",
         "PB Knäckebröd AB"
        ],
        [
         24,
         "Guaraná Fantástica",
         "Refrescos Americanas LTDA"
        ],
        [
         25,
         "NuNuCa Nuß-Nougat-Creme",
         "Heli Süßwaren GmbH & Co. KG"
        ],
        [
         26,
         "Gumbär Gummibärchen",
         "Heli Süßwaren GmbH & Co. KG"
        ],
        [
         27,
         "Schoggi Schokolade",
         "Heli Süßwaren GmbH & Co. KG"
        ],
        [
         28,
         "Rössle Sauerkraut",
         "Plutzer Lebensmittelgroßmärkte AG"
        ],
        [
         29,
         "Thüringer Rostbratwurst",
         "Plutzer Lebensmittelgroßmärkte AG"
        ],
        [
         30,
         "Nord-Ost Matjeshering",
         "Nord-Ost-Fisch Handelsgesellschaft mbH"
        ],
        [
         31,
         "Gorgonzola Telino",
         "Formaggi Fortini s.r.l."
        ],
        [
         32,
         "Mascarpone Fabioli",
         "Formaggi Fortini s.r.l."
        ],
        [
         33,
         "Geitost",
         "Norske Meierier"
        ],
        [
         34,
         "Sasquatch Ale",
         "Bigfoot Breweries"
        ],
        [
         35,
         "Steeleye Stout",
         "Bigfoot Breweries"
        ],
        [
         36,
         "Inlagd Sill",
         "Svensk Sjöföda AB"
        ],
        [
         37,
         "Gravad lax",
         "Svensk Sjöföda AB"
        ],
        [
         38,
         "Côte de Blaye",
         "Aux joyeux ecclésiastiques"
        ],
        [
         39,
         "Chartreuse verte",
         "Aux joyeux ecclésiastiques"
        ],
        [
         40,
         "Boston Crab Meat",
         "New England Seafood Cannery"
        ],
        [
         41,
         "Jack's New England Clam Chowder",
         "New England Seafood Cannery"
        ],
        [
         42,
         "Singaporean Hokkien Fried Mee",
         "Leka Trading"
        ],
        [
         43,
         "Ipoh Coffee",
         "Leka Trading"
        ],
        [
         44,
         "Gula Malacca",
         "Leka Trading"
        ],
        [
         45,
         "Rogede sild",
         "Lyngbysild"
        ],
        [
         46,
         "Spegesild",
         "Lyngbysild"
        ],
        [
         47,
         "Zaanse koeken",
         "Zaanse Snoepfabriek"
        ],
        [
         48,
         "Chocolade",
         "Zaanse Snoepfabriek"
        ],
        [
         49,
         "Maxilaku",
         "Karkki Oy"
        ],
        [
         50,
         "Valkoinen suklaa",
         "Karkki Oy"
        ],
        [
         51,
         "Manjimup Dried Apples",
         "G'day, Mate"
        ],
        [
         52,
         "Filo Mix",
         "G'day, Mate"
        ],
        [
         53,
         "Perth Pasties",
         "G'day, Mate"
        ],
        [
         54,
         "Tourtière",
         "Ma Maison"
        ],
        [
         55,
         "Pâté chinois",
         "Ma Maison"
        ],
        [
         56,
         "Gnocchi di nonna Alice",
         "Pasta Buttini s.r.l."
        ],
        [
         57,
         "Ravioli Angelo",
         "Pasta Buttini s.r.l."
        ],
        [
         58,
         "Escargots de Bourgogne",
         "Escargots Nouveaux"
        ],
        [
         59,
         "Raclette Courdavault",
         "Gai pâturage"
        ],
        [
         60,
         "Camembert Pierrot",
         "Gai pâturage"
        ],
        [
         61,
         "Sirop d'érable",
         "Forêts d'érables"
        ],
        [
         62,
         "Tarte au sucre",
         "Forêts d'érables"
        ],
        [
         63,
         "Vegie-spread",
         "Pavlova, Ltd."
        ],
        [
         64,
         "Wimmers gute Semmelknödel",
         "Plutzer Lebensmittelgroßmärkte AG"
        ],
        [
         65,
         "Louisiana Fiery Hot Pepper Sauce",
         "New Orleans Cajun Delights"
        ],
        [
         66,
         "Louisiana Hot Spiced Okra",
         "New Orleans Cajun Delights"
        ],
        [
         67,
         "Laughing Lumberjack Lager",
         "Bigfoot Breweries"
        ],
        [
         68,
         "Scottish Longbreads",
         "Specialty Biscuits, Ltd."
        ],
        [
         69,
         "Gudbrandsdalsost",
         "Norske Meierier"
        ],
        [
         70,
         "Outback Lager",
         "Pavlova, Ltd."
        ],
        [
         71,
         "Flotemysost",
         "Norske Meierier"
        ],
        [
         72,
         "Mozzarella di Giovanni",
         "Formaggi Fortini s.r.l."
        ],
        [
         73,
         "Röd Kaviar",
         "Svensk Sjöföda AB"
        ],
        [
         74,
         "Longlife Tofu",
         "Tokyo Traders"
        ],
        [
         75,
         "Rhönbräu Klosterbier",
         "Plutzer Lebensmittelgroßmärkte AG"
        ],
        [
         76,
         "Lakkalikööri",
         "Karkki Oy"
        ],
        [
         77,
         "Original Frankfurter grüne Soße",
         "Plutzer Lebensmittelgroßmärkte AG"
        ]
       ],
       "datasetInfos": [],
       "dbfsResultPath": null,
       "isJsonSchema": true,
       "metadata": {
        "isDbfsCommandResult": false
       },
       "overflow": false,
       "plotOptions": {
        "customPlotOptions": {},
        "displayType": "table",
        "pivotAggregation": null,
        "pivotColumns": null,
        "xColumns": null,
        "yColumns": null
       },
       "removedWidgets": [],
       "schema": [
        {
         "metadata": "{}",
         "name": "ProductID",
         "type": "\"integer\""
        },
        {
         "metadata": "{}",
         "name": "ProductName",
         "type": "\"string\""
        },
        {
         "metadata": "{}",
         "name": "CompanyName",
         "type": "\"string\""
        }
       ],
       "type": "table"
      }
     },
     "output_type": "display_data"
    }
   ],
   "source": [
    "%sql\n",
    "-- For each product, list its product ID, product name, and the company name\n",
    "SELECT ProductID, ProductName, CompanyName\n",
    "FROM products\n",
    "JOIN suppliers\n",
    "ON products.SupplierID = suppliers.SupplierID;"
   ]
  },
  {
   "cell_type": "code",
   "execution_count": 0,
   "metadata": {
    "application/vnd.databricks.v1+cell": {
     "inputWidgets": {},
     "nuid": "94617223-ea6a-4f6a-afcc-41c9c5b2799d",
     "showTitle": false,
     "title": ""
    }
   },
   "outputs": [
    {
     "data": {
      "text/html": [
       "<style scoped>\n",
       "  .table-result-container {\n",
       "    max-height: 300px;\n",
       "    overflow: auto;\n",
       "  }\n",
       "  table, th, td {\n",
       "    border: 1px solid black;\n",
       "    border-collapse: collapse;\n",
       "  }\n",
       "  th, td {\n",
       "    padding: 5px;\n",
       "  }\n",
       "  th {\n",
       "    text-align: left;\n",
       "  }\n",
       "</style><div class='table-result-container'><table class='table-result'><thead style='background-color: white'><tr><th>CategoryName</th><th>ProductCount</th></tr></thead><tbody><tr><td>Confections</td><td>13</td></tr><tr><td>Condiments</td><td>12</td></tr><tr><td>Seafood</td><td>12</td></tr><tr><td>Beverages</td><td>12</td></tr><tr><td>Dairy Products</td><td>10</td></tr><tr><td>Grains/Cereals</td><td>7</td></tr><tr><td>Meat/Poultry</td><td>6</td></tr><tr><td>Produce</td><td>5</td></tr></tbody></table></div>"
      ]
     },
     "metadata": {
      "application/vnd.databricks.v1+output": {
       "addedWidgets": {},
       "aggData": [],
       "aggError": "",
       "aggOverflow": false,
       "aggSchema": [],
       "aggSeriesLimitReached": false,
       "aggType": "",
       "arguments": {},
       "columnCustomDisplayInfos": {},
       "data": [
        [
         "Confections",
         13
        ],
        [
         "Condiments",
         12
        ],
        [
         "Seafood",
         12
        ],
        [
         "Beverages",
         12
        ],
        [
         "Dairy Products",
         10
        ],
        [
         "Grains/Cereals",
         7
        ],
        [
         "Meat/Poultry",
         6
        ],
        [
         "Produce",
         5
        ]
       ],
       "datasetInfos": [],
       "dbfsResultPath": null,
       "isJsonSchema": true,
       "metadata": {
        "isDbfsCommandResult": false
       },
       "overflow": false,
       "plotOptions": {
        "customPlotOptions": {},
        "displayType": "plotlyBar",
        "pivotAggregation": null,
        "pivotColumns": null,
        "xColumns": null,
        "yColumns": null
       },
       "removedWidgets": [],
       "schema": [
        {
         "metadata": "{}",
         "name": "CategoryName",
         "type": "\"string\""
        },
        {
         "metadata": "{}",
         "name": "ProductCount",
         "type": "\"long\""
        }
       ],
       "type": "table"
      }
     },
     "output_type": "display_data"
    }
   ],
   "source": [
    "%sql\n",
    "--How many products exist in each category?\n",
    "SELECT CategoryName, COUNT(*) AS ProductCount\n",
    "FROM categories\n",
    "JOIN products\n",
    "ON categories.CategoryID = products.CategoryID\n",
    "GROUP BY CategoryName\n",
    "ORDER BY ProductCount DESC;"
   ]
  },
  {
   "cell_type": "code",
   "execution_count": 0,
   "metadata": {
    "application/vnd.databricks.v1+cell": {
     "inputWidgets": {},
     "nuid": "2d8ef517-61f2-4369-8709-996a378cacee",
     "showTitle": false,
     "title": ""
    }
   },
   "outputs": [
    {
     "data": {
      "text/html": [
       "<style scoped>\n",
       "  .table-result-container {\n",
       "    max-height: 300px;\n",
       "    overflow: auto;\n",
       "  }\n",
       "  table, th, td {\n",
       "    border: 1px solid black;\n",
       "    border-collapse: collapse;\n",
       "  }\n",
       "  th, td {\n",
       "    padding: 5px;\n",
       "  }\n",
       "  th {\n",
       "    text-align: left;\n",
       "  }\n",
       "</style><div class='table-result-container'><table class='table-result'><thead style='background-color: white'><tr><th>Country</th><th>NumberOfCustomers</th></tr></thead><tbody><tr><td>USA</td><td>13</td></tr><tr><td>France</td><td>11</td></tr><tr><td>Germany</td><td>11</td></tr><tr><td>Brazil</td><td>9</td></tr><tr><td>UK</td><td>7</td></tr></tbody></table></div>"
      ]
     },
     "metadata": {
      "application/vnd.databricks.v1+output": {
       "addedWidgets": {},
       "aggData": [],
       "aggError": "",
       "aggOverflow": false,
       "aggSchema": [],
       "aggSeriesLimitReached": false,
       "aggType": "",
       "arguments": {},
       "columnCustomDisplayInfos": {},
       "data": [
        [
         "USA",
         13
        ],
        [
         "France",
         11
        ],
        [
         "Germany",
         11
        ],
        [
         "Brazil",
         9
        ],
        [
         "UK",
         7
        ]
       ],
       "datasetInfos": [],
       "dbfsResultPath": null,
       "isJsonSchema": true,
       "metadata": {
        "isDbfsCommandResult": false
       },
       "overflow": false,
       "plotOptions": {
        "customPlotOptions": {},
        "displayType": "plotlyBar",
        "pivotAggregation": null,
        "pivotColumns": null,
        "xColumns": null,
        "yColumns": null
       },
       "removedWidgets": [],
       "schema": [
        {
         "metadata": "{}",
         "name": "Country",
         "type": "\"string\""
        },
        {
         "metadata": "{}",
         "name": "NumberOfCustomers",
         "type": "\"long\""
        }
       ],
       "type": "table"
      }
     },
     "output_type": "display_data"
    }
   ],
   "source": [
    "%sql\n",
    "-- Which 5 countries have the most customers?\n",
    "SELECT Country, COUNT(*) AS NumberOfCustomers\n",
    "FROM customers\n",
    "GROUP BY Country\n",
    "ORDER BY NumberOfCustomers DESC\n",
    "LIMIT 5;"
   ]
  },
  {
   "cell_type": "code",
   "execution_count": 0,
   "metadata": {
    "application/vnd.databricks.v1+cell": {
     "inputWidgets": {},
     "nuid": "df4489e4-999d-4c5d-83be-5e84718d63b2",
     "showTitle": false,
     "title": ""
    }
   },
   "outputs": [
    {
     "data": {
      "text/html": [
       "<style scoped>\n",
       "  .table-result-container {\n",
       "    max-height: 300px;\n",
       "    overflow: auto;\n",
       "  }\n",
       "  table, th, td {\n",
       "    border: 1px solid black;\n",
       "    border-collapse: collapse;\n",
       "  }\n",
       "  th, td {\n",
       "    padding: 5px;\n",
       "  }\n",
       "  th {\n",
       "    text-align: left;\n",
       "  }\n",
       "</style><div class='table-result-container'><table class='table-result'><thead style='background-color: white'><tr><th>ShipCountry</th><th>AverageFreight</th></tr></thead><tbody><tr><td>Austria</td><td>184.78750000000002</td></tr><tr><td>Ireland</td><td>145.01263157894738</td></tr><tr><td>USA</td><td>112.87942622950818</td></tr><tr><td>Germany</td><td>92.48590163934426</td></tr><tr><td>Sweden</td><td>87.50270270270272</td></tr></tbody></table></div>"
      ]
     },
     "metadata": {
      "application/vnd.databricks.v1+output": {
       "addedWidgets": {},
       "aggData": [],
       "aggError": "",
       "aggOverflow": false,
       "aggSchema": [],
       "aggSeriesLimitReached": false,
       "aggType": "",
       "arguments": {},
       "columnCustomDisplayInfos": {},
       "data": [
        [
         "Austria",
         184.78750000000002
        ],
        [
         "Ireland",
         145.01263157894738
        ],
        [
         "USA",
         112.87942622950818
        ],
        [
         "Germany",
         92.48590163934426
        ],
        [
         "Sweden",
         87.50270270270272
        ]
       ],
       "datasetInfos": [],
       "dbfsResultPath": null,
       "isJsonSchema": true,
       "metadata": {
        "isDbfsCommandResult": false
       },
       "overflow": false,
       "plotOptions": {
        "customPlotOptions": {},
        "displayType": "plotlyBar",
        "pivotAggregation": null,
        "pivotColumns": null,
        "xColumns": null,
        "yColumns": null
       },
       "removedWidgets": [],
       "schema": [
        {
         "metadata": "{}",
         "name": "ShipCountry",
         "type": "\"string\""
        },
        {
         "metadata": "{}",
         "name": "AverageFreight",
         "type": "\"double\""
        }
       ],
       "type": "table"
      }
     },
     "output_type": "display_data"
    }
   ],
   "source": [
    "%sql\n",
    "--Which 5 countries have the heaviest shipments, on average?\n",
    "SELECT ShipCountry, AVG(Freight) AS AverageFreight\n",
    "FROM orders\n",
    "GROUP BY ShipCountry\n",
    "ORDER BY AverageFreight DESC\n",
    "LIMIT 5;"
   ]
  },
  {
   "cell_type": "code",
   "execution_count": 0,
   "metadata": {
    "application/vnd.databricks.v1+cell": {
     "inputWidgets": {},
     "nuid": "beb13d7b-b8fb-493c-9d0e-7fae8efe4529",
     "showTitle": false,
     "title": ""
    }
   },
   "outputs": [
    {
     "data": {
      "text/html": [
       "<style scoped>\n",
       "  .table-result-container {\n",
       "    max-height: 300px;\n",
       "    overflow: auto;\n",
       "  }\n",
       "  table, th, td {\n",
       "    border: 1px solid black;\n",
       "    border-collapse: collapse;\n",
       "  }\n",
       "  th, td {\n",
       "    padding: 5px;\n",
       "  }\n",
       "  th {\n",
       "    text-align: left;\n",
       "  }\n",
       "</style><div class='table-result-container'><table class='table-result'><thead style='background-color: white'><tr><th>CompanyName</th><th>ContactName</th><th>NumberOfOrders</th></tr></thead><tbody><tr><td>Save-a-lot Markets</td><td>Jose Pavarotti</td><td>31</td></tr><tr><td>Ernst Handel</td><td>Roland Mendel</td><td>30</td></tr><tr><td>QUICK-Stop</td><td>Horst Kloss</td><td>28</td></tr><tr><td>Hungry Owl All-Night Grocers</td><td>Patricia McKenna</td><td>19</td></tr><tr><td>Folk och fä HB</td><td>Maria Larsson</td><td>19</td></tr><tr><td>HILARION-Abastos</td><td>Carlos Hernández</td><td>18</td></tr><tr><td>Berglunds snabbköp</td><td>Christina Berglund</td><td>18</td></tr><tr><td>Rattlesnake Canyon Grocery</td><td>Paula Wilson</td><td>18</td></tr><tr><td>Bon app'</td><td>Laurence Lebihan</td><td>17</td></tr><tr><td>Frankenversand</td><td>Peter Franken</td><td>15</td></tr></tbody></table></div>"
      ]
     },
     "metadata": {
      "application/vnd.databricks.v1+output": {
       "addedWidgets": {},
       "aggData": [],
       "aggError": "",
       "aggOverflow": false,
       "aggSchema": [],
       "aggSeriesLimitReached": false,
       "aggType": "",
       "arguments": {},
       "columnCustomDisplayInfos": {},
       "data": [
        [
         "Save-a-lot Markets",
         "Jose Pavarotti",
         31
        ],
        [
         "Ernst Handel",
         "Roland Mendel",
         30
        ],
        [
         "QUICK-Stop",
         "Horst Kloss",
         28
        ],
        [
         "Hungry Owl All-Night Grocers",
         "Patricia McKenna",
         19
        ],
        [
         "Folk och fä HB",
         "Maria Larsson",
         19
        ],
        [
         "HILARION-Abastos",
         "Carlos Hernández",
         18
        ],
        [
         "Berglunds snabbköp",
         "Christina Berglund",
         18
        ],
        [
         "Rattlesnake Canyon Grocery",
         "Paula Wilson",
         18
        ],
        [
         "Bon app'",
         "Laurence Lebihan",
         17
        ],
        [
         "Frankenversand",
         "Peter Franken",
         15
        ]
       ],
       "datasetInfos": [],
       "dbfsResultPath": null,
       "isJsonSchema": true,
       "metadata": {
        "isDbfsCommandResult": false
       },
       "overflow": false,
       "plotOptions": {
        "customPlotOptions": {},
        "displayType": "table",
        "pivotAggregation": null,
        "pivotColumns": null,
        "xColumns": null,
        "yColumns": null
       },
       "removedWidgets": [],
       "schema": [
        {
         "metadata": "{}",
         "name": "CompanyName",
         "type": "\"string\""
        },
        {
         "metadata": "{}",
         "name": "ContactName",
         "type": "\"string\""
        },
        {
         "metadata": "{}",
         "name": "NumberOfOrders",
         "type": "\"long\""
        }
       ],
       "type": "table"
      }
     },
     "output_type": "display_data"
    }
   ],
   "source": [
    "%sql\n",
    "-- Which 10 companies have placed the most orders?\n",
    "-- List the company contacts as well\n",
    "SELECT CompanyName, ContactName, COUNT(OrderID) as NumberOfOrders\n",
    "FROM customers c\n",
    "JOIN orders o\n",
    "ON c.CustomerID = o.CustomerID\n",
    "GROUP BY CompanyName, ContactName\n",
    "ORDER BY NumberOfOrders DESC\n",
    "LIMIT 10;"
   ]
  },
  {
   "cell_type": "code",
   "execution_count": 0,
   "metadata": {
    "application/vnd.databricks.v1+cell": {
     "inputWidgets": {},
     "nuid": "cc1f51bd-4981-4ab0-b928-f68957b62d06",
     "showTitle": false,
     "title": ""
    }
   },
   "outputs": [
    {
     "data": {
      "text/html": [
       "<style scoped>\n",
       "  .table-result-container {\n",
       "    max-height: 300px;\n",
       "    overflow: auto;\n",
       "  }\n",
       "  table, th, td {\n",
       "    border: 1px solid black;\n",
       "    border-collapse: collapse;\n",
       "  }\n",
       "  th, td {\n",
       "    padding: 5px;\n",
       "  }\n",
       "  th {\n",
       "    text-align: left;\n",
       "  }\n",
       "</style><div class='table-result-container'><table class='table-result'><thead style='background-color: white'><tr><th>CompanyName</th><th>TotalSpending</th></tr></thead><tbody><tr><td>QUICK-Stop</td><td>117483.39000000001</td></tr><tr><td>Save-a-lot Markets</td><td>115673.39</td></tr><tr><td>Ernst Handel</td><td>113236.68</td></tr><tr><td>Hungry Owl All-Night Grocers</td><td>57317.39000000001</td></tr><tr><td>Rattlesnake Canyon Grocery</td><td>52245.9</td></tr><tr><td>Hanari Carnes</td><td>34101.15</td></tr><tr><td>Folk och fä HB</td><td>32555.55</td></tr><tr><td>Mère Paillarde</td><td>32203.9</td></tr><tr><td>Königlich Essen</td><td>31745.75</td></tr><tr><td>Queen Cozinha</td><td>30226.099999999995</td></tr><tr><td>White Clover Markets</td><td>29073.45</td></tr><tr><td>Frankenversand</td><td>28722.71</td></tr><tr><td>Berglunds snabbköp</td><td>26968.149999999998</td></tr><tr><td>Piccolo und mehr</td><td>26259.95</td></tr><tr><td>Suprêmes délices</td><td>24704.399999999998</td></tr><tr><td>Bon app'</td><td>23850.95</td></tr><tr><td>HILARION-Abastos</td><td>23611.58</td></tr><tr><td>Bottom-Dollar Markets</td><td>22607.7</td></tr><tr><td>Lehmanns Marktstand</td><td>21282.019999999997</td></tr><tr><td>Richter Supermarkt</td><td>20033.200000000004</td></tr><tr><td>Great Lakes Food Market</td><td>19711.13</td></tr><tr><td>Blondesddsl père et fils</td><td>19088.0</td></tr><tr><td>Simons bistro</td><td>18138.45</td></tr><tr><td>LINO-Delicateses</td><td>17889.550000000003</td></tr><tr><td>LILA-Supermercado</td><td>17825.06</td></tr><tr><td>Seven Seas Imports</td><td>17172.05</td></tr><tr><td>Vaffeljernet</td><td>16643.8</td></tr><tr><td>Wartian Herkku</td><td>16617.1</td></tr><tr><td>Old World Delicatessen</td><td>16325.15</td></tr><tr><td>Eastern Connection</td><td>15033.66</td></tr><tr><td>Around the Horn</td><td>13806.5</td></tr><tr><td>Ottilies Käseladen</td><td>13157.5</td></tr><tr><td>Ricardo Adocicados</td><td>12924.4</td></tr><tr><td>Chop-suey Chinese</td><td>12886.3</td></tr><tr><td>Split Rail Beer & Ale</td><td>12489.7</td></tr><tr><td>Godos Cocina Típica</td><td>11830.1</td></tr><tr><td>Folies gourmandes</td><td>11666.9</td></tr><tr><td>Tortuga Restaurante</td><td>10812.15</td></tr><tr><td>Die Wandernde Kuh</td><td>10653.85</td></tr><tr><td>Maison Dewey</td><td>10430.58</td></tr><tr><td>La maison d'Asie</td><td>10272.35</td></tr><tr><td>Victuailles en stock</td><td>9937.1</td></tr><tr><td>Gourmet Lanchonetes</td><td>8702.23</td></tr><tr><td>Magazzini Alimentari Riuniti</td><td>7603.849999999999</td></tr><tr><td>Reggiani Caseifici</td><td>7555.6</td></tr><tr><td>Antonio Moreno Taquería</td><td>7515.349999999999</td></tr><tr><td>Tradição Hipermercados</td><td>7310.62</td></tr><tr><td>Furia Bacalhau e Frutos do Mar</td><td>7151.55</td></tr><tr><td>Que Delícia</td><td>6973.63</td></tr><tr><td>Wellington Importadora</td><td>6480.7</td></tr><tr><td>Island Trading</td><td>6146.3</td></tr><tr><td>B's Beverages</td><td>6089.900000000001</td></tr><tr><td>Santé Gourmet</td><td>5735.15</td></tr><tr><td>Princesa Isabel Vinhos</td><td>5317.1</td></tr><tr><td>Bólido Comidas preparadas</td><td>5297.8</td></tr><tr><td>Morgenstern Gesundkost</td><td>5042.200000000001</td></tr><tr><td>Toms Spezialitäten</td><td>4954.0</td></tr><tr><td>Alfreds Futterkiste</td><td>4596.2</td></tr><tr><td>Familia Arquibaldo</td><td>4438.900000000001</td></tr><tr><td>Lonesome Pine Restaurant</td><td>4258.6</td></tr><tr><td>Pericles Comidas clásicas</td><td>4242.2</td></tr><tr><td>Comércio Mineiro</td><td>3810.75</td></tr><tr><td>Drachenblut Delikatessen</td><td>3763.2099999999996</td></tr><tr><td>Wolski  Zajazd</td><td>3531.95</td></tr><tr><td>Let's Stop N Shop</td><td>3490.02</td></tr><tr><td>Océano Atlántico Ltda.</td><td>3460.2</td></tr><tr><td>The Big Cheese</td><td>3361.0</td></tr><tr><td>Blauer See Delikatessen</td><td>3239.8</td></tr><tr><td>France restauration</td><td>3172.16</td></tr><tr><td>Wilman Kala</td><td>3161.35</td></tr><tr><td>Hungry Coyote Import Store</td><td>3063.2</td></tr><tr><td>Rancho grande</td><td>2844.1</td></tr><tr><td>Spécialités du monde</td><td>2423.35</td></tr><tr><td>La corne d'abondance</td><td>1992.0500000000002</td></tr><tr><td>The Cracker Box</td><td>1947.24</td></tr><tr><td>Cactus Comidas para llevar</td><td>1814.8</td></tr><tr><td>Consolidated Holdings</td><td>1719.1</td></tr><tr><td>Du monde entier</td><td>1615.9</td></tr><tr><td>Trail's Head Gourmet Provisioners</td><td>1571.1999999999998</td></tr><tr><td>Franchi S.p.A.</td><td>1545.7</td></tr><tr><td>GROSELLA-Restaurante</td><td>1488.7</td></tr><tr><td>Vins et alcools Chevalier</td><td>1480.0</td></tr><tr><td>Romero y tomillo</td><td>1467.2900000000002</td></tr><tr><td>Ana Trujillo Emparedados y helados</td><td>1402.95</td></tr><tr><td>Galería del gastrónomo</td><td>836.7</td></tr><tr><td>North/South</td><td>649.0</td></tr><tr><td>Laughing Bacchus Wine Cellars</td><td>522.5</td></tr><tr><td>Lazy K Kountry Store</td><td>357.0</td></tr><tr><td>Centro comercial Moctezuma</td><td>100.8</td></tr></tbody></table></div>"
      ]
     },
     "metadata": {
      "application/vnd.databricks.v1+output": {
       "addedWidgets": {},
       "aggData": [],
       "aggError": "",
       "aggOverflow": false,
       "aggSchema": [],
       "aggSeriesLimitReached": false,
       "aggType": "",
       "arguments": {},
       "columnCustomDisplayInfos": {},
       "data": [
        [
         "QUICK-Stop",
         117483.39000000001
        ],
        [
         "Save-a-lot Markets",
         115673.39
        ],
        [
         "Ernst Handel",
         113236.68
        ],
        [
         "Hungry Owl All-Night Grocers",
         57317.39000000001
        ],
        [
         "Rattlesnake Canyon Grocery",
         52245.9
        ],
        [
         "Hanari Carnes",
         34101.15
        ],
        [
         "Folk och fä HB",
         32555.55
        ],
        [
         "Mère Paillarde",
         32203.9
        ],
        [
         "Königlich Essen",
         31745.75
        ],
        [
         "Queen Cozinha",
         30226.099999999995
        ],
        [
         "White Clover Markets",
         29073.45
        ],
        [
         "Frankenversand",
         28722.71
        ],
        [
         "Berglunds snabbköp",
         26968.149999999998
        ],
        [
         "Piccolo und mehr",
         26259.95
        ],
        [
         "Suprêmes délices",
         24704.399999999998
        ],
        [
         "Bon app'",
         23850.95
        ],
        [
         "HILARION-Abastos",
         23611.58
        ],
        [
         "Bottom-Dollar Markets",
         22607.7
        ],
        [
         "Lehmanns Marktstand",
         21282.019999999997
        ],
        [
         "Richter Supermarkt",
         20033.200000000004
        ],
        [
         "Great Lakes Food Market",
         19711.13
        ],
        [
         "Blondesddsl père et fils",
         19088
        ],
        [
         "Simons bistro",
         18138.45
        ],
        [
         "LINO-Delicateses",
         17889.550000000003
        ],
        [
         "LILA-Supermercado",
         17825.06
        ],
        [
         "Seven Seas Imports",
         17172.05
        ],
        [
         "Vaffeljernet",
         16643.8
        ],
        [
         "Wartian Herkku",
         16617.1
        ],
        [
         "Old World Delicatessen",
         16325.15
        ],
        [
         "Eastern Connection",
         15033.66
        ],
        [
         "Around the Horn",
         13806.5
        ],
        [
         "Ottilies Käseladen",
         13157.5
        ],
        [
         "Ricardo Adocicados",
         12924.4
        ],
        [
         "Chop-suey Chinese",
         12886.3
        ],
        [
         "Split Rail Beer & Ale",
         12489.7
        ],
        [
         "Godos Cocina Típica",
         11830.1
        ],
        [
         "Folies gourmandes",
         11666.9
        ],
        [
         "Tortuga Restaurante",
         10812.15
        ],
        [
         "Die Wandernde Kuh",
         10653.85
        ],
        [
         "Maison Dewey",
         10430.58
        ],
        [
         "La maison d'Asie",
         10272.35
        ],
        [
         "Victuailles en stock",
         9937.1
        ],
        [
         "Gourmet Lanchonetes",
         8702.23
        ],
        [
         "Magazzini Alimentari Riuniti",
         7603.849999999999
        ],
        [
         "Reggiani Caseifici",
         7555.6
        ],
        [
         "Antonio Moreno Taquería",
         7515.349999999999
        ],
        [
         "Tradição Hipermercados",
         7310.62
        ],
        [
         "Furia Bacalhau e Frutos do Mar",
         7151.55
        ],
        [
         "Que Delícia",
         6973.63
        ],
        [
         "Wellington Importadora",
         6480.7
        ],
        [
         "Island Trading",
         6146.3
        ],
        [
         "B's Beverages",
         6089.900000000001
        ],
        [
         "Santé Gourmet",
         5735.15
        ],
        [
         "Princesa Isabel Vinhos",
         5317.1
        ],
        [
         "Bólido Comidas preparadas",
         5297.8
        ],
        [
         "Morgenstern Gesundkost",
         5042.200000000001
        ],
        [
         "Toms Spezialitäten",
         4954
        ],
        [
         "Alfreds Futterkiste",
         4596.2
        ],
        [
         "Familia Arquibaldo",
         4438.900000000001
        ],
        [
         "Lonesome Pine Restaurant",
         4258.6
        ],
        [
         "Pericles Comidas clásicas",
         4242.2
        ],
        [
         "Comércio Mineiro",
         3810.75
        ],
        [
         "Drachenblut Delikatessen",
         3763.2099999999996
        ],
        [
         "Wolski  Zajazd",
         3531.95
        ],
        [
         "Let's Stop N Shop",
         3490.02
        ],
        [
         "Océano Atlántico Ltda.",
         3460.2
        ],
        [
         "The Big Cheese",
         3361
        ],
        [
         "Blauer See Delikatessen",
         3239.8
        ],
        [
         "France restauration",
         3172.16
        ],
        [
         "Wilman Kala",
         3161.35
        ],
        [
         "Hungry Coyote Import Store",
         3063.2
        ],
        [
         "Rancho grande",
         2844.1
        ],
        [
         "Spécialités du monde",
         2423.35
        ],
        [
         "La corne d'abondance",
         1992.0500000000002
        ],
        [
         "The Cracker Box",
         1947.24
        ],
        [
         "Cactus Comidas para llevar",
         1814.8
        ],
        [
         "Consolidated Holdings",
         1719.1
        ],
        [
         "Du monde entier",
         1615.9
        ],
        [
         "Trail's Head Gourmet Provisioners",
         1571.1999999999998
        ],
        [
         "Franchi S.p.A.",
         1545.7
        ],
        [
         "GROSELLA-Restaurante",
         1488.7
        ],
        [
         "Vins et alcools Chevalier",
         1480
        ],
        [
         "Romero y tomillo",
         1467.2900000000002
        ],
        [
         "Ana Trujillo Emparedados y helados",
         1402.95
        ],
        [
         "Galería del gastrónomo",
         836.7
        ],
        [
         "North/South",
         649
        ],
        [
         "Laughing Bacchus Wine Cellars",
         522.5
        ],
        [
         "Lazy K Kountry Store",
         357
        ],
        [
         "Centro comercial Moctezuma",
         100.8
        ]
       ],
       "datasetInfos": [],
       "dbfsResultPath": null,
       "isJsonSchema": true,
       "metadata": {
        "isDbfsCommandResult": false
       },
       "overflow": false,
       "plotOptions": {
        "customPlotOptions": {},
        "displayType": "table",
        "pivotAggregation": null,
        "pivotColumns": null,
        "xColumns": null,
        "yColumns": null
       },
       "removedWidgets": [],
       "schema": [
        {
         "metadata": "{}",
         "name": "CompanyName",
         "type": "\"string\""
        },
        {
         "metadata": "{}",
         "name": "TotalSpending",
         "type": "\"double\""
        }
       ],
       "type": "table"
      }
     },
     "output_type": "display_data"
    }
   ],
   "source": [
    "%sql\n",
    "-- Which customers are the biggest spenders in terms of total amount spent on orders?\n",
    "SELECT customers.CompanyName, SUM(Quantity * UnitPrice) AS TotalSpending\n",
    "FROM customers\n",
    "JOIN orders\n",
    "ON customers.CustomerID = orders.CustomerID\n",
    "JOIN order_details\n",
    "ON orders.OrderID = order_details.OrderID\n",
    "GROUP BY customers.CustomerID, customers.CompanyName\n",
    "ORDER BY TotalSpending DESC;"
   ]
  },
  {
   "cell_type": "code",
   "execution_count": 0,
   "metadata": {
    "application/vnd.databricks.v1+cell": {
     "inputWidgets": {},
     "nuid": "b08379c3-861f-49e5-99ca-6a0fa25d9dd2",
     "showTitle": false,
     "title": ""
    }
   },
   "outputs": [
    {
     "data": {
      "text/html": [
       "<style scoped>\n",
       "  .table-result-container {\n",
       "    max-height: 300px;\n",
       "    overflow: auto;\n",
       "  }\n",
       "  table, th, td {\n",
       "    border: 1px solid black;\n",
       "    border-collapse: collapse;\n",
       "  }\n",
       "  th, td {\n",
       "    padding: 5px;\n",
       "  }\n",
       "  th {\n",
       "    text-align: left;\n",
       "  }\n",
       "</style><div class='table-result-container'><table class='table-result'><thead style='background-color: white'><tr><th>CompanyName</th><th>TotalSpending</th></tr></thead><tbody><tr><td>QUICK-Stop</td><td>117483.39000000001</td></tr><tr><td>Save-a-lot Markets</td><td>115673.39</td></tr><tr><td>Ernst Handel</td><td>113236.68</td></tr><tr><td>Hungry Owl All-Night Grocers</td><td>57317.39000000001</td></tr><tr><td>Rattlesnake Canyon Grocery</td><td>52245.9</td></tr><tr><td>Hanari Carnes</td><td>34101.15</td></tr><tr><td>Folk och fä HB</td><td>32555.55</td></tr><tr><td>Mère Paillarde</td><td>32203.9</td></tr><tr><td>Königlich Essen</td><td>31745.75</td></tr><tr><td>Queen Cozinha</td><td>30226.099999999995</td></tr><tr><td>White Clover Markets</td><td>29073.45</td></tr><tr><td>Frankenversand</td><td>28722.71</td></tr><tr><td>Berglunds snabbköp</td><td>26968.149999999998</td></tr><tr><td>Piccolo und mehr</td><td>26259.95</td></tr><tr><td>Suprêmes délices</td><td>24704.399999999998</td></tr><tr><td>Bon app'</td><td>23850.95</td></tr><tr><td>HILARION-Abastos</td><td>23611.58</td></tr><tr><td>Bottom-Dollar Markets</td><td>22607.7</td></tr><tr><td>Lehmanns Marktstand</td><td>21282.019999999997</td></tr><tr><td>Richter Supermarkt</td><td>20033.200000000004</td></tr></tbody></table></div>"
      ]
     },
     "metadata": {
      "application/vnd.databricks.v1+output": {
       "addedWidgets": {},
       "aggData": [],
       "aggError": "",
       "aggOverflow": false,
       "aggSchema": [],
       "aggSeriesLimitReached": false,
       "aggType": "",
       "arguments": {},
       "columnCustomDisplayInfos": {},
       "data": [
        [
         "QUICK-Stop",
         117483.39000000001
        ],
        [
         "Save-a-lot Markets",
         115673.39
        ],
        [
         "Ernst Handel",
         113236.68
        ],
        [
         "Hungry Owl All-Night Grocers",
         57317.39000000001
        ],
        [
         "Rattlesnake Canyon Grocery",
         52245.9
        ],
        [
         "Hanari Carnes",
         34101.15
        ],
        [
         "Folk och fä HB",
         32555.55
        ],
        [
         "Mère Paillarde",
         32203.9
        ],
        [
         "Königlich Essen",
         31745.75
        ],
        [
         "Queen Cozinha",
         30226.099999999995
        ],
        [
         "White Clover Markets",
         29073.45
        ],
        [
         "Frankenversand",
         28722.71
        ],
        [
         "Berglunds snabbköp",
         26968.149999999998
        ],
        [
         "Piccolo und mehr",
         26259.95
        ],
        [
         "Suprêmes délices",
         24704.399999999998
        ],
        [
         "Bon app'",
         23850.95
        ],
        [
         "HILARION-Abastos",
         23611.58
        ],
        [
         "Bottom-Dollar Markets",
         22607.7
        ],
        [
         "Lehmanns Marktstand",
         21282.019999999997
        ],
        [
         "Richter Supermarkt",
         20033.200000000004
        ]
       ],
       "datasetInfos": [],
       "dbfsResultPath": null,
       "isJsonSchema": true,
       "metadata": {
        "isDbfsCommandResult": false
       },
       "overflow": false,
       "plotOptions": {
        "customPlotOptions": {},
        "displayType": "table",
        "pivotAggregation": null,
        "pivotColumns": null,
        "xColumns": null,
        "yColumns": null
       },
       "removedWidgets": [],
       "schema": [
        {
         "metadata": "{}",
         "name": "CompanyName",
         "type": "\"string\""
        },
        {
         "metadata": "{}",
         "name": "TotalSpending",
         "type": "\"double\""
        }
       ],
       "type": "table"
      }
     },
     "output_type": "display_data"
    }
   ],
   "source": [
    "%sql\n",
    "-- Which customers are the biggest spenders in terms of total amount spent on orders?\n",
    "-- List only companies with a total spending of greater than 20,000.\n",
    "SELECT customers.CompanyName, SUM(Quantity * UnitPrice) AS TotalSpending\n",
    "FROM customers\n",
    "JOIN orders\n",
    "ON customers.CustomerID = orders.CustomerID\n",
    "JOIN order_details\n",
    "ON orders.OrderID = order_details.OrderID\n",
    "GROUP BY customers.CustomerID, customers.CompanyName\n",
    "HAVING TotalSpending > 20000\n",
    "ORDER BY TotalSpending DESC;"
   ]
  },
  {
   "cell_type": "code",
   "execution_count": 0,
   "metadata": {
    "application/vnd.databricks.v1+cell": {
     "inputWidgets": {},
     "nuid": "07a198fc-7f87-4855-925f-528e04e0d8bd",
     "showTitle": false,
     "title": ""
    }
   },
   "outputs": [
    {
     "data": {
      "text/html": [
       "<style scoped>\n",
       "  .table-result-container {\n",
       "    max-height: 300px;\n",
       "    overflow: auto;\n",
       "  }\n",
       "  table, th, td {\n",
       "    border: 1px solid black;\n",
       "    border-collapse: collapse;\n",
       "  }\n",
       "  th, td {\n",
       "    padding: 5px;\n",
       "  }\n",
       "  th {\n",
       "    text-align: left;\n",
       "  }\n",
       "</style><div class='table-result-container'><table class='table-result'><thead style='background-color: white'><tr><th>LastName</th><th>FirstName</th><th>NumOrders</th></tr></thead><tbody><tr><td>Peacock</td><td>Margaret</td><td>156</td></tr><tr><td>Leverling</td><td>Janet</td><td>127</td></tr><tr><td>Davolio</td><td>Nancy</td><td>123</td></tr><tr><td>Callahan</td><td>Laura</td><td>104</td></tr><tr><td>Fuller</td><td>Andrew</td><td>96</td></tr><tr><td>King</td><td>Robert</td><td>72</td></tr><tr><td>Suyama</td><td>Michael</td><td>67</td></tr><tr><td>Dodsworth</td><td>Anne</td><td>43</td></tr><tr><td>Buchanan</td><td>Steven</td><td>42</td></tr></tbody></table></div>"
      ]
     },
     "metadata": {
      "application/vnd.databricks.v1+output": {
       "addedWidgets": {},
       "aggData": [],
       "aggError": "",
       "aggOverflow": false,
       "aggSchema": [],
       "aggSeriesLimitReached": false,
       "aggType": "",
       "arguments": {},
       "columnCustomDisplayInfos": {},
       "data": [
        [
         "Peacock",
         "Margaret",
         156
        ],
        [
         "Leverling",
         "Janet",
         127
        ],
        [
         "Davolio",
         "Nancy",
         123
        ],
        [
         "Callahan",
         "Laura",
         104
        ],
        [
         "Fuller",
         "Andrew",
         96
        ],
        [
         "King",
         "Robert",
         72
        ],
        [
         "Suyama",
         "Michael",
         67
        ],
        [
         "Dodsworth",
         "Anne",
         43
        ],
        [
         "Buchanan",
         "Steven",
         42
        ]
       ],
       "datasetInfos": [],
       "dbfsResultPath": null,
       "isJsonSchema": true,
       "metadata": {
        "isDbfsCommandResult": false
       },
       "overflow": false,
       "plotOptions": {
        "customPlotOptions": {},
        "displayType": "plotlyBar",
        "pivotAggregation": null,
        "pivotColumns": null,
        "xColumns": null,
        "yColumns": null
       },
       "removedWidgets": [],
       "schema": [
        {
         "metadata": "{}",
         "name": "LastName",
         "type": "\"string\""
        },
        {
         "metadata": "{}",
         "name": "FirstName",
         "type": "\"string\""
        },
        {
         "metadata": "{}",
         "name": "NumOrders",
         "type": "\"long\""
        }
       ],
       "type": "table"
      }
     },
     "output_type": "display_data"
    }
   ],
   "source": [
    "%sql\n",
    "-- Which employees have sold the most orders?\n",
    "SELECT LastName, FirstName, COUNT(OrderID) AS NumOrders\n",
    "FROM employees e\n",
    "JOIN orders o\n",
    "ON e.EmployeeID = o.EmployeeID\n",
    "GROUP BY LastName, FirstName\n",
    "ORDER BY NumOrders DESC;"
   ]
  },
  {
   "cell_type": "code",
   "execution_count": 0,
   "metadata": {
    "application/vnd.databricks.v1+cell": {
     "inputWidgets": {},
     "nuid": "c4cab258-3b14-4472-ac86-87b6c8f4e881",
     "showTitle": false,
     "title": ""
    }
   },
   "outputs": [
    {
     "data": {
      "text/html": [
       "<style scoped>\n",
       "  .table-result-container {\n",
       "    max-height: 300px;\n",
       "    overflow: auto;\n",
       "  }\n",
       "  table, th, td {\n",
       "    border: 1px solid black;\n",
       "    border-collapse: collapse;\n",
       "  }\n",
       "  th, td {\n",
       "    padding: 5px;\n",
       "  }\n",
       "  th {\n",
       "    text-align: left;\n",
       "  }\n",
       "</style><div class='table-result-container'><table class='table-result'><thead style='background-color: white'><tr><th>CustomerID</th><th>CustomerID</th></tr></thead><tbody><tr><td>FISSA</td><td>null</td></tr><tr><td>PARIS</td><td>null</td></tr></tbody></table></div>"
      ]
     },
     "metadata": {
      "application/vnd.databricks.v1+output": {
       "addedWidgets": {},
       "aggData": [],
       "aggError": "",
       "aggOverflow": false,
       "aggSchema": [],
       "aggSeriesLimitReached": false,
       "aggType": "",
       "arguments": {},
       "columnCustomDisplayInfos": {},
       "data": [
        [
         "FISSA",
         null
        ],
        [
         "PARIS",
         null
        ]
       ],
       "datasetInfos": [],
       "dbfsResultPath": null,
       "isJsonSchema": true,
       "metadata": {
        "isDbfsCommandResult": false
       },
       "overflow": false,
       "plotOptions": {
        "customPlotOptions": {},
        "displayType": "table",
        "pivotAggregation": null,
        "pivotColumns": null,
        "xColumns": null,
        "yColumns": null
       },
       "removedWidgets": [],
       "schema": [
        {
         "metadata": "{}",
         "name": "CustomerID",
         "type": "\"string\""
        },
        {
         "metadata": "{}",
         "name": "CustomerID",
         "type": "\"string\""
        }
       ],
       "type": "table"
      }
     },
     "output_type": "display_data"
    }
   ],
   "source": [
    "%sql\n",
    "-- List customer IDs of customers who have never placed an order.\n",
    "SELECT c.CustomerID, o.CustomerID\n",
    "FROM customers c\n",
    "LEFT JOIN orders o\n",
    "ON c.CustomerID = o.CustomerID\n",
    "WHERE o.CustomerID IS NULL;"
   ]
  },
  {
   "cell_type": "code",
   "execution_count": 0,
   "metadata": {
    "application/vnd.databricks.v1+cell": {
     "inputWidgets": {},
     "nuid": "83e4f400-28b8-4e51-8701-b9974e4eec70",
     "showTitle": false,
     "title": ""
    }
   },
   "outputs": [
    {
     "data": {
      "text/html": [
       "<style scoped>\n",
       "  .table-result-container {\n",
       "    max-height: 300px;\n",
       "    overflow: auto;\n",
       "  }\n",
       "  table, th, td {\n",
       "    border: 1px solid black;\n",
       "    border-collapse: collapse;\n",
       "  }\n",
       "  th, td {\n",
       "    padding: 5px;\n",
       "  }\n",
       "  th {\n",
       "    text-align: left;\n",
       "  }\n",
       "</style><div class='table-result-container'><table class='table-result'><thead style='background-color: white'><tr><th>OrderID</th><th>TotalOrders</th></tr></thead><tbody><tr><td>11077</td><td>25</td></tr><tr><td>10979</td><td>6</td></tr><tr><td>10657</td><td>6</td></tr><tr><td>10847</td><td>6</td></tr><tr><td>10514</td><td>5</td></tr><tr><td>10558</td><td>5</td></tr><tr><td>10294</td><td>5</td></tr><tr><td>10845</td><td>5</td></tr><tr><td>10458</td><td>5</td></tr><tr><td>10553</td><td>5</td></tr><tr><td>10962</td><td>5</td></tr><tr><td>10607</td><td>5</td></tr><tr><td>10393</td><td>5</td></tr><tr><td>10861</td><td>5</td></tr><tr><td>10612</td><td>5</td></tr></tbody></table></div>"
      ]
     },
     "metadata": {
      "application/vnd.databricks.v1+output": {
       "addedWidgets": {},
       "aggData": [],
       "aggError": "",
       "aggOverflow": false,
       "aggSchema": [],
       "aggSeriesLimitReached": false,
       "aggType": "",
       "arguments": {},
       "columnCustomDisplayInfos": {},
       "data": [
        [
         11077,
         25
        ],
        [
         10979,
         6
        ],
        [
         10657,
         6
        ],
        [
         10847,
         6
        ],
        [
         10514,
         5
        ],
        [
         10558,
         5
        ],
        [
         10294,
         5
        ],
        [
         10845,
         5
        ],
        [
         10458,
         5
        ],
        [
         10553,
         5
        ],
        [
         10962,
         5
        ],
        [
         10607,
         5
        ],
        [
         10393,
         5
        ],
        [
         10861,
         5
        ],
        [
         10612,
         5
        ]
       ],
       "datasetInfos": [],
       "dbfsResultPath": null,
       "isJsonSchema": true,
       "metadata": {
        "isDbfsCommandResult": false
       },
       "overflow": false,
       "plotOptions": {
        "customPlotOptions": {},
        "displayType": "table",
        "pivotAggregation": null,
        "pivotColumns": null,
        "xColumns": null,
        "yColumns": null
       },
       "removedWidgets": [],
       "schema": [
        {
         "metadata": "{}",
         "name": "OrderID",
         "type": "\"integer\""
        },
        {
         "metadata": "{}",
         "name": "TotalOrders",
         "type": "\"long\""
        }
       ],
       "type": "table"
      }
     },
     "output_type": "display_data"
    }
   ],
   "source": [
    "%sql\n",
    "-- Show the top 15 order IDs\n",
    "SELECT o.OrderID, COUNT(*) AS TotalOrders\n",
    "FROM orders o\n",
    "JOIN order_details od\n",
    "ON o.OrderID = od.OrderID\n",
    "GROUP BY o.OrderID\n",
    "ORDER BY TotalOrders DESC\n",
    "LIMIT 15;"
   ]
  },
  {
   "cell_type": "code",
   "execution_count": 0,
   "metadata": {
    "application/vnd.databricks.v1+cell": {
     "inputWidgets": {},
     "nuid": "455b778c-7947-48f5-b6ac-82e8f0c9d780",
     "showTitle": false,
     "title": ""
    }
   },
   "outputs": [
    {
     "data": {
      "text/html": [
       "<style scoped>\n",
       "  .table-result-container {\n",
       "    max-height: 300px;\n",
       "    overflow: auto;\n",
       "  }\n",
       "  table, th, td {\n",
       "    border: 1px solid black;\n",
       "    border-collapse: collapse;\n",
       "  }\n",
       "  th, td {\n",
       "    padding: 5px;\n",
       "  }\n",
       "  th {\n",
       "    text-align: left;\n",
       "  }\n",
       "</style><div class='table-result-container'><table class='table-result'><thead style='background-color: white'><tr><th>ProductName</th><th>Discount</th></tr></thead><tbody><tr><td>Flotemysost</td><td>0.25</td></tr><tr><td>Singaporean Hokkien Fried Mee</td><td>0.25</td></tr><tr><td>Gorgonzola Telino</td><td>0.25</td></tr><tr><td>Tarte au sucre</td><td>0.25</td></tr><tr><td>Rhönbräu Klosterbier</td><td>0.25</td></tr><tr><td>Mishi Kobe Niku</td><td>0.25</td></tr><tr><td>Scottish Longbreads</td><td>0.25</td></tr><tr><td>Schoggi Schokolade</td><td>0.25</td></tr><tr><td>Côte de Blaye</td><td>0.25</td></tr><tr><td>Queso Cabrales</td><td>0.25</td></tr><tr><td>Inlagd Sill</td><td>0.25</td></tr><tr><td>Gula Malacca</td><td>0.25</td></tr><tr><td>Guaraná Fantástica</td><td>0.25</td></tr><tr><td>Sir Rodney's Scones</td><td>0.25</td></tr><tr><td>Chai</td><td>0.25</td></tr><tr><td>Thüringer Rostbratwurst</td><td>0.25</td></tr><tr><td>Jack's New England Clam Chowder</td><td>0.25</td></tr><tr><td>Gnocchi di nonna Alice</td><td>0.25</td></tr><tr><td>Spegesild</td><td>0.25</td></tr><tr><td>Filo Mix</td><td>0.25</td></tr><tr><td>Nord-Ost Matjeshering</td><td>0.25</td></tr><tr><td>Original Frankfurter grüne Soße</td><td>0.25</td></tr><tr><td>Chef Anton's Cajun Seasoning</td><td>0.25</td></tr><tr><td>Camembert Pierrot</td><td>0.25</td></tr><tr><td>Guaraná Fantástica</td><td>0.25</td></tr><tr><td>Teatime Chocolate Biscuits</td><td>0.25</td></tr><tr><td>Thüringer Rostbratwurst</td><td>0.25</td></tr><tr><td>Inlagd Sill</td><td>0.25</td></tr><tr><td>Pâté chinois</td><td>0.25</td></tr><tr><td>Steeleye Stout</td><td>0.25</td></tr><tr><td>Chang</td><td>0.25</td></tr><tr><td>Manjimup Dried Apples</td><td>0.25</td></tr><tr><td>Escargots de Bourgogne</td><td>0.25</td></tr><tr><td>Guaraná Fantástica</td><td>0.25</td></tr><tr><td>Tarte au sucre</td><td>0.25</td></tr><tr><td>Sir Rodney's Scones</td><td>0.25</td></tr><tr><td>Outback Lager</td><td>0.25</td></tr><tr><td>Chang</td><td>0.25</td></tr><tr><td>Mozzarella di Giovanni</td><td>0.25</td></tr><tr><td>Thüringer Rostbratwurst</td><td>0.25</td></tr><tr><td>Chang</td><td>0.25</td></tr><tr><td>Raclette Courdavault</td><td>0.25</td></tr><tr><td>Chai</td><td>0.25</td></tr><tr><td>Chartreuse verte</td><td>0.25</td></tr><tr><td>Alice Mutton</td><td>0.25</td></tr><tr><td>Chef Anton's Gumbo Mix</td><td>0.25</td></tr><tr><td>Nord-Ost Matjeshering</td><td>0.25</td></tr><tr><td>Zaanse koeken</td><td>0.25</td></tr><tr><td>Tourtière</td><td>0.25</td></tr><tr><td>Grandma's Boysenberry Spread</td><td>0.25</td></tr><tr><td>Chang</td><td>0.25</td></tr><tr><td>Gnocchi di nonna Alice</td><td>0.25</td></tr><tr><td>Tofu</td><td>0.25</td></tr><tr><td>Teatime Chocolate Biscuits</td><td>0.25</td></tr><tr><td>Tourtière</td><td>0.25</td></tr><tr><td>Escargots de Bourgogne</td><td>0.25</td></tr><tr><td>Carnarvon Tigers</td><td>0.25</td></tr><tr><td>Jack's New England Clam Chowder</td><td>0.25</td></tr><tr><td>Camembert Pierrot</td><td>0.25</td></tr><tr><td>Queso Cabrales</td><td>0.25</td></tr><tr><td>Nord-Ost Matjeshering</td><td>0.25</td></tr><tr><td>Tarte au sucre</td><td>0.25</td></tr><tr><td>Pavlova</td><td>0.25</td></tr><tr><td>Tourtière</td><td>0.25</td></tr><tr><td>Tofu</td><td>0.25</td></tr><tr><td>Queso Manchego La Pastora</td><td>0.25</td></tr><tr><td>Zaanse koeken</td><td>0.25</td></tr><tr><td>Nord-Ost Matjeshering</td><td>0.25</td></tr><tr><td>Laughing Lumberjack Lager</td><td>0.25</td></tr><tr><td>Gnocchi di nonna Alice</td><td>0.25</td></tr><tr><td>Camembert Pierrot</td><td>0.25</td></tr><tr><td>Ravioli Angelo</td><td>0.25</td></tr><tr><td>Gudbrandsdalsost</td><td>0.25</td></tr><tr><td>NuNuCa Nuß-Nougat-Creme</td><td>0.25</td></tr><tr><td>Sasquatch Ale</td><td>0.25</td></tr><tr><td>NuNuCa Nuß-Nougat-Creme</td><td>0.25</td></tr><tr><td>Ipoh Coffee</td><td>0.25</td></tr><tr><td>Tarte au sucre</td><td>0.25</td></tr><tr><td>NuNuCa Nuß-Nougat-Creme</td><td>0.25</td></tr><tr><td>Queso Cabrales</td><td>0.25</td></tr><tr><td>Gumbär Gummibärchen</td><td>0.25</td></tr><tr><td>Steeleye Stout</td><td>0.25</td></tr><tr><td>Gorgonzola Telino</td><td>0.25</td></tr><tr><td>Inlagd Sill</td><td>0.25</td></tr><tr><td>Alice Mutton</td><td>0.25</td></tr><tr><td>Sirop d'érable</td><td>0.25</td></tr><tr><td>Alice Mutton</td><td>0.25</td></tr><tr><td>Thüringer Rostbratwurst</td><td>0.25</td></tr><tr><td>Spegesild</td><td>0.25</td></tr><tr><td>Gudbrandsdalsost</td><td>0.25</td></tr><tr><td>Nord-Ost Matjeshering</td><td>0.25</td></tr><tr><td>Manjimup Dried Apples</td><td>0.25</td></tr><tr><td>Original Frankfurter grüne Soße</td><td>0.25</td></tr><tr><td>Pâté chinois</td><td>0.25</td></tr><tr><td>Tarte au sucre</td><td>0.25</td></tr><tr><td>Outback Lager</td><td>0.25</td></tr><tr><td>Scottish Longbreads</td><td>0.25</td></tr><tr><td>Inlagd Sill</td><td>0.25</td></tr><tr><td>Chang</td><td>0.25</td></tr><tr><td>Longlife Tofu</td><td>0.25</td></tr><tr><td>Raclette Courdavault</td><td>0.25</td></tr><tr><td>Longlife Tofu</td><td>0.25</td></tr><tr><td>Gudbrandsdalsost</td><td>0.25</td></tr><tr><td>Zaanse koeken</td><td>0.25</td></tr><tr><td>Lakkalikööri</td><td>0.25</td></tr><tr><td>Pâté chinois</td><td>0.25</td></tr><tr><td>Outback Lager</td><td>0.25</td></tr><tr><td>Chai</td><td>0.25</td></tr><tr><td>Carnarvon Tigers</td><td>0.25</td></tr><tr><td>Rössle Sauerkraut</td><td>0.25</td></tr><tr><td>Inlagd Sill</td><td>0.25</td></tr><tr><td>Manjimup Dried Apples</td><td>0.25</td></tr><tr><td>Lakkalikööri</td><td>0.25</td></tr><tr><td>Chartreuse verte</td><td>0.25</td></tr><tr><td>Gumbär Gummibärchen</td><td>0.25</td></tr><tr><td>Northwoods Cranberry Sauce</td><td>0.25</td></tr><tr><td>Thüringer Rostbratwurst</td><td>0.25</td></tr><tr><td>Spegesild</td><td>0.25</td></tr><tr><td>Guaraná Fantástica</td><td>0.25</td></tr><tr><td>Tourtière</td><td>0.25</td></tr><tr><td>Vegie-spread</td><td>0.25</td></tr><tr><td>Chai</td><td>0.25</td></tr><tr><td>Wimmers gute Semmelknödel</td><td>0.25</td></tr><tr><td>Chang</td><td>0.25</td></tr><tr><td>Ikura</td><td>0.25</td></tr><tr><td>Guaraná Fantástica</td><td>0.25</td></tr><tr><td>Nord-Ost Matjeshering</td><td>0.25</td></tr><tr><td>Alice Mutton</td><td>0.25</td></tr><tr><td>Flotemysost</td><td>0.25</td></tr><tr><td>Pavlova</td><td>0.25</td></tr><tr><td>Alice Mutton</td><td>0.25</td></tr><tr><td>Gnocchi di nonna Alice</td><td>0.25</td></tr><tr><td>Outback Lager</td><td>0.25</td></tr><tr><td>Original Frankfurter grüne Soße</td><td>0.25</td></tr><tr><td>Queso Cabrales</td><td>0.25</td></tr><tr><td>Thüringer Rostbratwurst</td><td>0.25</td></tr><tr><td>Boston Crab Meat</td><td>0.25</td></tr><tr><td>Teatime Chocolate Biscuits</td><td>0.25</td></tr><tr><td>Chef Anton's Cajun Seasoning</td><td>0.25</td></tr><tr><td>Geitost</td><td>0.25</td></tr><tr><td>Gustaf's Knäckebröd</td><td>0.25</td></tr><tr><td>Chai</td><td>0.25</td></tr><tr><td>Camembert Pierrot</td><td>0.25</td></tr><tr><td>Zaanse koeken</td><td>0.25</td></tr><tr><td>Nord-Ost Matjeshering</td><td>0.25</td></tr><tr><td>Carnarvon Tigers</td><td>0.25</td></tr><tr><td>Sir Rodney's Marmalade</td><td>0.25</td></tr><tr><td>Tunnbröd</td><td>0.25</td></tr><tr><td>Pavlova</td><td>0.25</td></tr><tr><td>Konbu</td><td>0.25</td></tr><tr><td>Ipoh Coffee</td><td>0.25</td></tr><tr><td>Scottish Longbreads</td><td>0.25</td></tr><tr><td>Gorgonzola Telino</td><td>0.25</td></tr><tr><td>Camembert Pierrot</td><td>0.25</td></tr><tr><td>Gnocchi di nonna Alice</td><td>0.2</td></tr><tr><td>Flotemysost</td><td>0.2</td></tr><tr><td>Carnarvon Tigers</td><td>0.2</td></tr><tr><td>Chang</td><td>0.2</td></tr><tr><td>Inlagd Sill</td><td>0.2</td></tr><tr><td>Singaporean Hokkien Fried Mee</td><td>0.2</td></tr><tr><td>Northwoods Cranberry Sauce</td><td>0.2</td></tr><tr><td>Wimmers gute Semmelknödel</td><td>0.2</td></tr><tr><td>Tourtière</td><td>0.2</td></tr><tr><td>Chang</td><td>0.2</td></tr><tr><td>NuNuCa Nuß-Nougat-Creme</td><td>0.2</td></tr><tr><td>Teatime Chocolate Biscuits</td><td>0.2</td></tr><tr><td>Sirop d'érable</td><td>0.2</td></tr><tr><td>Flotemysost</td><td>0.2</td></tr><tr><td>Singaporean Hokkien Fried Mee</td><td>0.2</td></tr><tr><td>Inlagd Sill</td><td>0.2</td></tr><tr><td>Rhönbräu Klosterbier</td><td>0.2</td></tr><tr><td>Chang</td><td>0.2</td></tr><tr><td>Chang</td><td>0.2</td></tr><tr><td>Guaraná Fantástica</td><td>0.2</td></tr><tr><td>Perth Pasties</td><td>0.2</td></tr><tr><td>Mascarpone Fabioli</td><td>0.2</td></tr><tr><td>Boston Crab Meat</td><td>0.2</td></tr><tr><td>Côte de Blaye</td><td>0.2</td></tr><tr><td>Raclette Courdavault</td><td>0.2</td></tr><tr><td>Sasquatch Ale</td><td>0.2</td></tr><tr><td>Scottish Longbreads</td><td>0.2</td></tr><tr><td>Rössle Sauerkraut</td><td>0.2</td></tr><tr><td>Steeleye Stout</td><td>0.2</td></tr><tr><td>Rogede sild</td><td>0.2</td></tr><tr><td>Boston Crab Meat</td><td>0.2</td></tr><tr><td>Scottish Longbreads</td><td>0.2</td></tr><tr><td>Gudbrandsdalsost</td><td>0.2</td></tr><tr><td>Gorgonzola Telino</td><td>0.2</td></tr><tr><td>Rhönbräu Klosterbier</td><td>0.2</td></tr><tr><td>Tourtière</td><td>0.2</td></tr><tr><td>Gnocchi di nonna Alice</td><td>0.2</td></tr><tr><td>Nord-Ost Matjeshering</td><td>0.2</td></tr><tr><td>Rhönbräu Klosterbier</td><td>0.2</td></tr><tr><td>Tofu</td><td>0.2</td></tr><tr><td>Gumbär Gummibärchen</td><td>0.2</td></tr><tr><td>Gudbrandsdalsost</td><td>0.2</td></tr><tr><td>Konbu</td><td>0.2</td></tr><tr><td>NuNuCa Nuß-Nougat-Creme</td><td>0.2</td></tr><tr><td>Gula Malacca</td><td>0.2</td></tr><tr><td>Original Frankfurter grüne Soße</td><td>0.2</td></tr><tr><td>Chartreuse verte</td><td>0.2</td></tr><tr><td>Chai</td><td>0.2</td></tr><tr><td>Gravad lax</td><td>0.2</td></tr><tr><td>Rogede sild</td><td>0.2</td></tr><tr><td>Camembert Pierrot</td><td>0.2</td></tr><tr><td>Tunnbröd</td><td>0.2</td></tr><tr><td>Outback Lager</td><td>0.2</td></tr><tr><td>Ipoh Coffee</td><td>0.2</td></tr><tr><td>Laughing Lumberjack Lager</td><td>0.2</td></tr><tr><td>Pâté chinois</td><td>0.2</td></tr><tr><td>Escargots de Bourgogne</td><td>0.2</td></tr><tr><td>Rhönbräu Klosterbier</td><td>0.2</td></tr><tr><td>Filo Mix</td><td>0.2</td></tr><tr><td>Chang</td><td>0.2</td></tr><tr><td>Outback Lager</td><td>0.2</td></tr><tr><td>Lakkalikööri</td><td>0.2</td></tr><tr><td>Boston Crab Meat</td><td>0.2</td></tr><tr><td>Chang</td><td>0.2</td></tr><tr><td>Queso Manchego La Pastora</td><td>0.2</td></tr><tr><td>Ipoh Coffee</td><td>0.2</td></tr><tr><td>Sirop d'érable</td><td>0.2</td></tr><tr><td>Carnarvon Tigers</td><td>0.2</td></tr><tr><td>Chef Anton's Gumbo Mix</td><td>0.2</td></tr><tr><td>Outback Lager</td><td>0.2</td></tr><tr><td>Chang</td><td>0.2</td></tr><tr><td>Wimmers gute Semmelknödel</td><td>0.2</td></tr><tr><td>Chef Anton's Gumbo Mix</td><td>0.2</td></tr><tr><td>Chai</td><td>0.2</td></tr><tr><td>Queso Cabrales</td><td>0.2</td></tr><tr><td>Perth Pasties</td><td>0.2</td></tr><tr><td>Chang</td><td>0.2</td></tr><tr><td>Nord-Ost Matjeshering</td><td>0.2</td></tr><tr><td>Escargots de Bourgogne</td><td>0.2</td></tr><tr><td>Carnarvon Tigers</td><td>0.2</td></tr><tr><td>Singaporean Hokkien Fried Mee</td><td>0.2</td></tr><tr><td>Chang</td><td>0.2</td></tr><tr><td>Zaanse koeken</td><td>0.2</td></tr><tr><td>Gorgonzola Telino</td><td>0.2</td></tr><tr><td>Mascarpone Fabioli</td><td>0.2</td></tr><tr><td>Manjimup Dried Apples</td><td>0.2</td></tr><tr><td>Chang</td><td>0.2</td></tr><tr><td>Gorgonzola Telino</td><td>0.2</td></tr><tr><td>Inlagd Sill</td><td>0.2</td></tr><tr><td>Côte de Blaye</td><td>0.2</td></tr><tr><td>Pâté chinois</td><td>0.2</td></tr><tr><td>Queso Cabrales</td><td>0.2</td></tr><tr><td>Ikura</td><td>0.2</td></tr><tr><td>Camembert Pierrot</td><td>0.2</td></tr><tr><td>Inlagd Sill</td><td>0.2</td></tr><tr><td>Escargots de Bourgogne</td><td>0.2</td></tr><tr><td>Flotemysost</td><td>0.2</td></tr><tr><td>Camembert Pierrot</td><td>0.2</td></tr><tr><td>Uncle Bob's Organic Dried Pears</td><td>0.2</td></tr><tr><td>Scottish Longbreads</td><td>0.2</td></tr><tr><td>Rogede sild</td><td>0.2</td></tr><tr><td>Filo Mix</td><td>0.2</td></tr><tr><td>Jack's New England Clam Chowder</td><td>0.2</td></tr><tr><td>Gula Malacca</td><td>0.2</td></tr><tr><td>Raclette Courdavault</td><td>0.2</td></tr><tr><td>Scottish Longbreads</td><td>0.2</td></tr><tr><td>Alice Mutton</td><td>0.2</td></tr><tr><td>Steeleye Stout</td><td>0.2</td></tr><tr><td>Raclette Courdavault</td><td>0.2</td></tr><tr><td>Teatime Chocolate Biscuits</td><td>0.2</td></tr><tr><td>Sasquatch Ale</td><td>0.2</td></tr><tr><td>Ravioli Angelo</td><td>0.2</td></tr><tr><td>Ikura</td><td>0.2</td></tr><tr><td>Queso Cabrales</td><td>0.2</td></tr><tr><td>Tourtière</td><td>0.2</td></tr><tr><td>Pavlova</td><td>0.2</td></tr><tr><td>Geitost</td><td>0.2</td></tr><tr><td>Spegesild</td><td>0.2</td></tr><tr><td>Chef Anton's Cajun Seasoning</td><td>0.2</td></tr><tr><td>Gnocchi di nonna Alice</td><td>0.2</td></tr><tr><td>Mascarpone Fabioli</td><td>0.2</td></tr><tr><td>Röd Kaviar</td><td>0.2</td></tr><tr><td>Sir Rodney's Scones</td><td>0.2</td></tr><tr><td>Sirop d'érable</td><td>0.2</td></tr><tr><td>Chai</td><td>0.2</td></tr><tr><td>Nord-Ost Matjeshering</td><td>0.2</td></tr><tr><td>Boston Crab Meat</td><td>0.2</td></tr><tr><td>Geitost</td><td>0.2</td></tr><tr><td>Tourtière</td><td>0.2</td></tr><tr><td>Boston Crab Meat</td><td>0.2</td></tr><tr><td>Tofu</td><td>0.2</td></tr><tr><td>Teatime Chocolate Biscuits</td><td>0.2</td></tr><tr><td>Guaraná Fantástica</td><td>0.2</td></tr><tr><td>Manjimup Dried Apples</td><td>0.2</td></tr><tr><td>Gnocchi di nonna Alice</td><td>0.2</td></tr><tr><td>Gorgonzola Telino</td><td>0.2</td></tr><tr><td>Carnarvon Tigers</td><td>0.2</td></tr><tr><td>Gorgonzola Telino</td><td>0.2</td></tr><tr><td>Rhönbräu Klosterbier</td><td>0.2</td></tr><tr><td>Singaporean Hokkien Fried Mee</td><td>0.2</td></tr><tr><td>Sir Rodney's Marmalade</td><td>0.2</td></tr><tr><td>Gudbrandsdalsost</td><td>0.2</td></tr><tr><td>Lakkalikööri</td><td>0.2</td></tr><tr><td>Vegie-spread</td><td>0.2</td></tr><tr><td>Gnocchi di nonna Alice</td><td>0.2</td></tr><tr><td>Rhönbräu Klosterbier</td><td>0.2</td></tr><tr><td>Guaraná Fantástica</td><td>0.2</td></tr><tr><td>Louisiana Fiery Hot Pepper Sauce</td><td>0.2</td></tr><tr><td>Chef Anton's Cajun Seasoning</td><td>0.2</td></tr><tr><td>Pâté chinois</td><td>0.2</td></tr><tr><td>Tarte au sucre</td><td>0.2</td></tr><tr><td>Sirop d'érable</td><td>0.2</td></tr><tr><td>Scottish Longbreads</td><td>0.2</td></tr><tr><td>Sir Rodney's Scones</td><td>0.2</td></tr><tr><td>Jack's New England Clam Chowder</td><td>0.2</td></tr><tr><td>Chartreuse verte</td><td>0.2</td></tr><tr><td>Escargots de Bourgogne</td><td>0.2</td></tr><tr><td>Gudbrandsdalsost</td><td>0.2</td></tr><tr><td>Flotemysost</td><td>0.2</td></tr><tr><td>Chai</td><td>0.2</td></tr><tr><td>Alice Mutton</td><td>0.2</td></tr><tr><td>Pâté chinois</td><td>0.15</td></tr><tr><td>Raclette Courdavault</td><td>0.15</td></tr><tr><td>Sir Rodney's Scones</td><td>0.15</td></tr><tr><td>Tofu</td><td>0.15</td></tr><tr><td>Gnocchi di nonna Alice</td><td>0.15</td></tr><tr><td>Guaraná Fantástica</td><td>0.15</td></tr><tr><td>Lakkalikööri</td><td>0.15</td></tr><tr><td>Jack's New England Clam Chowder</td><td>0.15</td></tr><tr><td>Spegesild</td><td>0.15</td></tr><tr><td>Gumbär Gummibärchen</td><td>0.15</td></tr><tr><td>Chartreuse verte</td><td>0.15</td></tr><tr><td>Rössle Sauerkraut</td><td>0.15</td></tr><tr><td>Chai</td><td>0.15</td></tr><tr><td>Sir Rodney's Scones</td><td>0.15</td></tr><tr><td>Perth Pasties</td><td>0.15</td></tr><tr><td>Chang</td><td>0.15</td></tr><tr><td>Pavlova</td><td>0.15</td></tr><tr><td>Maxilaku</td><td>0.15</td></tr><tr><td>Gula Malacca</td><td>0.15</td></tr><tr><td>Original Frankfurter grüne Soße</td><td>0.15</td></tr><tr><td>Chef Anton's Cajun Seasoning</td><td>0.15</td></tr><tr><td>Camembert Pierrot</td><td>0.15</td></tr><tr><td>Spegesild</td><td>0.15</td></tr><tr><td>Geitost</td><td>0.15</td></tr><tr><td>Tunnbröd</td><td>0.15</td></tr><tr><td>Rogede sild</td><td>0.15</td></tr><tr><td>Singaporean Hokkien Fried Mee</td><td>0.15</td></tr><tr><td>Carnarvon Tigers</td><td>0.15</td></tr><tr><td>Gudbrandsdalsost</td><td>0.15</td></tr><tr><td>Queso Manchego La Pastora</td><td>0.15</td></tr><tr><td>Tarte au sucre</td><td>0.15</td></tr><tr><td>Geitost</td><td>0.15</td></tr><tr><td>Louisiana Fiery Hot Pepper Sauce</td><td>0.15</td></tr><tr><td>Gudbrandsdalsost</td><td>0.15</td></tr><tr><td>Outback Lager</td><td>0.15</td></tr><tr><td>Raclette Courdavault</td><td>0.15</td></tr><tr><td>Maxilaku</td><td>0.15</td></tr><tr><td>Konbu</td><td>0.15</td></tr><tr><td>Gnocchi di nonna Alice</td><td>0.15</td></tr><tr><td>Gumbär Gummibärchen</td><td>0.15</td></tr><tr><td>Gumbär Gummibärchen</td><td>0.15</td></tr><tr><td>Louisiana Fiery Hot Pepper Sauce</td><td>0.15</td></tr><tr><td>Ikura</td><td>0.15</td></tr><tr><td>Escargots de Bourgogne</td><td>0.15</td></tr><tr><td>Tarte au sucre</td><td>0.15</td></tr><tr><td>Konbu</td><td>0.15</td></tr><tr><td>Rhönbräu Klosterbier</td><td>0.15</td></tr><tr><td>Gnocchi di nonna Alice</td><td>0.15</td></tr><tr><td>Konbu</td><td>0.15</td></tr><tr><td>Sirop d'érable</td><td>0.15</td></tr><tr><td>Original Frankfurter grüne Soße</td><td>0.15</td></tr><tr><td>Chang</td><td>0.15</td></tr><tr><td>Camembert Pierrot</td><td>0.15</td></tr><tr><td>Louisiana Fiery Hot Pepper Sauce</td><td>0.15</td></tr><tr><td>Pavlova</td><td>0.15</td></tr><tr><td>Pavlova</td><td>0.15</td></tr><tr><td>Steeleye Stout</td><td>0.15</td></tr><tr><td>Raclette Courdavault</td><td>0.15</td></tr><tr><td>Vegie-spread</td><td>0.15</td></tr><tr><td>Mozzarella di Giovanni</td><td>0.15</td></tr><tr><td>Raclette Courdavault</td><td>0.15</td></tr><tr><td>Rhönbräu Klosterbier</td><td>0.15</td></tr><tr><td>Chai</td><td>0.15</td></tr><tr><td>Tourtière</td><td>0.15</td></tr><tr><td>Longlife Tofu</td><td>0.15</td></tr><tr><td>Chartreuse verte</td><td>0.15</td></tr><tr><td>Manjimup Dried Apples</td><td>0.15</td></tr><tr><td>Pavlova</td><td>0.15</td></tr><tr><td>Chocolade</td><td>0.15</td></tr><tr><td>Teatime Chocolate Biscuits</td><td>0.15</td></tr><tr><td>Original Frankfurter grüne Soße</td><td>0.15</td></tr><tr><td>Lakkalikööri</td><td>0.15</td></tr><tr><td>Pavlova</td><td>0.15</td></tr><tr><td>Thüringer Rostbratwurst</td><td>0.15</td></tr><tr><td>Sirop d'érable</td><td>0.15</td></tr><tr><td>Chang</td><td>0.15</td></tr><tr><td>Gorgonzola Telino</td><td>0.15</td></tr><tr><td>Louisiana Hot Spiced Okra</td><td>0.15</td></tr><tr><td>Lakkalikööri</td><td>0.15</td></tr><tr><td>Gula Malacca</td><td>0.15</td></tr><tr><td>Ipoh Coffee</td><td>0.15</td></tr><tr><td>Chocolade</td><td>0.15</td></tr><tr><td>Uncle Bob's Organic Dried Pears</td><td>0.15</td></tr><tr><td>Northwoods Cranberry Sauce</td><td>0.15</td></tr><tr><td>Guaraná Fantástica</td><td>0.15</td></tr><tr><td>Zaanse koeken</td><td>0.15</td></tr><tr><td>Mishi Kobe Niku</td><td>0.15</td></tr><tr><td>Camembert Pierrot</td><td>0.15</td></tr><tr><td>Chai</td><td>0.15</td></tr><tr><td>Gnocchi di nonna Alice</td><td>0.15</td></tr><tr><td>Queso Manchego La Pastora</td><td>0.15</td></tr><tr><td>Mascarpone Fabioli</td><td>0.15</td></tr><tr><td>Gorgonzola Telino</td><td>0.15</td></tr><tr><td>Manjimup Dried Apples</td><td>0.15</td></tr><tr><td>Pavlova</td><td>0.15</td></tr><tr><td>Steeleye Stout</td><td>0.15</td></tr><tr><td>Camembert Pierrot</td><td>0.15</td></tr><tr><td>Filo Mix</td><td>0.15</td></tr><tr><td>Raclette Courdavault</td><td>0.15</td></tr><tr><td>Röd Kaviar</td><td>0.15</td></tr><tr><td>Konbu</td><td>0.15</td></tr><tr><td>Gumbär Gummibärchen</td><td>0.15</td></tr><tr><td>Guaraná Fantástica</td><td>0.15</td></tr><tr><td>Ikura</td><td>0.15</td></tr><tr><td>Gnocchi di nonna Alice</td><td>0.15</td></tr><tr><td>Gumbär Gummibärchen</td><td>0.15</td></tr><tr><td>Tourtière</td><td>0.15</td></tr><tr><td>Röd Kaviar</td><td>0.15</td></tr><tr><td>Raclette Courdavault</td><td>0.15</td></tr><tr><td>Flotemysost</td><td>0.15</td></tr><tr><td>Lakkalikööri</td><td>0.15</td></tr><tr><td>Tofu</td><td>0.15</td></tr><tr><td>Rogede sild</td><td>0.15</td></tr><tr><td>Chartreuse verte</td><td>0.15</td></tr><tr><td>Mozzarella di Giovanni</td><td>0.15</td></tr><tr><td>Uncle Bob's Organic Dried Pears</td><td>0.15</td></tr><tr><td>Guaraná Fantástica</td><td>0.15</td></tr><tr><td>Lakkalikööri</td><td>0.15</td></tr><tr><td>Ipoh Coffee</td><td>0.15</td></tr><tr><td>Chocolade</td><td>0.15</td></tr><tr><td>Sirop d'érable</td><td>0.15</td></tr><tr><td>Boston Crab Meat</td><td>0.15</td></tr><tr><td>Tarte au sucre</td><td>0.15</td></tr><tr><td>NuNuCa Nuß-Nougat-Creme</td><td>0.15</td></tr><tr><td>Geitost</td><td>0.15</td></tr><tr><td>Outback Lager</td><td>0.15</td></tr><tr><td>Konbu</td><td>0.15</td></tr><tr><td>Chai</td><td>0.15</td></tr><tr><td>Maxilaku</td><td>0.15</td></tr><tr><td>Tourtière</td><td>0.15</td></tr><tr><td>Chartreuse verte</td><td>0.15</td></tr><tr><td>Pâté chinois</td><td>0.15</td></tr><tr><td>Inlagd Sill</td><td>0.15</td></tr><tr><td>Filo Mix</td><td>0.15</td></tr><tr><td>Chang</td><td>0.15</td></tr><tr><td>Laughing Lumberjack Lager</td><td>0.15</td></tr><tr><td>Pavlova</td><td>0.15</td></tr><tr><td>Camembert Pierrot</td><td>0.15</td></tr><tr><td>Tarte au sucre</td><td>0.15</td></tr><tr><td>Northwoods Cranberry Sauce</td><td>0.15</td></tr><tr><td>Sir Rodney's Scones</td><td>0.15</td></tr><tr><td>Gula Malacca</td><td>0.15</td></tr><tr><td>Sasquatch Ale</td><td>0.15</td></tr><tr><td>Pâté chinois</td><td>0.15</td></tr><tr><td>Steeleye Stout</td><td>0.15</td></tr><tr><td>Singaporean Hokkien Fried Mee</td><td>0.15</td></tr><tr><td>Ikura</td><td>0.15</td></tr><tr><td>Ipoh Coffee</td><td>0.15</td></tr><tr><td>Chai</td><td>0.15</td></tr><tr><td>Pavlova</td><td>0.15</td></tr><tr><td>Chang</td><td>0.15</td></tr><tr><td>Spegesild</td><td>0.15</td></tr><tr><td>Rössle Sauerkraut</td><td>0.15</td></tr><tr><td>Lakkalikööri</td><td>0.15</td></tr><tr><td>Gorgonzola Telino</td><td>0.15</td></tr><tr><td>Manjimup Dried Apples</td><td>0.15</td></tr><tr><td>Queso Cabrales</td><td>0.15</td></tr><tr><td>Boston Crab Meat</td><td>0.1</td></tr><tr><td>Tofu</td><td>0.1</td></tr><tr><td>Steeleye Stout</td><td>0.1</td></tr><tr><td>Mishi Kobe Niku</td><td>0.1</td></tr><tr><td>Carnarvon Tigers</td><td>0.1</td></tr><tr><td>Rhönbräu Klosterbier</td><td>0.1</td></tr><tr><td>Gorgonzola Telino</td><td>0.1</td></tr><tr><td>Konbu</td><td>0.1</td></tr><tr><td>Louisiana Fiery Hot Pepper Sauce</td><td>0.1</td></tr><tr><td>Jack's New England Clam Chowder</td><td>0.1</td></tr><tr><td>Flotemysost</td><td>0.1</td></tr><tr><td>Chef Anton's Cajun Seasoning</td><td>0.1</td></tr><tr><td>Wimmers gute Semmelknödel</td><td>0.1</td></tr><tr><td>Mozzarella di Giovanni</td><td>0.1</td></tr><tr><td>Ikura</td><td>0.1</td></tr><tr><td>Gorgonzola Telino</td><td>0.1</td></tr><tr><td>Outback Lager</td><td>0.1</td></tr><tr><td>Wimmers gute Semmelknödel</td><td>0.1</td></tr><tr><td>Original Frankfurter grüne Soße</td><td>0.1</td></tr><tr><td>Pâté chinois</td><td>0.1</td></tr><tr><td>Alice Mutton</td><td>0.1</td></tr><tr><td>Inlagd Sill</td><td>0.1</td></tr><tr><td>Alice Mutton</td><td>0.1</td></tr><tr><td>Pavlova</td><td>0.1</td></tr><tr><td>Chef Anton's Gumbo Mix</td><td>0.1</td></tr><tr><td>Chef Anton's Cajun Seasoning</td><td>0.1</td></tr><tr><td>Côte de Blaye</td><td>0.1</td></tr><tr><td>Gumbär Gummibärchen</td><td>0.1</td></tr><tr><td>Queso Cabrales</td><td>0.1</td></tr><tr><td>Escargots de Bourgogne</td><td>0.1</td></tr><tr><td>Rössle Sauerkraut</td><td>0.1</td></tr><tr><td>Tarte au sucre</td><td>0.1</td></tr><tr><td>Alice Mutton</td><td>0.1</td></tr><tr><td>Steeleye Stout</td><td>0.1</td></tr><tr><td>Perth Pasties</td><td>0.1</td></tr><tr><td>Röd Kaviar</td><td>0.1</td></tr><tr><td>Rhönbräu Klosterbier</td><td>0.1</td></tr><tr><td>Gorgonzola Telino</td><td>0.1</td></tr><tr><td>Chocolade</td><td>0.1</td></tr><tr><td>Thüringer Rostbratwurst</td><td>0.1</td></tr><tr><td>Outback Lager</td><td>0.1</td></tr><tr><td>Gudbrandsdalsost</td><td>0.1</td></tr><tr><td>Sir Rodney's Marmalade</td><td>0.1</td></tr><tr><td>Gravad lax</td><td>0.1</td></tr><tr><td>Queso Cabrales</td><td>0.1</td></tr><tr><td>Raclette Courdavault</td><td>0.1</td></tr><tr><td>Sir Rodney's Scones</td><td>0.1</td></tr><tr><td>Geitost</td><td>0.1</td></tr><tr><td>Mascarpone Fabioli</td><td>0.1</td></tr><tr><td>Lakkalikööri</td><td>0.1</td></tr><tr><td>Carnarvon Tigers</td><td>0.1</td></tr><tr><td>Chartreuse verte</td><td>0.1</td></tr><tr><td>Gula Malacca</td><td>0.1</td></tr><tr><td>Teatime Chocolate Biscuits</td><td>0.1</td></tr><tr><td>Ikura</td><td>0.1</td></tr><tr><td>Valkoinen suklaa</td><td>0.1</td></tr><tr><td>Louisiana Fiery Hot Pepper Sauce</td><td>0.1</td></tr><tr><td>Raclette Courdavault</td><td>0.1</td></tr><tr><td>Original Frankfurter grüne Soße</td><td>0.1</td></tr><tr><td>Mozzarella di Giovanni</td><td>0.1</td></tr><tr><td>Singaporean Hokkien Fried Mee</td><td>0.1</td></tr><tr><td>Pavlova</td><td>0.1</td></tr><tr><td>Rhönbräu Klosterbier</td><td>0.1</td></tr><tr><td>Jack's New England Clam Chowder</td><td>0.1</td></tr><tr><td>Perth Pasties</td><td>0.1</td></tr><tr><td>Perth Pasties</td><td>0.1</td></tr><tr><td>Inlagd Sill</td><td>0.1</td></tr><tr><td>Gula Malacca</td><td>0.1</td></tr><tr><td>Scottish Longbreads</td><td>0.1</td></tr><tr><td>Perth Pasties</td><td>0.1</td></tr><tr><td>Mozzarella di Giovanni</td><td>0.1</td></tr><tr><td>Pâté chinois</td><td>0.1</td></tr><tr><td>Sir Rodney's Scones</td><td>0.1</td></tr><tr><td>Gnocchi di nonna Alice</td><td>0.1</td></tr><tr><td>Teatime Chocolate Biscuits</td><td>0.1</td></tr><tr><td>Filo Mix</td><td>0.1</td></tr><tr><td>Pâté chinois</td><td>0.1</td></tr><tr><td>Outback Lager</td><td>0.1</td></tr><tr><td>Rogede sild</td><td>0.1</td></tr><tr><td>Chang</td><td>0.1</td></tr><tr><td>Louisiana Fiery Hot Pepper Sauce</td><td>0.1</td></tr><tr><td>NuNuCa Nuß-Nougat-Creme</td><td>0.1</td></tr><tr><td>Outback Lager</td><td>0.1</td></tr><tr><td>Jack's New England Clam Chowder</td><td>0.1</td></tr><tr><td>Boston Crab Meat</td><td>0.1</td></tr><tr><td>Boston Crab Meat</td><td>0.1</td></tr><tr><td>Guaraná Fantástica</td><td>0.1</td></tr><tr><td>Côte de Blaye</td><td>0.1</td></tr><tr><td>Sirop d'érable</td><td>0.1</td></tr><tr><td>Tarte au sucre</td><td>0.1</td></tr><tr><td>Guaraná Fantástica</td><td>0.1</td></tr><tr><td>Rhönbräu Klosterbier</td><td>0.1</td></tr><tr><td>Konbu</td><td>0.1</td></tr><tr><td>Teatime Chocolate Biscuits</td><td>0.1</td></tr><tr><td>Spegesild</td><td>0.1</td></tr><tr><td>Pavlova</td><td>0.1</td></tr><tr><td>Tourtière</td><td>0.1</td></tr><tr><td>Zaanse koeken</td><td>0.1</td></tr><tr><td>Gorgonzola Telino</td><td>0.1</td></tr><tr><td>Sir Rodney's Scones</td><td>0.1</td></tr><tr><td>Rössle Sauerkraut</td><td>0.1</td></tr><tr><td>Sirop d'érable</td><td>0.1</td></tr><tr><td>Aniseed Syrup</td><td>0.1</td></tr><tr><td>Queso Cabrales</td><td>0.1</td></tr><tr><td>Manjimup Dried Apples</td><td>0.1</td></tr><tr><td>Uncle Bob's Organic Dried Pears</td><td>0.1</td></tr><tr><td>Gorgonzola Telino</td><td>0.1</td></tr><tr><td>Tunnbröd</td><td>0.1</td></tr><tr><td>Escargots de Bourgogne</td><td>0.1</td></tr><tr><td>Maxilaku</td><td>0.1</td></tr><tr><td>Tarte au sucre</td><td>0.1</td></tr><tr><td>Pavlova</td><td>0.1</td></tr><tr><td>Carnarvon Tigers</td><td>0.1</td></tr><tr><td>Chai</td><td>0.1</td></tr><tr><td>Gudbrandsdalsost</td><td>0.1</td></tr><tr><td>Sir Rodney's Scones</td><td>0.1</td></tr><tr><td>Pâté chinois</td><td>0.1</td></tr><tr><td>Boston Crab Meat</td><td>0.1</td></tr><tr><td>Tourtière</td><td>0.1</td></tr><tr><td>Konbu</td><td>0.1</td></tr><tr><td>Manjimup Dried Apples</td><td>0.1</td></tr><tr><td>Louisiana Fiery Hot Pepper Sauce</td><td>0.1</td></tr><tr><td>Chartreuse verte</td><td>0.1</td></tr><tr><td>Carnarvon Tigers</td><td>0.1</td></tr><tr><td>Mascarpone Fabioli</td><td>0.1</td></tr><tr><td>Chef Anton's Cajun Seasoning</td><td>0.1</td></tr><tr><td>Gudbrandsdalsost</td><td>0.1</td></tr><tr><td>Jack's New England Clam Chowder</td><td>0.1</td></tr><tr><td>Rössle Sauerkraut</td><td>0.1</td></tr><tr><td>Louisiana Fiery Hot Pepper Sauce</td><td>0.1</td></tr><tr><td>Camembert Pierrot</td><td>0.1</td></tr><tr><td>Spegesild</td><td>0.1</td></tr><tr><td>Rössle Sauerkraut</td><td>0.1</td></tr><tr><td>Guaraná Fantástica</td><td>0.1</td></tr><tr><td>Wimmers gute Semmelknödel</td><td>0.1</td></tr><tr><td>Aniseed Syrup</td><td>0.1</td></tr><tr><td>Louisiana Hot Spiced Okra</td><td>0.1</td></tr><tr><td>Rhönbräu Klosterbier</td><td>0.1</td></tr><tr><td>Chef Anton's Cajun Seasoning</td><td>0.1</td></tr><tr><td>Ravioli Angelo</td><td>0.1</td></tr><tr><td>Louisiana Fiery Hot Pepper Sauce</td><td>0.1</td></tr><tr><td>Wimmers gute Semmelknödel</td><td>0.1</td></tr><tr><td>Chocolade</td><td>0.1</td></tr><tr><td>Sir Rodney's Scones</td><td>0.1</td></tr><tr><td>Camembert Pierrot</td><td>0.1</td></tr><tr><td>Tofu</td><td>0.1</td></tr><tr><td>Pâté chinois</td><td>0.1</td></tr><tr><td>Original Frankfurter grüne Soße</td><td>0.1</td></tr><tr><td>Chartreuse verte</td><td>0.1</td></tr><tr><td>Tourtière</td><td>0.1</td></tr><tr><td>Perth Pasties</td><td>0.1</td></tr><tr><td>Steeleye Stout</td><td>0.1</td></tr><tr><td>Zaanse koeken</td><td>0.1</td></tr><tr><td>Mascarpone Fabioli</td><td>0.1</td></tr><tr><td>Konbu</td><td>0.1</td></tr><tr><td>Lakkalikööri</td><td>0.1</td></tr><tr><td>Northwoods Cranberry Sauce</td><td>0.1</td></tr><tr><td>Jack's New England Clam Chowder</td><td>0.1</td></tr><tr><td>Scottish Longbreads</td><td>0.1</td></tr><tr><td>Boston Crab Meat</td><td>0.1</td></tr><tr><td>Thüringer Rostbratwurst</td><td>0.1</td></tr><tr><td>Escargots de Bourgogne</td><td>0.1</td></tr><tr><td>Tarte au sucre</td><td>0.1</td></tr><tr><td>Sir Rodney's Scones</td><td>0.1</td></tr><tr><td>Flotemysost</td><td>0.1</td></tr><tr><td>Alice Mutton</td><td>0.1</td></tr><tr><td>Valkoinen suklaa</td><td>0.1</td></tr><tr><td>Chartreuse verte</td><td>0.1</td></tr><tr><td>Camembert Pierrot</td><td>0.1</td></tr><tr><td>Sir Rodney's Scones</td><td>0.1</td></tr><tr><td>Wimmers gute Semmelknödel</td><td>0.1</td></tr><tr><td>Vegie-spread</td><td>0.1</td></tr><tr><td>Nord-Ost Matjeshering</td><td>0.1</td></tr><tr><td>Camembert Pierrot</td><td>0.06</td></tr><tr><td>Ravioli Angelo</td><td>0.05</td></tr><tr><td>Sir Rodney's Marmalade</td><td>0.05</td></tr><tr><td>Geitost</td><td>0.05</td></tr><tr><td>Pavlova</td><td>0.05</td></tr><tr><td>Teatime Chocolate Biscuits</td><td>0.05</td></tr><tr><td>Queso Manchego La Pastora</td><td>0.05</td></tr><tr><td>Guaraná Fantástica</td><td>0.05</td></tr><tr><td>Tunnbröd</td><td>0.05</td></tr><tr><td>Boston Crab Meat</td><td>0.05</td></tr><tr><td>Rhönbräu Klosterbier</td><td>0.05</td></tr><tr><td>Konbu</td><td>0.05</td></tr><tr><td>Geitost</td><td>0.05</td></tr><tr><td>Boston Crab Meat</td><td>0.05</td></tr><tr><td>Sasquatch Ale</td><td>0.05</td></tr><tr><td>Guaraná Fantástica</td><td>0.05</td></tr><tr><td>Tarte au sucre</td><td>0.05</td></tr><tr><td>Genen Shouyu</td><td>0.05</td></tr><tr><td>Camembert Pierrot</td><td>0.05</td></tr><tr><td>Gula Malacca</td><td>0.05</td></tr><tr><td>Thüringer Rostbratwurst</td><td>0.05</td></tr><tr><td>Raclette Courdavault</td><td>0.05</td></tr><tr><td>Gudbrandsdalsost</td><td>0.05</td></tr><tr><td>Original Frankfurter grüne Soße</td><td>0.05</td></tr><tr><td>Mozzarella di Giovanni</td><td>0.05</td></tr><tr><td>Lakkalikööri</td><td>0.05</td></tr><tr><td>Alice Mutton</td><td>0.05</td></tr><tr><td>Inlagd Sill</td><td>0.05</td></tr><tr><td>Singaporean Hokkien Fried Mee</td><td>0.05</td></tr><tr><td>Pâté chinois</td><td>0.05</td></tr><tr><td>Genen Shouyu</td><td>0.05</td></tr><tr><td>Original Frankfurter grüne Soße</td><td>0.05</td></tr><tr><td>Pâté chinois</td><td>0.05</td></tr><tr><td>Gumbär Gummibärchen</td><td>0.05</td></tr><tr><td>Outback Lager</td><td>0.05</td></tr><tr><td>Original Frankfurter grüne Soße</td><td>0.05</td></tr><tr><td>Manjimup Dried Apples</td><td>0.05</td></tr><tr><td>Alice Mutton</td><td>0.05</td></tr><tr><td>Manjimup Dried Apples</td><td>0.05</td></tr><tr><td>Jack's New England Clam Chowder</td><td>0.05</td></tr><tr><td>Raclette Courdavault</td><td>0.05</td></tr><tr><td>Côte de Blaye</td><td>0.05</td></tr><tr><td>Wimmers gute Semmelknödel</td><td>0.05</td></tr><tr><td>Rhönbräu Klosterbier</td><td>0.05</td></tr><tr><td>Rhönbräu Klosterbier</td><td>0.05</td></tr><tr><td>Rössle Sauerkraut</td><td>0.05</td></tr><tr><td>Mascarpone Fabioli</td><td>0.05</td></tr><tr><td>Ikura</td><td>0.05</td></tr><tr><td>Guaraná Fantástica</td><td>0.05</td></tr><tr><td>Teatime Chocolate Biscuits</td><td>0.05</td></tr><tr><td>Carnarvon Tigers</td><td>0.05</td></tr><tr><td>Scottish Longbreads</td><td>0.05</td></tr><tr><td>Pavlova</td><td>0.05</td></tr><tr><td>Gorgonzola Telino</td><td>0.05</td></tr><tr><td>Maxilaku</td><td>0.05</td></tr><tr><td>Gudbrandsdalsost</td><td>0.05</td></tr><tr><td>Ikura</td><td>0.05</td></tr><tr><td>Original Frankfurter grüne Soße</td><td>0.05</td></tr><tr><td>Rössle Sauerkraut</td><td>0.05</td></tr><tr><td>Chef Anton's Cajun Seasoning</td><td>0.05</td></tr><tr><td>Jack's New England Clam Chowder</td><td>0.05</td></tr><tr><td>Queso Cabrales</td><td>0.05</td></tr><tr><td>Jack's New England Clam Chowder</td><td>0.05</td></tr><tr><td>Maxilaku</td><td>0.05</td></tr><tr><td>Raclette Courdavault</td><td>0.05</td></tr><tr><td>Flotemysost</td><td>0.05</td></tr><tr><td>Geitost</td><td>0.05</td></tr><tr><td>Gorgonzola Telino</td><td>0.05</td></tr><tr><td>Boston Crab Meat</td><td>0.05</td></tr><tr><td>Alice Mutton</td><td>0.05</td></tr><tr><td>Outback Lager</td><td>0.05</td></tr><tr><td>Gnocchi di nonna Alice</td><td>0.05</td></tr><tr><td>Pavlova</td><td>0.05</td></tr><tr><td>Spegesild</td><td>0.05</td></tr><tr><td>Gorgonzola Telino</td><td>0.05</td></tr><tr><td>Teatime Chocolate Biscuits</td><td>0.05</td></tr><tr><td>Côte de Blaye</td><td>0.05</td></tr><tr><td>Nord-Ost Matjeshering</td><td>0.05</td></tr><tr><td>Chartreuse verte</td><td>0.05</td></tr><tr><td>Pavlova</td><td>0.05</td></tr><tr><td>Louisiana Fiery Hot Pepper Sauce</td><td>0.05</td></tr><tr><td>Gnocchi di nonna Alice</td><td>0.05</td></tr><tr><td>Chai</td><td>0.05</td></tr><tr><td>Uncle Bob's Organic Dried Pears</td><td>0.05</td></tr><tr><td>Grandma's Boysenberry Spread</td><td>0.05</td></tr><tr><td>Filo Mix</td><td>0.05</td></tr><tr><td>Sasquatch Ale</td><td>0.05</td></tr><tr><td>Teatime Chocolate Biscuits</td><td>0.05</td></tr><tr><td>Steeleye Stout</td><td>0.05</td></tr><tr><td>Pavlova</td><td>0.05</td></tr><tr><td>Gorgonzola Telino</td><td>0.05</td></tr><tr><td>Raclette Courdavault</td><td>0.05</td></tr><tr><td>Nord-Ost Matjeshering</td><td>0.05</td></tr><tr><td>Côte de Blaye</td><td>0.05</td></tr><tr><td>Jack's New England Clam Chowder</td><td>0.05</td></tr><tr><td>Côte de Blaye</td><td>0.05</td></tr><tr><td>Gula Malacca</td><td>0.05</td></tr><tr><td>Camembert Pierrot</td><td>0.05</td></tr><tr><td>Gorgonzola Telino</td><td>0.05</td></tr><tr><td>Teatime Chocolate Biscuits</td><td>0.05</td></tr><tr><td>Gula Malacca</td><td>0.05</td></tr><tr><td>Uncle Bob's Organic Dried Pears</td><td>0.05</td></tr><tr><td>Sasquatch Ale</td><td>0.05</td></tr><tr><td>NuNuCa Nuß-Nougat-Creme</td><td>0.05</td></tr><tr><td>Singaporean Hokkien Fried Mee</td><td>0.05</td></tr><tr><td>Ikura</td><td>0.05</td></tr><tr><td>Röd Kaviar</td><td>0.05</td></tr><tr><td>Queso Cabrales</td><td>0.05</td></tr><tr><td>Pâté chinois</td><td>0.05</td></tr><tr><td>Alice Mutton</td><td>0.05</td></tr><tr><td>Gnocchi di nonna Alice</td><td>0.05</td></tr><tr><td>Louisiana Fiery Hot Pepper Sauce</td><td>0.05</td></tr><tr><td>Gorgonzola Telino</td><td>0.05</td></tr><tr><td>Pavlova</td><td>0.05</td></tr><tr><td>Camembert Pierrot</td><td>0.05</td></tr><tr><td>Flotemysost</td><td>0.05</td></tr><tr><td>Pâté chinois</td><td>0.05</td></tr><tr><td>Valkoinen suklaa</td><td>0.05</td></tr><tr><td>Gnocchi di nonna Alice</td><td>0.05</td></tr><tr><td>Outback Lager</td><td>0.05</td></tr><tr><td>Boston Crab Meat</td><td>0.05</td></tr><tr><td>Thüringer Rostbratwurst</td><td>0.05</td></tr><tr><td>Perth Pasties</td><td>0.05</td></tr><tr><td>Sir Rodney's Scones</td><td>0.05</td></tr><tr><td>Raclette Courdavault</td><td>0.05</td></tr><tr><td>Gorgonzola Telino</td><td>0.05</td></tr><tr><td>Louisiana Fiery Hot Pepper Sauce</td><td>0.05</td></tr><tr><td>Jack's New England Clam Chowder</td><td>0.05</td></tr><tr><td>Singaporean Hokkien Fried Mee</td><td>0.05</td></tr><tr><td>Rogede sild</td><td>0.05</td></tr><tr><td>NuNuCa Nuß-Nougat-Creme</td><td>0.05</td></tr><tr><td>Tarte au sucre</td><td>0.05</td></tr><tr><td>Chang</td><td>0.05</td></tr><tr><td>NuNuCa Nuß-Nougat-Creme</td><td>0.05</td></tr><tr><td>Grandma's Boysenberry Spread</td><td>0.05</td></tr><tr><td>Alice Mutton</td><td>0.05</td></tr><tr><td>Pâté chinois</td><td>0.05</td></tr><tr><td>Sir Rodney's Marmalade</td><td>0.05</td></tr><tr><td>Louisiana Fiery Hot Pepper Sauce</td><td>0.05</td></tr><tr><td>Nord-Ost Matjeshering</td><td>0.05</td></tr><tr><td>Filo Mix</td><td>0.05</td></tr><tr><td>Geitost</td><td>0.05</td></tr><tr><td>Sir Rodney's Marmalade</td><td>0.05</td></tr><tr><td>Raclette Courdavault</td><td>0.05</td></tr><tr><td>Jack's New England Clam Chowder</td><td>0.05</td></tr><tr><td>Escargots de Bourgogne</td><td>0.05</td></tr><tr><td>Camembert Pierrot</td><td>0.05</td></tr><tr><td>Flotemysost</td><td>0.05</td></tr><tr><td>Uncle Bob's Organic Dried Pears</td><td>0.05</td></tr><tr><td>Uncle Bob's Organic Dried Pears</td><td>0.05</td></tr><tr><td>Queso Manchego La Pastora</td><td>0.05</td></tr><tr><td>Thüringer Rostbratwurst</td><td>0.05</td></tr><tr><td>Gustaf's Knäckebröd</td><td>0.05</td></tr><tr><td>Gnocchi di nonna Alice</td><td>0.05</td></tr><tr><td>Ipoh Coffee</td><td>0.05</td></tr><tr><td>Louisiana Fiery Hot Pepper Sauce</td><td>0.05</td></tr><tr><td>Gumbär Gummibärchen</td><td>0.05</td></tr><tr><td>Camembert Pierrot</td><td>0.05</td></tr><tr><td>Spegesild</td><td>0.05</td></tr><tr><td>Gorgonzola Telino</td><td>0.05</td></tr><tr><td>Camembert Pierrot</td><td>0.05</td></tr><tr><td>Tourtière</td><td>0.05</td></tr><tr><td>Gorgonzola Telino</td><td>0.05</td></tr><tr><td>Tofu</td><td>0.05</td></tr><tr><td>Original Frankfurter grüne Soße</td><td>0.05</td></tr><tr><td>Côte de Blaye</td><td>0.05</td></tr><tr><td>Chang</td><td>0.05</td></tr><tr><td>Perth Pasties</td><td>0.05</td></tr><tr><td>Singaporean Hokkien Fried Mee</td><td>0.05</td></tr><tr><td>Louisiana Fiery Hot Pepper Sauce</td><td>0.05</td></tr><tr><td>Gudbrandsdalsost</td><td>0.05</td></tr><tr><td>Sir Rodney's Scones</td><td>0.05</td></tr><tr><td>Filo Mix</td><td>0.05</td></tr><tr><td>Manjimup Dried Apples</td><td>0.05</td></tr><tr><td>Thüringer Rostbratwurst</td><td>0.05</td></tr><tr><td>Ravioli Angelo</td><td>0.05</td></tr><tr><td>Tarte au sucre</td><td>0.05</td></tr><tr><td>Sir Rodney's Scones</td><td>0.05</td></tr><tr><td>Raclette Courdavault</td><td>0.05</td></tr><tr><td>Jack's New England Clam Chowder</td><td>0.05</td></tr><tr><td>Gorgonzola Telino</td><td>0.05</td></tr><tr><td>Manjimup Dried Apples</td><td>0.05</td></tr><tr><td>Queso Manchego La Pastora</td><td>0.05</td></tr><tr><td>Konbu</td><td>0.05</td></tr><tr><td>Chartreuse verte</td><td>0.05</td></tr><tr><td>Chang</td><td>0.05</td></tr><tr><td>Sir Rodney's Marmalade</td><td>0.04</td></tr><tr><td>Wimmers gute Semmelknödel</td><td>0.03</td></tr><tr><td>Tofu</td><td>0.03</td></tr><tr><td>Pavlova</td><td>0.03</td></tr><tr><td>Spegesild</td><td>0.02</td></tr><tr><td>Grandma's Boysenberry Spread</td><td>0.02</td></tr><tr><td>Röd Kaviar</td><td>0.01</td></tr><tr><td>Queso Cabrales</td><td>0.0</td></tr><tr><td>Singaporean Hokkien Fried Mee</td><td>0.0</td></tr><tr><td>Mozzarella di Giovanni</td><td>0.0</td></tr><tr><td>Steeleye Stout</td><td>0.0</td></tr><tr><td>Tofu</td><td>0.0</td></tr><tr><td>Nord-Ost Matjeshering</td><td>0.0</td></tr><tr><td>Ipoh Coffee</td><td>0.0</td></tr><tr><td>Manjimup Dried Apples</td><td>0.0</td></tr><tr><td>Steeleye Stout</td><td>0.0</td></tr><tr><td>Ravioli Angelo</td><td>0.0</td></tr><tr><td>Mozzarella di Giovanni</td><td>0.0</td></tr><tr><td>Perth Pasties</td><td>0.0</td></tr><tr><td>Tourtière</td><td>0.0</td></tr><tr><td>Jack's New England Clam Chowder</td><td>0.0</td></tr><tr><td>Chartreuse verte</td><td>0.0</td></tr><tr><td>Uncle Bob's Organic Dried Pears</td><td>0.0</td></tr><tr><td>Geitost</td><td>0.0</td></tr><tr><td>Genen Shouyu</td><td>0.0</td></tr><tr><td>Original Frankfurter grüne Soße</td><td>0.0</td></tr><tr><td>Chang</td><td>0.0</td></tr><tr><td>Perth Pasties</td><td>0.0</td></tr><tr><td>Rhönbräu Klosterbier</td><td>0.0</td></tr><tr><td>Filo Mix</td><td>0.0</td></tr><tr><td>Tofu</td><td>0.0</td></tr><tr><td>Louisiana Fiery Hot Pepper Sauce</td><td>0.0</td></tr><tr><td>Maxilaku</td><td>0.0</td></tr><tr><td>Original Frankfurter grüne Soße</td><td>0.0</td></tr><tr><td>Gnocchi di nonna Alice</td><td>0.0</td></tr><tr><td>Thüringer Rostbratwurst</td><td>0.0</td></tr><tr><td>Flotemysost</td><td>0.0</td></tr><tr><td>Raclette Courdavault</td><td>0.0</td></tr><tr><td>Teatime Chocolate Biscuits</td><td>0.0</td></tr><tr><td>Steeleye Stout</td><td>0.0</td></tr><tr><td>Sir Rodney's Marmalade</td><td>0.0</td></tr><tr><td>Ipoh Coffee</td><td>0.0</td></tr><tr><td>Tarte au sucre</td><td>0.0</td></tr><tr><td>Gnocchi di nonna Alice</td><td>0.0</td></tr><tr><td>Tourtière</td><td>0.0</td></tr><tr><td>Singaporean Hokkien Fried Mee</td><td>0.0</td></tr><tr><td>Inlagd Sill</td><td>0.0</td></tr><tr><td>Chai</td><td>0.0</td></tr><tr><td>Genen Shouyu</td><td>0.0</td></tr><tr><td>Gorgonzola Telino</td><td>0.0</td></tr><tr><td>Filo Mix</td><td>0.0</td></tr><tr><td>Mozzarella di Giovanni</td><td>0.0</td></tr><tr><td>Camembert Pierrot</td><td>0.0</td></tr><tr><td>Longlife Tofu</td><td>0.0</td></tr><tr><td>Pavlova</td><td>0.0</td></tr><tr><td>Schoggi Schokolade</td><td>0.0</td></tr><tr><td>Sir Rodney's Scones</td><td>0.0</td></tr><tr><td>Guaraná Fantástica</td><td>0.0</td></tr><tr><td>Chang</td><td>0.0</td></tr><tr><td>Mozzarella di Giovanni</td><td>0.0</td></tr><tr><td>Geitost</td><td>0.0</td></tr><tr><td>Mozzarella di Giovanni</td><td>0.0</td></tr><tr><td>Konbu</td><td>0.0</td></tr><tr><td>Vegie-spread</td><td>0.0</td></tr><tr><td>Pâté chinois</td><td>0.0</td></tr><tr><td>Camembert Pierrot</td><td>0.0</td></tr><tr><td>Tarte au sucre</td><td>0.0</td></tr><tr><td>Wimmers gute Semmelknödel</td><td>0.0</td></tr><tr><td>Carnarvon Tigers</td><td>0.0</td></tr><tr><td>Vegie-spread</td><td>0.0</td></tr><tr><td>Camembert Pierrot</td><td>0.0</td></tr><tr><td>Queso Cabrales</td><td>0.0</td></tr><tr><td>Teatime Chocolate Biscuits</td><td>0.0</td></tr><tr><td>Outback Lager</td><td>0.0</td></tr><tr><td>Alice Mutton</td><td>0.0</td></tr><tr><td>Maxilaku</td><td>0.0</td></tr><tr><td>Tarte au sucre</td><td>0.0</td></tr><tr><td>Gudbrandsdalsost</td><td>0.0</td></tr><tr><td>Ipoh Coffee</td><td>0.0</td></tr><tr><td>Tarte au sucre</td><td>0.0</td></tr><tr><td>Sasquatch Ale</td><td>0.0</td></tr><tr><td>Jack's New England Clam Chowder</td><td>0.0</td></tr><tr><td>Rössle Sauerkraut</td><td>0.0</td></tr><tr><td>NuNuCa Nuß-Nougat-Creme</td><td>0.0</td></tr><tr><td>Spegesild</td><td>0.0</td></tr><tr><td>Mozzarella di Giovanni</td><td>0.0</td></tr><tr><td>Rhönbräu Klosterbier</td><td>0.0</td></tr><tr><td>Scottish Longbreads</td><td>0.0</td></tr><tr><td>Tunnbröd</td><td>0.0</td></tr><tr><td>Alice Mutton</td><td>0.0</td></tr><tr><td>Gorgonzola Telino</td><td>0.0</td></tr><tr><td>Chang</td><td>0.0</td></tr><tr><td>Inlagd Sill</td><td>0.0</td></tr><tr><td>Raclette Courdavault</td><td>0.0</td></tr><tr><td>Chartreuse verte</td><td>0.0</td></tr><tr><td>Gravad lax</td><td>0.0</td></tr><tr><td>Ravioli Angelo</td><td>0.0</td></tr><tr><td>Alice Mutton</td><td>0.0</td></tr><tr><td>Outback Lager</td><td>0.0</td></tr><tr><td>Inlagd Sill</td><td>0.0</td></tr><tr><td>Sir Rodney's Marmalade</td><td>0.0</td></tr><tr><td>Gorgonzola Telino</td><td>0.0</td></tr><tr><td>Ikura</td><td>0.0</td></tr><tr><td>Rössle Sauerkraut</td><td>0.0</td></tr><tr><td>Tarte au sucre</td><td>0.0</td></tr><tr><td>Röd Kaviar</td><td>0.0</td></tr><tr><td>Rhönbräu Klosterbier</td><td>0.0</td></tr><tr><td>Teatime Chocolate Biscuits</td><td>0.0</td></tr><tr><td>Mozzarella di Giovanni</td><td>0.0</td></tr><tr><td>Sasquatch Ale</td><td>0.0</td></tr><tr><td>Chef Anton's Gumbo Mix</td><td>0.0</td></tr><tr><td>Thüringer Rostbratwurst</td><td>0.0</td></tr><tr><td>Guaraná Fantástica</td><td>0.0</td></tr><tr><td>Rhönbräu Klosterbier</td><td>0.0</td></tr><tr><td>Chai</td><td>0.0</td></tr><tr><td>Rhönbräu Klosterbier</td><td>0.0</td></tr><tr><td>Pavlova</td><td>0.0</td></tr><tr><td>Gudbrandsdalsost</td><td>0.0</td></tr><tr><td>Louisiana Hot Spiced Okra</td><td>0.0</td></tr><tr><td>Scottish Longbreads</td><td>0.0</td></tr><tr><td>Rössle Sauerkraut</td><td>0.0</td></tr><tr><td>Raclette Courdavault</td><td>0.0</td></tr><tr><td>Flotemysost</td><td>0.0</td></tr><tr><td>Scottish Longbreads</td><td>0.0</td></tr><tr><td>Outback Lager</td><td>0.0</td></tr><tr><td>Chef Anton's Cajun Seasoning</td><td>0.0</td></tr><tr><td>Flotemysost</td><td>0.0</td></tr><tr><td>Singaporean Hokkien Fried Mee</td><td>0.0</td></tr><tr><td>Gudbrandsdalsost</td><td>0.0</td></tr><tr><td>Outback Lager</td><td>0.0</td></tr><tr><td>Jack's New England Clam Chowder</td><td>0.0</td></tr><tr><td>Lakkalikööri</td><td>0.0</td></tr><tr><td>Lakkalikööri</td><td>0.0</td></tr><tr><td>Flotemysost</td><td>0.0</td></tr><tr><td>Chartreuse verte</td><td>0.0</td></tr><tr><td>Grandma's Boysenberry Spread</td><td>0.0</td></tr><tr><td>Konbu</td><td>0.0</td></tr><tr><td>Chef Anton's Cajun Seasoning</td><td>0.0</td></tr><tr><td>Raclette Courdavault</td><td>0.0</td></tr><tr><td>Louisiana Fiery Hot Pepper Sauce</td><td>0.0</td></tr><tr><td>Gumbär Gummibärchen</td><td>0.0</td></tr><tr><td>Inlagd Sill</td><td>0.0</td></tr><tr><td>Perth Pasties</td><td>0.0</td></tr><tr><td>Original Frankfurter grüne Soße</td><td>0.0</td></tr><tr><td>Sir Rodney's Scones</td><td>0.0</td></tr><tr><td>Boston Crab Meat</td><td>0.0</td></tr><tr><td>Ipoh Coffee</td><td>0.0</td></tr><tr><td>Mozzarella di Giovanni</td><td>0.0</td></tr><tr><td>Gula Malacca</td><td>0.0</td></tr><tr><td>Guaraná Fantástica</td><td>0.0</td></tr><tr><td>Guaraná Fantástica</td><td>0.0</td></tr><tr><td>Gula Malacca</td><td>0.0</td></tr><tr><td>Aniseed Syrup</td><td>0.0</td></tr><tr><td>Maxilaku</td><td>0.0</td></tr><tr><td>Alice Mutton</td><td>0.0</td></tr><tr><td>Gnocchi di nonna Alice</td><td>0.0</td></tr><tr><td>Chartreuse verte</td><td>0.0</td></tr><tr><td>Boston Crab Meat</td><td>0.0</td></tr><tr><td>Ipoh Coffee</td><td>0.0</td></tr><tr><td>Nord-Ost Matjeshering</td><td>0.0</td></tr><tr><td>Grandma's Boysenberry Spread</td><td>0.0</td></tr><tr><td>Pavlova</td><td>0.0</td></tr><tr><td>Rössle Sauerkraut</td><td>0.0</td></tr><tr><td>Tarte au sucre</td><td>0.0</td></tr><tr><td>Alice Mutton</td><td>0.0</td></tr><tr><td>Steeleye Stout</td><td>0.0</td></tr><tr><td>Tofu</td><td>0.0</td></tr><tr><td>Ravioli Angelo</td><td>0.0</td></tr><tr><td>Scottish Longbreads</td><td>0.0</td></tr></tbody></table>Showing the first 1000 rows.</div>"
      ]
     },
     "metadata": {
      "application/vnd.databricks.v1+output": {
       "addedWidgets": {},
       "aggData": [],
       "aggError": "",
       "aggOverflow": false,
       "aggSchema": [],
       "aggSeriesLimitReached": false,
       "aggType": "",
       "arguments": {},
       "columnCustomDisplayInfos": {},
       "data": [
        [
         "Flotemysost",
         0.25
        ],
        [
         "Singaporean Hokkien Fried Mee",
         0.25
        ],
        [
         "Gorgonzola Telino",
         0.25
        ],
        [
         "Tarte au sucre",
         0.25
        ],
        [
         "Rhönbräu Klosterbier",
         0.25
        ],
        [
         "Mishi Kobe Niku",
         0.25
        ],
        [
         "Scottish Longbreads",
         0.25
        ],
        [
         "Schoggi Schokolade",
         0.25
        ],
        [
         "Côte de Blaye",
         0.25
        ],
        [
         "Queso Cabrales",
         0.25
        ],
        [
         "Inlagd Sill",
         0.25
        ],
        [
         "Gula Malacca",
         0.25
        ],
        [
         "Guaraná Fantástica",
         0.25
        ],
        [
         "Sir Rodney's Scones",
         0.25
        ],
        [
         "Chai",
         0.25
        ],
        [
         "Thüringer Rostbratwurst",
         0.25
        ],
        [
         "Jack's New England Clam Chowder",
         0.25
        ],
        [
         "Gnocchi di nonna Alice",
         0.25
        ],
        [
         "Spegesild",
         0.25
        ],
        [
         "Filo Mix",
         0.25
        ],
        [
         "Nord-Ost Matjeshering",
         0.25
        ],
        [
         "Original Frankfurter grüne Soße",
         0.25
        ],
        [
         "Chef Anton's Cajun Seasoning",
         0.25
        ],
        [
         "Camembert Pierrot",
         0.25
        ],
        [
         "Guaraná Fantástica",
         0.25
        ],
        [
         "Teatime Chocolate Biscuits",
         0.25
        ],
        [
         "Thüringer Rostbratwurst",
         0.25
        ],
        [
         "Inlagd Sill",
         0.25
        ],
        [
         "Pâté chinois",
         0.25
        ],
        [
         "Steeleye Stout",
         0.25
        ],
        [
         "Chang",
         0.25
        ],
        [
         "Manjimup Dried Apples",
         0.25
        ],
        [
         "Escargots de Bourgogne",
         0.25
        ],
        [
         "Guaraná Fantástica",
         0.25
        ],
        [
         "Tarte au sucre",
         0.25
        ],
        [
         "Sir Rodney's Scones",
         0.25
        ],
        [
         "Outback Lager",
         0.25
        ],
        [
         "Chang",
         0.25
        ],
        [
         "Mozzarella di Giovanni",
         0.25
        ],
        [
         "Thüringer Rostbratwurst",
         0.25
        ],
        [
         "Chang",
         0.25
        ],
        [
         "Raclette Courdavault",
         0.25
        ],
        [
         "Chai",
         0.25
        ],
        [
         "Chartreuse verte",
         0.25
        ],
        [
         "Alice Mutton",
         0.25
        ],
        [
         "Chef Anton's Gumbo Mix",
         0.25
        ],
        [
         "Nord-Ost Matjeshering",
         0.25
        ],
        [
         "Zaanse koeken",
         0.25
        ],
        [
         "Tourtière",
         0.25
        ],
        [
         "Grandma's Boysenberry Spread",
         0.25
        ],
        [
         "Chang",
         0.25
        ],
        [
         "Gnocchi di nonna Alice",
         0.25
        ],
        [
         "Tofu",
         0.25
        ],
        [
         "Teatime Chocolate Biscuits",
         0.25
        ],
        [
         "Tourtière",
         0.25
        ],
        [
         "Escargots de Bourgogne",
         0.25
        ],
        [
         "Carnarvon Tigers",
         0.25
        ],
        [
         "Jack's New England Clam Chowder",
         0.25
        ],
        [
         "Camembert Pierrot",
         0.25
        ],
        [
         "Queso Cabrales",
         0.25
        ],
        [
         "Nord-Ost Matjeshering",
         0.25
        ],
        [
         "Tarte au sucre",
         0.25
        ],
        [
         "Pavlova",
         0.25
        ],
        [
         "Tourtière",
         0.25
        ],
        [
         "Tofu",
         0.25
        ],
        [
         "Queso Manchego La Pastora",
         0.25
        ],
        [
         "Zaanse koeken",
         0.25
        ],
        [
         "Nord-Ost Matjeshering",
         0.25
        ],
        [
         "Laughing Lumberjack Lager",
         0.25
        ],
        [
         "Gnocchi di nonna Alice",
         0.25
        ],
        [
         "Camembert Pierrot",
         0.25
        ],
        [
         "Ravioli Angelo",
         0.25
        ],
        [
         "Gudbrandsdalsost",
         0.25
        ],
        [
         "NuNuCa Nuß-Nougat-Creme",
         0.25
        ],
        [
         "Sasquatch Ale",
         0.25
        ],
        [
         "NuNuCa Nuß-Nougat-Creme",
         0.25
        ],
        [
         "Ipoh Coffee",
         0.25
        ],
        [
         "Tarte au sucre",
         0.25
        ],
        [
         "NuNuCa Nuß-Nougat-Creme",
         0.25
        ],
        [
         "Queso Cabrales",
         0.25
        ],
        [
         "Gumbär Gummibärchen",
         0.25
        ],
        [
         "Steeleye Stout",
         0.25
        ],
        [
         "Gorgonzola Telino",
         0.25
        ],
        [
         "Inlagd Sill",
         0.25
        ],
        [
         "Alice Mutton",
         0.25
        ],
        [
         "Sirop d'érable",
         0.25
        ],
        [
         "Alice Mutton",
         0.25
        ],
        [
         "Thüringer Rostbratwurst",
         0.25
        ],
        [
         "Spegesild",
         0.25
        ],
        [
         "Gudbrandsdalsost",
         0.25
        ],
        [
         "Nord-Ost Matjeshering",
         0.25
        ],
        [
         "Manjimup Dried Apples",
         0.25
        ],
        [
         "Original Frankfurter grüne Soße",
         0.25
        ],
        [
         "Pâté chinois",
         0.25
        ],
        [
         "Tarte au sucre",
         0.25
        ],
        [
         "Outback Lager",
         0.25
        ],
        [
         "Scottish Longbreads",
         0.25
        ],
        [
         "Inlagd Sill",
         0.25
        ],
        [
         "Chang",
         0.25
        ],
        [
         "Longlife Tofu",
         0.25
        ],
        [
         "Raclette Courdavault",
         0.25
        ],
        [
         "Longlife Tofu",
         0.25
        ],
        [
         "Gudbrandsdalsost",
         0.25
        ],
        [
         "Zaanse koeken",
         0.25
        ],
        [
         "Lakkalikööri",
         0.25
        ],
        [
         "Pâté chinois",
         0.25
        ],
        [
         "Outback Lager",
         0.25
        ],
        [
         "Chai",
         0.25
        ],
        [
         "Carnarvon Tigers",
         0.25
        ],
        [
         "Rössle Sauerkraut",
         0.25
        ],
        [
         "Inlagd Sill",
         0.25
        ],
        [
         "Manjimup Dried Apples",
         0.25
        ],
        [
         "Lakkalikööri",
         0.25
        ],
        [
         "Chartreuse verte",
         0.25
        ],
        [
         "Gumbär Gummibärchen",
         0.25
        ],
        [
         "Northwoods Cranberry Sauce",
         0.25
        ],
        [
         "Thüringer Rostbratwurst",
         0.25
        ],
        [
         "Spegesild",
         0.25
        ],
        [
         "Guaraná Fantástica",
         0.25
        ],
        [
         "Tourtière",
         0.25
        ],
        [
         "Vegie-spread",
         0.25
        ],
        [
         "Chai",
         0.25
        ],
        [
         "Wimmers gute Semmelknödel",
         0.25
        ],
        [
         "Chang",
         0.25
        ],
        [
         "Ikura",
         0.25
        ],
        [
         "Guaraná Fantástica",
         0.25
        ],
        [
         "Nord-Ost Matjeshering",
         0.25
        ],
        [
         "Alice Mutton",
         0.25
        ],
        [
         "Flotemysost",
         0.25
        ],
        [
         "Pavlova",
         0.25
        ],
        [
         "Alice Mutton",
         0.25
        ],
        [
         "Gnocchi di nonna Alice",
         0.25
        ],
        [
         "Outback Lager",
         0.25
        ],
        [
         "Original Frankfurter grüne Soße",
         0.25
        ],
        [
         "Queso Cabrales",
         0.25
        ],
        [
         "Thüringer Rostbratwurst",
         0.25
        ],
        [
         "Boston Crab Meat",
         0.25
        ],
        [
         "Teatime Chocolate Biscuits",
         0.25
        ],
        [
         "Chef Anton's Cajun Seasoning",
         0.25
        ],
        [
         "Geitost",
         0.25
        ],
        [
         "Gustaf's Knäckebröd",
         0.25
        ],
        [
         "Chai",
         0.25
        ],
        [
         "Camembert Pierrot",
         0.25
        ],
        [
         "Zaanse koeken",
         0.25
        ],
        [
         "Nord-Ost Matjeshering",
         0.25
        ],
        [
         "Carnarvon Tigers",
         0.25
        ],
        [
         "Sir Rodney's Marmalade",
         0.25
        ],
        [
         "Tunnbröd",
         0.25
        ],
        [
         "Pavlova",
         0.25
        ],
        [
         "Konbu",
         0.25
        ],
        [
         "Ipoh Coffee",
         0.25
        ],
        [
         "Scottish Longbreads",
         0.25
        ],
        [
         "Gorgonzola Telino",
         0.25
        ],
        [
         "Camembert Pierrot",
         0.25
        ],
        [
         "Gnocchi di nonna Alice",
         0.2
        ],
        [
         "Flotemysost",
         0.2
        ],
        [
         "Carnarvon Tigers",
         0.2
        ],
        [
         "Chang",
         0.2
        ],
        [
         "Inlagd Sill",
         0.2
        ],
        [
         "Singaporean Hokkien Fried Mee",
         0.2
        ],
        [
         "Northwoods Cranberry Sauce",
         0.2
        ],
        [
         "Wimmers gute Semmelknödel",
         0.2
        ],
        [
         "Tourtière",
         0.2
        ],
        [
         "Chang",
         0.2
        ],
        [
         "NuNuCa Nuß-Nougat-Creme",
         0.2
        ],
        [
         "Teatime Chocolate Biscuits",
         0.2
        ],
        [
         "Sirop d'érable",
         0.2
        ],
        [
         "Flotemysost",
         0.2
        ],
        [
         "Singaporean Hokkien Fried Mee",
         0.2
        ],
        [
         "Inlagd Sill",
         0.2
        ],
        [
         "Rhönbräu Klosterbier",
         0.2
        ],
        [
         "Chang",
         0.2
        ],
        [
         "Chang",
         0.2
        ],
        [
         "Guaraná Fantástica",
         0.2
        ],
        [
         "Perth Pasties",
         0.2
        ],
        [
         "Mascarpone Fabioli",
         0.2
        ],
        [
         "Boston Crab Meat",
         0.2
        ],
        [
         "Côte de Blaye",
         0.2
        ],
        [
         "Raclette Courdavault",
         0.2
        ],
        [
         "Sasquatch Ale",
         0.2
        ],
        [
         "Scottish Longbreads",
         0.2
        ],
        [
         "Rössle Sauerkraut",
         0.2
        ],
        [
         "Steeleye Stout",
         0.2
        ],
        [
         "Rogede sild",
         0.2
        ],
        [
         "Boston Crab Meat",
         0.2
        ],
        [
         "Scottish Longbreads",
         0.2
        ],
        [
         "Gudbrandsdalsost",
         0.2
        ],
        [
         "Gorgonzola Telino",
         0.2
        ],
        [
         "Rhönbräu Klosterbier",
         0.2
        ],
        [
         "Tourtière",
         0.2
        ],
        [
         "Gnocchi di nonna Alice",
         0.2
        ],
        [
         "Nord-Ost Matjeshering",
         0.2
        ],
        [
         "Rhönbräu Klosterbier",
         0.2
        ],
        [
         "Tofu",
         0.2
        ],
        [
         "Gumbär Gummibärchen",
         0.2
        ],
        [
         "Gudbrandsdalsost",
         0.2
        ],
        [
         "Konbu",
         0.2
        ],
        [
         "NuNuCa Nuß-Nougat-Creme",
         0.2
        ],
        [
         "Gula Malacca",
         0.2
        ],
        [
         "Original Frankfurter grüne Soße",
         0.2
        ],
        [
         "Chartreuse verte",
         0.2
        ],
        [
         "Chai",
         0.2
        ],
        [
         "Gravad lax",
         0.2
        ],
        [
         "Rogede sild",
         0.2
        ],
        [
         "Camembert Pierrot",
         0.2
        ],
        [
         "Tunnbröd",
         0.2
        ],
        [
         "Outback Lager",
         0.2
        ],
        [
         "Ipoh Coffee",
         0.2
        ],
        [
         "Laughing Lumberjack Lager",
         0.2
        ],
        [
         "Pâté chinois",
         0.2
        ],
        [
         "Escargots de Bourgogne",
         0.2
        ],
        [
         "Rhönbräu Klosterbier",
         0.2
        ],
        [
         "Filo Mix",
         0.2
        ],
        [
         "Chang",
         0.2
        ],
        [
         "Outback Lager",
         0.2
        ],
        [
         "Lakkalikööri",
         0.2
        ],
        [
         "Boston Crab Meat",
         0.2
        ],
        [
         "Chang",
         0.2
        ],
        [
         "Queso Manchego La Pastora",
         0.2
        ],
        [
         "Ipoh Coffee",
         0.2
        ],
        [
         "Sirop d'érable",
         0.2
        ],
        [
         "Carnarvon Tigers",
         0.2
        ],
        [
         "Chef Anton's Gumbo Mix",
         0.2
        ],
        [
         "Outback Lager",
         0.2
        ],
        [
         "Chang",
         0.2
        ],
        [
         "Wimmers gute Semmelknödel",
         0.2
        ],
        [
         "Chef Anton's Gumbo Mix",
         0.2
        ],
        [
         "Chai",
         0.2
        ],
        [
         "Queso Cabrales",
         0.2
        ],
        [
         "Perth Pasties",
         0.2
        ],
        [
         "Chang",
         0.2
        ],
        [
         "Nord-Ost Matjeshering",
         0.2
        ],
        [
         "Escargots de Bourgogne",
         0.2
        ],
        [
         "Carnarvon Tigers",
         0.2
        ],
        [
         "Singaporean Hokkien Fried Mee",
         0.2
        ],
        [
         "Chang",
         0.2
        ],
        [
         "Zaanse koeken",
         0.2
        ],
        [
         "Gorgonzola Telino",
         0.2
        ],
        [
         "Mascarpone Fabioli",
         0.2
        ],
        [
         "Manjimup Dried Apples",
         0.2
        ],
        [
         "Chang",
         0.2
        ],
        [
         "Gorgonzola Telino",
         0.2
        ],
        [
         "Inlagd Sill",
         0.2
        ],
        [
         "Côte de Blaye",
         0.2
        ],
        [
         "Pâté chinois",
         0.2
        ],
        [
         "Queso Cabrales",
         0.2
        ],
        [
         "Ikura",
         0.2
        ],
        [
         "Camembert Pierrot",
         0.2
        ],
        [
         "Inlagd Sill",
         0.2
        ],
        [
         "Escargots de Bourgogne",
         0.2
        ],
        [
         "Flotemysost",
         0.2
        ],
        [
         "Camembert Pierrot",
         0.2
        ],
        [
         "Uncle Bob's Organic Dried Pears",
         0.2
        ],
        [
         "Scottish Longbreads",
         0.2
        ],
        [
         "Rogede sild",
         0.2
        ],
        [
         "Filo Mix",
         0.2
        ],
        [
         "Jack's New England Clam Chowder",
         0.2
        ],
        [
         "Gula Malacca",
         0.2
        ],
        [
         "Raclette Courdavault",
         0.2
        ],
        [
         "Scottish Longbreads",
         0.2
        ],
        [
         "Alice Mutton",
         0.2
        ],
        [
         "Steeleye Stout",
         0.2
        ],
        [
         "Raclette Courdavault",
         0.2
        ],
        [
         "Teatime Chocolate Biscuits",
         0.2
        ],
        [
         "Sasquatch Ale",
         0.2
        ],
        [
         "Ravioli Angelo",
         0.2
        ],
        [
         "Ikura",
         0.2
        ],
        [
         "Queso Cabrales",
         0.2
        ],
        [
         "Tourtière",
         0.2
        ],
        [
         "Pavlova",
         0.2
        ],
        [
         "Geitost",
         0.2
        ],
        [
         "Spegesild",
         0.2
        ],
        [
         "Chef Anton's Cajun Seasoning",
         0.2
        ],
        [
         "Gnocchi di nonna Alice",
         0.2
        ],
        [
         "Mascarpone Fabioli",
         0.2
        ],
        [
         "Röd Kaviar",
         0.2
        ],
        [
         "Sir Rodney's Scones",
         0.2
        ],
        [
         "Sirop d'érable",
         0.2
        ],
        [
         "Chai",
         0.2
        ],
        [
         "Nord-Ost Matjeshering",
         0.2
        ],
        [
         "Boston Crab Meat",
         0.2
        ],
        [
         "Geitost",
         0.2
        ],
        [
         "Tourtière",
         0.2
        ],
        [
         "Boston Crab Meat",
         0.2
        ],
        [
         "Tofu",
         0.2
        ],
        [
         "Teatime Chocolate Biscuits",
         0.2
        ],
        [
         "Guaraná Fantástica",
         0.2
        ],
        [
         "Manjimup Dried Apples",
         0.2
        ],
        [
         "Gnocchi di nonna Alice",
         0.2
        ],
        [
         "Gorgonzola Telino",
         0.2
        ],
        [
         "Carnarvon Tigers",
         0.2
        ],
        [
         "Gorgonzola Telino",
         0.2
        ],
        [
         "Rhönbräu Klosterbier",
         0.2
        ],
        [
         "Singaporean Hokkien Fried Mee",
         0.2
        ],
        [
         "Sir Rodney's Marmalade",
         0.2
        ],
        [
         "Gudbrandsdalsost",
         0.2
        ],
        [
         "Lakkalikööri",
         0.2
        ],
        [
         "Vegie-spread",
         0.2
        ],
        [
         "Gnocchi di nonna Alice",
         0.2
        ],
        [
         "Rhönbräu Klosterbier",
         0.2
        ],
        [
         "Guaraná Fantástica",
         0.2
        ],
        [
         "Louisiana Fiery Hot Pepper Sauce",
         0.2
        ],
        [
         "Chef Anton's Cajun Seasoning",
         0.2
        ],
        [
         "Pâté chinois",
         0.2
        ],
        [
         "Tarte au sucre",
         0.2
        ],
        [
         "Sirop d'érable",
         0.2
        ],
        [
         "Scottish Longbreads",
         0.2
        ],
        [
         "Sir Rodney's Scones",
         0.2
        ],
        [
         "Jack's New England Clam Chowder",
         0.2
        ],
        [
         "Chartreuse verte",
         0.2
        ],
        [
         "Escargots de Bourgogne",
         0.2
        ],
        [
         "Gudbrandsdalsost",
         0.2
        ],
        [
         "Flotemysost",
         0.2
        ],
        [
         "Chai",
         0.2
        ],
        [
         "Alice Mutton",
         0.2
        ],
        [
         "Pâté chinois",
         0.15
        ],
        [
         "Raclette Courdavault",
         0.15
        ],
        [
         "Sir Rodney's Scones",
         0.15
        ],
        [
         "Tofu",
         0.15
        ],
        [
         "Gnocchi di nonna Alice",
         0.15
        ],
        [
         "Guaraná Fantástica",
         0.15
        ],
        [
         "Lakkalikööri",
         0.15
        ],
        [
         "Jack's New England Clam Chowder",
         0.15
        ],
        [
         "Spegesild",
         0.15
        ],
        [
         "Gumbär Gummibärchen",
         0.15
        ],
        [
         "Chartreuse verte",
         0.15
        ],
        [
         "Rössle Sauerkraut",
         0.15
        ],
        [
         "Chai",
         0.15
        ],
        [
         "Sir Rodney's Scones",
         0.15
        ],
        [
         "Perth Pasties",
         0.15
        ],
        [
         "Chang",
         0.15
        ],
        [
         "Pavlova",
         0.15
        ],
        [
         "Maxilaku",
         0.15
        ],
        [
         "Gula Malacca",
         0.15
        ],
        [
         "Original Frankfurter grüne Soße",
         0.15
        ],
        [
         "Chef Anton's Cajun Seasoning",
         0.15
        ],
        [
         "Camembert Pierrot",
         0.15
        ],
        [
         "Spegesild",
         0.15
        ],
        [
         "Geitost",
         0.15
        ],
        [
         "Tunnbröd",
         0.15
        ],
        [
         "Rogede sild",
         0.15
        ],
        [
         "Singaporean Hokkien Fried Mee",
         0.15
        ],
        [
         "Carnarvon Tigers",
         0.15
        ],
        [
         "Gudbrandsdalsost",
         0.15
        ],
        [
         "Queso Manchego La Pastora",
         0.15
        ],
        [
         "Tarte au sucre",
         0.15
        ],
        [
         "Geitost",
         0.15
        ],
        [
         "Louisiana Fiery Hot Pepper Sauce",
         0.15
        ],
        [
         "Gudbrandsdalsost",
         0.15
        ],
        [
         "Outback Lager",
         0.15
        ],
        [
         "Raclette Courdavault",
         0.15
        ],
        [
         "Maxilaku",
         0.15
        ],
        [
         "Konbu",
         0.15
        ],
        [
         "Gnocchi di nonna Alice",
         0.15
        ],
        [
         "Gumbär Gummibärchen",
         0.15
        ],
        [
         "Gumbär Gummibärchen",
         0.15
        ],
        [
         "Louisiana Fiery Hot Pepper Sauce",
         0.15
        ],
        [
         "Ikura",
         0.15
        ],
        [
         "Escargots de Bourgogne",
         0.15
        ],
        [
         "Tarte au sucre",
         0.15
        ],
        [
         "Konbu",
         0.15
        ],
        [
         "Rhönbräu Klosterbier",
         0.15
        ],
        [
         "Gnocchi di nonna Alice",
         0.15
        ],
        [
         "Konbu",
         0.15
        ],
        [
         "Sirop d'érable",
         0.15
        ],
        [
         "Original Frankfurter grüne Soße",
         0.15
        ],
        [
         "Chang",
         0.15
        ],
        [
         "Camembert Pierrot",
         0.15
        ],
        [
         "Louisiana Fiery Hot Pepper Sauce",
         0.15
        ],
        [
         "Pavlova",
         0.15
        ],
        [
         "Pavlova",
         0.15
        ],
        [
         "Steeleye Stout",
         0.15
        ],
        [
         "Raclette Courdavault",
         0.15
        ],
        [
         "Vegie-spread",
         0.15
        ],
        [
         "Mozzarella di Giovanni",
         0.15
        ],
        [
         "Raclette Courdavault",
         0.15
        ],
        [
         "Rhönbräu Klosterbier",
         0.15
        ],
        [
         "Chai",
         0.15
        ],
        [
         "Tourtière",
         0.15
        ],
        [
         "Longlife Tofu",
         0.15
        ],
        [
         "Chartreuse verte",
         0.15
        ],
        [
         "Manjimup Dried Apples",
         0.15
        ],
        [
         "Pavlova",
         0.15
        ],
        [
         "Chocolade",
         0.15
        ],
        [
         "Teatime Chocolate Biscuits",
         0.15
        ],
        [
         "Original Frankfurter grüne Soße",
         0.15
        ],
        [
         "Lakkalikööri",
         0.15
        ],
        [
         "Pavlova",
         0.15
        ],
        [
         "Thüringer Rostbratwurst",
         0.15
        ],
        [
         "Sirop d'érable",
         0.15
        ],
        [
         "Chang",
         0.15
        ],
        [
         "Gorgonzola Telino",
         0.15
        ],
        [
         "Louisiana Hot Spiced Okra",
         0.15
        ],
        [
         "Lakkalikööri",
         0.15
        ],
        [
         "Gula Malacca",
         0.15
        ],
        [
         "Ipoh Coffee",
         0.15
        ],
        [
         "Chocolade",
         0.15
        ],
        [
         "Uncle Bob's Organic Dried Pears",
         0.15
        ],
        [
         "Northwoods Cranberry Sauce",
         0.15
        ],
        [
         "Guaraná Fantástica",
         0.15
        ],
        [
         "Zaanse koeken",
         0.15
        ],
        [
         "Mishi Kobe Niku",
         0.15
        ],
        [
         "Camembert Pierrot",
         0.15
        ],
        [
         "Chai",
         0.15
        ],
        [
         "Gnocchi di nonna Alice",
         0.15
        ],
        [
         "Queso Manchego La Pastora",
         0.15
        ],
        [
         "Mascarpone Fabioli",
         0.15
        ],
        [
         "Gorgonzola Telino",
         0.15
        ],
        [
         "Manjimup Dried Apples",
         0.15
        ],
        [
         "Pavlova",
         0.15
        ],
        [
         "Steeleye Stout",
         0.15
        ],
        [
         "Camembert Pierrot",
         0.15
        ],
        [
         "Filo Mix",
         0.15
        ],
        [
         "Raclette Courdavault",
         0.15
        ],
        [
         "Röd Kaviar",
         0.15
        ],
        [
         "Konbu",
         0.15
        ],
        [
         "Gumbär Gummibärchen",
         0.15
        ],
        [
         "Guaraná Fantástica",
         0.15
        ],
        [
         "Ikura",
         0.15
        ],
        [
         "Gnocchi di nonna Alice",
         0.15
        ],
        [
         "Gumbär Gummibärchen",
         0.15
        ],
        [
         "Tourtière",
         0.15
        ],
        [
         "Röd Kaviar",
         0.15
        ],
        [
         "Raclette Courdavault",
         0.15
        ],
        [
         "Flotemysost",
         0.15
        ],
        [
         "Lakkalikööri",
         0.15
        ],
        [
         "Tofu",
         0.15
        ],
        [
         "Rogede sild",
         0.15
        ],
        [
         "Chartreuse verte",
         0.15
        ],
        [
         "Mozzarella di Giovanni",
         0.15
        ],
        [
         "Uncle Bob's Organic Dried Pears",
         0.15
        ],
        [
         "Guaraná Fantástica",
         0.15
        ],
        [
         "Lakkalikööri",
         0.15
        ],
        [
         "Ipoh Coffee",
         0.15
        ],
        [
         "Chocolade",
         0.15
        ],
        [
         "Sirop d'érable",
         0.15
        ],
        [
         "Boston Crab Meat",
         0.15
        ],
        [
         "Tarte au sucre",
         0.15
        ],
        [
         "NuNuCa Nuß-Nougat-Creme",
         0.15
        ],
        [
         "Geitost",
         0.15
        ],
        [
         "Outback Lager",
         0.15
        ],
        [
         "Konbu",
         0.15
        ],
        [
         "Chai",
         0.15
        ],
        [
         "Maxilaku",
         0.15
        ],
        [
         "Tourtière",
         0.15
        ],
        [
         "Chartreuse verte",
         0.15
        ],
        [
         "Pâté chinois",
         0.15
        ],
        [
         "Inlagd Sill",
         0.15
        ],
        [
         "Filo Mix",
         0.15
        ],
        [
         "Chang",
         0.15
        ],
        [
         "Laughing Lumberjack Lager",
         0.15
        ],
        [
         "Pavlova",
         0.15
        ],
        [
         "Camembert Pierrot",
         0.15
        ],
        [
         "Tarte au sucre",
         0.15
        ],
        [
         "Northwoods Cranberry Sauce",
         0.15
        ],
        [
         "Sir Rodney's Scones",
         0.15
        ],
        [
         "Gula Malacca",
         0.15
        ],
        [
         "Sasquatch Ale",
         0.15
        ],
        [
         "Pâté chinois",
         0.15
        ],
        [
         "Steeleye Stout",
         0.15
        ],
        [
         "Singaporean Hokkien Fried Mee",
         0.15
        ],
        [
         "Ikura",
         0.15
        ],
        [
         "Ipoh Coffee",
         0.15
        ],
        [
         "Chai",
         0.15
        ],
        [
         "Pavlova",
         0.15
        ],
        [
         "Chang",
         0.15
        ],
        [
         "Spegesild",
         0.15
        ],
        [
         "Rössle Sauerkraut",
         0.15
        ],
        [
         "Lakkalikööri",
         0.15
        ],
        [
         "Gorgonzola Telino",
         0.15
        ],
        [
         "Manjimup Dried Apples",
         0.15
        ],
        [
         "Queso Cabrales",
         0.15
        ],
        [
         "Boston Crab Meat",
         0.1
        ],
        [
         "Tofu",
         0.1
        ],
        [
         "Steeleye Stout",
         0.1
        ],
        [
         "Mishi Kobe Niku",
         0.1
        ],
        [
         "Carnarvon Tigers",
         0.1
        ],
        [
         "Rhönbräu Klosterbier",
         0.1
        ],
        [
         "Gorgonzola Telino",
         0.1
        ],
        [
         "Konbu",
         0.1
        ],
        [
         "Louisiana Fiery Hot Pepper Sauce",
         0.1
        ],
        [
         "Jack's New England Clam Chowder",
         0.1
        ],
        [
         "Flotemysost",
         0.1
        ],
        [
         "Chef Anton's Cajun Seasoning",
         0.1
        ],
        [
         "Wimmers gute Semmelknödel",
         0.1
        ],
        [
         "Mozzarella di Giovanni",
         0.1
        ],
        [
         "Ikura",
         0.1
        ],
        [
         "Gorgonzola Telino",
         0.1
        ],
        [
         "Outback Lager",
         0.1
        ],
        [
         "Wimmers gute Semmelknödel",
         0.1
        ],
        [
         "Original Frankfurter grüne Soße",
         0.1
        ],
        [
         "Pâté chinois",
         0.1
        ],
        [
         "Alice Mutton",
         0.1
        ],
        [
         "Inlagd Sill",
         0.1
        ],
        [
         "Alice Mutton",
         0.1
        ],
        [
         "Pavlova",
         0.1
        ],
        [
         "Chef Anton's Gumbo Mix",
         0.1
        ],
        [
         "Chef Anton's Cajun Seasoning",
         0.1
        ],
        [
         "Côte de Blaye",
         0.1
        ],
        [
         "Gumbär Gummibärchen",
         0.1
        ],
        [
         "Queso Cabrales",
         0.1
        ],
        [
         "Escargots de Bourgogne",
         0.1
        ],
        [
         "Rössle Sauerkraut",
         0.1
        ],
        [
         "Tarte au sucre",
         0.1
        ],
        [
         "Alice Mutton",
         0.1
        ],
        [
         "Steeleye Stout",
         0.1
        ],
        [
         "Perth Pasties",
         0.1
        ],
        [
         "Röd Kaviar",
         0.1
        ],
        [
         "Rhönbräu Klosterbier",
         0.1
        ],
        [
         "Gorgonzola Telino",
         0.1
        ],
        [
         "Chocolade",
         0.1
        ],
        [
         "Thüringer Rostbratwurst",
         0.1
        ],
        [
         "Outback Lager",
         0.1
        ],
        [
         "Gudbrandsdalsost",
         0.1
        ],
        [
         "Sir Rodney's Marmalade",
         0.1
        ],
        [
         "Gravad lax",
         0.1
        ],
        [
         "Queso Cabrales",
         0.1
        ],
        [
         "Raclette Courdavault",
         0.1
        ],
        [
         "Sir Rodney's Scones",
         0.1
        ],
        [
         "Geitost",
         0.1
        ],
        [
         "Mascarpone Fabioli",
         0.1
        ],
        [
         "Lakkalikööri",
         0.1
        ],
        [
         "Carnarvon Tigers",
         0.1
        ],
        [
         "Chartreuse verte",
         0.1
        ],
        [
         "Gula Malacca",
         0.1
        ],
        [
         "Teatime Chocolate Biscuits",
         0.1
        ],
        [
         "Ikura",
         0.1
        ],
        [
         "Valkoinen suklaa",
         0.1
        ],
        [
         "Louisiana Fiery Hot Pepper Sauce",
         0.1
        ],
        [
         "Raclette Courdavault",
         0.1
        ],
        [
         "Original Frankfurter grüne Soße",
         0.1
        ],
        [
         "Mozzarella di Giovanni",
         0.1
        ],
        [
         "Singaporean Hokkien Fried Mee",
         0.1
        ],
        [
         "Pavlova",
         0.1
        ],
        [
         "Rhönbräu Klosterbier",
         0.1
        ],
        [
         "Jack's New England Clam Chowder",
         0.1
        ],
        [
         "Perth Pasties",
         0.1
        ],
        [
         "Perth Pasties",
         0.1
        ],
        [
         "Inlagd Sill",
         0.1
        ],
        [
         "Gula Malacca",
         0.1
        ],
        [
         "Scottish Longbreads",
         0.1
        ],
        [
         "Perth Pasties",
         0.1
        ],
        [
         "Mozzarella di Giovanni",
         0.1
        ],
        [
         "Pâté chinois",
         0.1
        ],
        [
         "Sir Rodney's Scones",
         0.1
        ],
        [
         "Gnocchi di nonna Alice",
         0.1
        ],
        [
         "Teatime Chocolate Biscuits",
         0.1
        ],
        [
         "Filo Mix",
         0.1
        ],
        [
         "Pâté chinois",
         0.1
        ],
        [
         "Outback Lager",
         0.1
        ],
        [
         "Rogede sild",
         0.1
        ],
        [
         "Chang",
         0.1
        ],
        [
         "Louisiana Fiery Hot Pepper Sauce",
         0.1
        ],
        [
         "NuNuCa Nuß-Nougat-Creme",
         0.1
        ],
        [
         "Outback Lager",
         0.1
        ],
        [
         "Jack's New England Clam Chowder",
         0.1
        ],
        [
         "Boston Crab Meat",
         0.1
        ],
        [
         "Boston Crab Meat",
         0.1
        ],
        [
         "Guaraná Fantástica",
         0.1
        ],
        [
         "Côte de Blaye",
         0.1
        ],
        [
         "Sirop d'érable",
         0.1
        ],
        [
         "Tarte au sucre",
         0.1
        ],
        [
         "Guaraná Fantástica",
         0.1
        ],
        [
         "Rhönbräu Klosterbier",
         0.1
        ],
        [
         "Konbu",
         0.1
        ],
        [
         "Teatime Chocolate Biscuits",
         0.1
        ],
        [
         "Spegesild",
         0.1
        ],
        [
         "Pavlova",
         0.1
        ],
        [
         "Tourtière",
         0.1
        ],
        [
         "Zaanse koeken",
         0.1
        ],
        [
         "Gorgonzola Telino",
         0.1
        ],
        [
         "Sir Rodney's Scones",
         0.1
        ],
        [
         "Rössle Sauerkraut",
         0.1
        ],
        [
         "Sirop d'érable",
         0.1
        ],
        [
         "Aniseed Syrup",
         0.1
        ],
        [
         "Queso Cabrales",
         0.1
        ],
        [
         "Manjimup Dried Apples",
         0.1
        ],
        [
         "Uncle Bob's Organic Dried Pears",
         0.1
        ],
        [
         "Gorgonzola Telino",
         0.1
        ],
        [
         "Tunnbröd",
         0.1
        ],
        [
         "Escargots de Bourgogne",
         0.1
        ],
        [
         "Maxilaku",
         0.1
        ],
        [
         "Tarte au sucre",
         0.1
        ],
        [
         "Pavlova",
         0.1
        ],
        [
         "Carnarvon Tigers",
         0.1
        ],
        [
         "Chai",
         0.1
        ],
        [
         "Gudbrandsdalsost",
         0.1
        ],
        [
         "Sir Rodney's Scones",
         0.1
        ],
        [
         "Pâté chinois",
         0.1
        ],
        [
         "Boston Crab Meat",
         0.1
        ],
        [
         "Tourtière",
         0.1
        ],
        [
         "Konbu",
         0.1
        ],
        [
         "Manjimup Dried Apples",
         0.1
        ],
        [
         "Louisiana Fiery Hot Pepper Sauce",
         0.1
        ],
        [
         "Chartreuse verte",
         0.1
        ],
        [
         "Carnarvon Tigers",
         0.1
        ],
        [
         "Mascarpone Fabioli",
         0.1
        ],
        [
         "Chef Anton's Cajun Seasoning",
         0.1
        ],
        [
         "Gudbrandsdalsost",
         0.1
        ],
        [
         "Jack's New England Clam Chowder",
         0.1
        ],
        [
         "Rössle Sauerkraut",
         0.1
        ],
        [
         "Louisiana Fiery Hot Pepper Sauce",
         0.1
        ],
        [
         "Camembert Pierrot",
         0.1
        ],
        [
         "Spegesild",
         0.1
        ],
        [
         "Rössle Sauerkraut",
         0.1
        ],
        [
         "Guaraná Fantástica",
         0.1
        ],
        [
         "Wimmers gute Semmelknödel",
         0.1
        ],
        [
         "Aniseed Syrup",
         0.1
        ],
        [
         "Louisiana Hot Spiced Okra",
         0.1
        ],
        [
         "Rhönbräu Klosterbier",
         0.1
        ],
        [
         "Chef Anton's Cajun Seasoning",
         0.1
        ],
        [
         "Ravioli Angelo",
         0.1
        ],
        [
         "Louisiana Fiery Hot Pepper Sauce",
         0.1
        ],
        [
         "Wimmers gute Semmelknödel",
         0.1
        ],
        [
         "Chocolade",
         0.1
        ],
        [
         "Sir Rodney's Scones",
         0.1
        ],
        [
         "Camembert Pierrot",
         0.1
        ],
        [
         "Tofu",
         0.1
        ],
        [
         "Pâté chinois",
         0.1
        ],
        [
         "Original Frankfurter grüne Soße",
         0.1
        ],
        [
         "Chartreuse verte",
         0.1
        ],
        [
         "Tourtière",
         0.1
        ],
        [
         "Perth Pasties",
         0.1
        ],
        [
         "Steeleye Stout",
         0.1
        ],
        [
         "Zaanse koeken",
         0.1
        ],
        [
         "Mascarpone Fabioli",
         0.1
        ],
        [
         "Konbu",
         0.1
        ],
        [
         "Lakkalikööri",
         0.1
        ],
        [
         "Northwoods Cranberry Sauce",
         0.1
        ],
        [
         "Jack's New England Clam Chowder",
         0.1
        ],
        [
         "Scottish Longbreads",
         0.1
        ],
        [
         "Boston Crab Meat",
         0.1
        ],
        [
         "Thüringer Rostbratwurst",
         0.1
        ],
        [
         "Escargots de Bourgogne",
         0.1
        ],
        [
         "Tarte au sucre",
         0.1
        ],
        [
         "Sir Rodney's Scones",
         0.1
        ],
        [
         "Flotemysost",
         0.1
        ],
        [
         "Alice Mutton",
         0.1
        ],
        [
         "Valkoinen suklaa",
         0.1
        ],
        [
         "Chartreuse verte",
         0.1
        ],
        [
         "Camembert Pierrot",
         0.1
        ],
        [
         "Sir Rodney's Scones",
         0.1
        ],
        [
         "Wimmers gute Semmelknödel",
         0.1
        ],
        [
         "Vegie-spread",
         0.1
        ],
        [
         "Nord-Ost Matjeshering",
         0.1
        ],
        [
         "Camembert Pierrot",
         0.06
        ],
        [
         "Ravioli Angelo",
         0.05
        ],
        [
         "Sir Rodney's Marmalade",
         0.05
        ],
        [
         "Geitost",
         0.05
        ],
        [
         "Pavlova",
         0.05
        ],
        [
         "Teatime Chocolate Biscuits",
         0.05
        ],
        [
         "Queso Manchego La Pastora",
         0.05
        ],
        [
         "Guaraná Fantástica",
         0.05
        ],
        [
         "Tunnbröd",
         0.05
        ],
        [
         "Boston Crab Meat",
         0.05
        ],
        [
         "Rhönbräu Klosterbier",
         0.05
        ],
        [
         "Konbu",
         0.05
        ],
        [
         "Geitost",
         0.05
        ],
        [
         "Boston Crab Meat",
         0.05
        ],
        [
         "Sasquatch Ale",
         0.05
        ],
        [
         "Guaraná Fantástica",
         0.05
        ],
        [
         "Tarte au sucre",
         0.05
        ],
        [
         "Genen Shouyu",
         0.05
        ],
        [
         "Camembert Pierrot",
         0.05
        ],
        [
         "Gula Malacca",
         0.05
        ],
        [
         "Thüringer Rostbratwurst",
         0.05
        ],
        [
         "Raclette Courdavault",
         0.05
        ],
        [
         "Gudbrandsdalsost",
         0.05
        ],
        [
         "Original Frankfurter grüne Soße",
         0.05
        ],
        [
         "Mozzarella di Giovanni",
         0.05
        ],
        [
         "Lakkalikööri",
         0.05
        ],
        [
         "Alice Mutton",
         0.05
        ],
        [
         "Inlagd Sill",
         0.05
        ],
        [
         "Singaporean Hokkien Fried Mee",
         0.05
        ],
        [
         "Pâté chinois",
         0.05
        ],
        [
         "Genen Shouyu",
         0.05
        ],
        [
         "Original Frankfurter grüne Soße",
         0.05
        ],
        [
         "Pâté chinois",
         0.05
        ],
        [
         "Gumbär Gummibärchen",
         0.05
        ],
        [
         "Outback Lager",
         0.05
        ],
        [
         "Original Frankfurter grüne Soße",
         0.05
        ],
        [
         "Manjimup Dried Apples",
         0.05
        ],
        [
         "Alice Mutton",
         0.05
        ],
        [
         "Manjimup Dried Apples",
         0.05
        ],
        [
         "Jack's New England Clam Chowder",
         0.05
        ],
        [
         "Raclette Courdavault",
         0.05
        ],
        [
         "Côte de Blaye",
         0.05
        ],
        [
         "Wimmers gute Semmelknödel",
         0.05
        ],
        [
         "Rhönbräu Klosterbier",
         0.05
        ],
        [
         "Rhönbräu Klosterbier",
         0.05
        ],
        [
         "Rössle Sauerkraut",
         0.05
        ],
        [
         "Mascarpone Fabioli",
         0.05
        ],
        [
         "Ikura",
         0.05
        ],
        [
         "Guaraná Fantástica",
         0.05
        ],
        [
         "Teatime Chocolate Biscuits",
         0.05
        ],
        [
         "Carnarvon Tigers",
         0.05
        ],
        [
         "Scottish Longbreads",
         0.05
        ],
        [
         "Pavlova",
         0.05
        ],
        [
         "Gorgonzola Telino",
         0.05
        ],
        [
         "Maxilaku",
         0.05
        ],
        [
         "Gudbrandsdalsost",
         0.05
        ],
        [
         "Ikura",
         0.05
        ],
        [
         "Original Frankfurter grüne Soße",
         0.05
        ],
        [
         "Rössle Sauerkraut",
         0.05
        ],
        [
         "Chef Anton's Cajun Seasoning",
         0.05
        ],
        [
         "Jack's New England Clam Chowder",
         0.05
        ],
        [
         "Queso Cabrales",
         0.05
        ],
        [
         "Jack's New England Clam Chowder",
         0.05
        ],
        [
         "Maxilaku",
         0.05
        ],
        [
         "Raclette Courdavault",
         0.05
        ],
        [
         "Flotemysost",
         0.05
        ],
        [
         "Geitost",
         0.05
        ],
        [
         "Gorgonzola Telino",
         0.05
        ],
        [
         "Boston Crab Meat",
         0.05
        ],
        [
         "Alice Mutton",
         0.05
        ],
        [
         "Outback Lager",
         0.05
        ],
        [
         "Gnocchi di nonna Alice",
         0.05
        ],
        [
         "Pavlova",
         0.05
        ],
        [
         "Spegesild",
         0.05
        ],
        [
         "Gorgonzola Telino",
         0.05
        ],
        [
         "Teatime Chocolate Biscuits",
         0.05
        ],
        [
         "Côte de Blaye",
         0.05
        ],
        [
         "Nord-Ost Matjeshering",
         0.05
        ],
        [
         "Chartreuse verte",
         0.05
        ],
        [
         "Pavlova",
         0.05
        ],
        [
         "Louisiana Fiery Hot Pepper Sauce",
         0.05
        ],
        [
         "Gnocchi di nonna Alice",
         0.05
        ],
        [
         "Chai",
         0.05
        ],
        [
         "Uncle Bob's Organic Dried Pears",
         0.05
        ],
        [
         "Grandma's Boysenberry Spread",
         0.05
        ],
        [
         "Filo Mix",
         0.05
        ],
        [
         "Sasquatch Ale",
         0.05
        ],
        [
         "Teatime Chocolate Biscuits",
         0.05
        ],
        [
         "Steeleye Stout",
         0.05
        ],
        [
         "Pavlova",
         0.05
        ],
        [
         "Gorgonzola Telino",
         0.05
        ],
        [
         "Raclette Courdavault",
         0.05
        ],
        [
         "Nord-Ost Matjeshering",
         0.05
        ],
        [
         "Côte de Blaye",
         0.05
        ],
        [
         "Jack's New England Clam Chowder",
         0.05
        ],
        [
         "Côte de Blaye",
         0.05
        ],
        [
         "Gula Malacca",
         0.05
        ],
        [
         "Camembert Pierrot",
         0.05
        ],
        [
         "Gorgonzola Telino",
         0.05
        ],
        [
         "Teatime Chocolate Biscuits",
         0.05
        ],
        [
         "Gula Malacca",
         0.05
        ],
        [
         "Uncle Bob's Organic Dried Pears",
         0.05
        ],
        [
         "Sasquatch Ale",
         0.05
        ],
        [
         "NuNuCa Nuß-Nougat-Creme",
         0.05
        ],
        [
         "Singaporean Hokkien Fried Mee",
         0.05
        ],
        [
         "Ikura",
         0.05
        ],
        [
         "Röd Kaviar",
         0.05
        ],
        [
         "Queso Cabrales",
         0.05
        ],
        [
         "Pâté chinois",
         0.05
        ],
        [
         "Alice Mutton",
         0.05
        ],
        [
         "Gnocchi di nonna Alice",
         0.05
        ],
        [
         "Louisiana Fiery Hot Pepper Sauce",
         0.05
        ],
        [
         "Gorgonzola Telino",
         0.05
        ],
        [
         "Pavlova",
         0.05
        ],
        [
         "Camembert Pierrot",
         0.05
        ],
        [
         "Flotemysost",
         0.05
        ],
        [
         "Pâté chinois",
         0.05
        ],
        [
         "Valkoinen suklaa",
         0.05
        ],
        [
         "Gnocchi di nonna Alice",
         0.05
        ],
        [
         "Outback Lager",
         0.05
        ],
        [
         "Boston Crab Meat",
         0.05
        ],
        [
         "Thüringer Rostbratwurst",
         0.05
        ],
        [
         "Perth Pasties",
         0.05
        ],
        [
         "Sir Rodney's Scones",
         0.05
        ],
        [
         "Raclette Courdavault",
         0.05
        ],
        [
         "Gorgonzola Telino",
         0.05
        ],
        [
         "Louisiana Fiery Hot Pepper Sauce",
         0.05
        ],
        [
         "Jack's New England Clam Chowder",
         0.05
        ],
        [
         "Singaporean Hokkien Fried Mee",
         0.05
        ],
        [
         "Rogede sild",
         0.05
        ],
        [
         "NuNuCa Nuß-Nougat-Creme",
         0.05
        ],
        [
         "Tarte au sucre",
         0.05
        ],
        [
         "Chang",
         0.05
        ],
        [
         "NuNuCa Nuß-Nougat-Creme",
         0.05
        ],
        [
         "Grandma's Boysenberry Spread",
         0.05
        ],
        [
         "Alice Mutton",
         0.05
        ],
        [
         "Pâté chinois",
         0.05
        ],
        [
         "Sir Rodney's Marmalade",
         0.05
        ],
        [
         "Louisiana Fiery Hot Pepper Sauce",
         0.05
        ],
        [
         "Nord-Ost Matjeshering",
         0.05
        ],
        [
         "Filo Mix",
         0.05
        ],
        [
         "Geitost",
         0.05
        ],
        [
         "Sir Rodney's Marmalade",
         0.05
        ],
        [
         "Raclette Courdavault",
         0.05
        ],
        [
         "Jack's New England Clam Chowder",
         0.05
        ],
        [
         "Escargots de Bourgogne",
         0.05
        ],
        [
         "Camembert Pierrot",
         0.05
        ],
        [
         "Flotemysost",
         0.05
        ],
        [
         "Uncle Bob's Organic Dried Pears",
         0.05
        ],
        [
         "Uncle Bob's Organic Dried Pears",
         0.05
        ],
        [
         "Queso Manchego La Pastora",
         0.05
        ],
        [
         "Thüringer Rostbratwurst",
         0.05
        ],
        [
         "Gustaf's Knäckebröd",
         0.05
        ],
        [
         "Gnocchi di nonna Alice",
         0.05
        ],
        [
         "Ipoh Coffee",
         0.05
        ],
        [
         "Louisiana Fiery Hot Pepper Sauce",
         0.05
        ],
        [
         "Gumbär Gummibärchen",
         0.05
        ],
        [
         "Camembert Pierrot",
         0.05
        ],
        [
         "Spegesild",
         0.05
        ],
        [
         "Gorgonzola Telino",
         0.05
        ],
        [
         "Camembert Pierrot",
         0.05
        ],
        [
         "Tourtière",
         0.05
        ],
        [
         "Gorgonzola Telino",
         0.05
        ],
        [
         "Tofu",
         0.05
        ],
        [
         "Original Frankfurter grüne Soße",
         0.05
        ],
        [
         "Côte de Blaye",
         0.05
        ],
        [
         "Chang",
         0.05
        ],
        [
         "Perth Pasties",
         0.05
        ],
        [
         "Singaporean Hokkien Fried Mee",
         0.05
        ],
        [
         "Louisiana Fiery Hot Pepper Sauce",
         0.05
        ],
        [
         "Gudbrandsdalsost",
         0.05
        ],
        [
         "Sir Rodney's Scones",
         0.05
        ],
        [
         "Filo Mix",
         0.05
        ],
        [
         "Manjimup Dried Apples",
         0.05
        ],
        [
         "Thüringer Rostbratwurst",
         0.05
        ],
        [
         "Ravioli Angelo",
         0.05
        ],
        [
         "Tarte au sucre",
         0.05
        ],
        [
         "Sir Rodney's Scones",
         0.05
        ],
        [
         "Raclette Courdavault",
         0.05
        ],
        [
         "Jack's New England Clam Chowder",
         0.05
        ],
        [
         "Gorgonzola Telino",
         0.05
        ],
        [
         "Manjimup Dried Apples",
         0.05
        ],
        [
         "Queso Manchego La Pastora",
         0.05
        ],
        [
         "Konbu",
         0.05
        ],
        [
         "Chartreuse verte",
         0.05
        ],
        [
         "Chang",
         0.05
        ],
        [
         "Sir Rodney's Marmalade",
         0.04
        ],
        [
         "Wimmers gute Semmelknödel",
         0.03
        ],
        [
         "Tofu",
         0.03
        ],
        [
         "Pavlova",
         0.03
        ],
        [
         "Spegesild",
         0.02
        ],
        [
         "Grandma's Boysenberry Spread",
         0.02
        ],
        [
         "Röd Kaviar",
         0.01
        ],
        [
         "Queso Cabrales",
         0
        ],
        [
         "Singaporean Hokkien Fried Mee",
         0
        ],
        [
         "Mozzarella di Giovanni",
         0
        ],
        [
         "Steeleye Stout",
         0
        ],
        [
         "Tofu",
         0
        ],
        [
         "Nord-Ost Matjeshering",
         0
        ],
        [
         "Ipoh Coffee",
         0
        ],
        [
         "Manjimup Dried Apples",
         0
        ],
        [
         "Steeleye Stout",
         0
        ],
        [
         "Ravioli Angelo",
         0
        ],
        [
         "Mozzarella di Giovanni",
         0
        ],
        [
         "Perth Pasties",
         0
        ],
        [
         "Tourtière",
         0
        ],
        [
         "Jack's New England Clam Chowder",
         0
        ],
        [
         "Chartreuse verte",
         0
        ],
        [
         "Uncle Bob's Organic Dried Pears",
         0
        ],
        [
         "Geitost",
         0
        ],
        [
         "Genen Shouyu",
         0
        ],
        [
         "Original Frankfurter grüne Soße",
         0
        ],
        [
         "Chang",
         0
        ],
        [
         "Perth Pasties",
         0
        ],
        [
         "Rhönbräu Klosterbier",
         0
        ],
        [
         "Filo Mix",
         0
        ],
        [
         "Tofu",
         0
        ],
        [
         "Louisiana Fiery Hot Pepper Sauce",
         0
        ],
        [
         "Maxilaku",
         0
        ],
        [
         "Original Frankfurter grüne Soße",
         0
        ],
        [
         "Gnocchi di nonna Alice",
         0
        ],
        [
         "Thüringer Rostbratwurst",
         0
        ],
        [
         "Flotemysost",
         0
        ],
        [
         "Raclette Courdavault",
         0
        ],
        [
         "Teatime Chocolate Biscuits",
         0
        ],
        [
         "Steeleye Stout",
         0
        ],
        [
         "Sir Rodney's Marmalade",
         0
        ],
        [
         "Ipoh Coffee",
         0
        ],
        [
         "Tarte au sucre",
         0
        ],
        [
         "Gnocchi di nonna Alice",
         0
        ],
        [
         "Tourtière",
         0
        ],
        [
         "Singaporean Hokkien Fried Mee",
         0
        ],
        [
         "Inlagd Sill",
         0
        ],
        [
         "Chai",
         0
        ],
        [
         "Genen Shouyu",
         0
        ],
        [
         "Gorgonzola Telino",
         0
        ],
        [
         "Filo Mix",
         0
        ],
        [
         "Mozzarella di Giovanni",
         0
        ],
        [
         "Camembert Pierrot",
         0
        ],
        [
         "Longlife Tofu",
         0
        ],
        [
         "Pavlova",
         0
        ],
        [
         "Schoggi Schokolade",
         0
        ],
        [
         "Sir Rodney's Scones",
         0
        ],
        [
         "Guaraná Fantástica",
         0
        ],
        [
         "Chang",
         0
        ],
        [
         "Mozzarella di Giovanni",
         0
        ],
        [
         "Geitost",
         0
        ],
        [
         "Mozzarella di Giovanni",
         0
        ],
        [
         "Konbu",
         0
        ],
        [
         "Vegie-spread",
         0
        ],
        [
         "Pâté chinois",
         0
        ],
        [
         "Camembert Pierrot",
         0
        ],
        [
         "Tarte au sucre",
         0
        ],
        [
         "Wimmers gute Semmelknödel",
         0
        ],
        [
         "Carnarvon Tigers",
         0
        ],
        [
         "Vegie-spread",
         0
        ],
        [
         "Camembert Pierrot",
         0
        ],
        [
         "Queso Cabrales",
         0
        ],
        [
         "Teatime Chocolate Biscuits",
         0
        ],
        [
         "Outback Lager",
         0
        ],
        [
         "Alice Mutton",
         0
        ],
        [
         "Maxilaku",
         0
        ],
        [
         "Tarte au sucre",
         0
        ],
        [
         "Gudbrandsdalsost",
         0
        ],
        [
         "Ipoh Coffee",
         0
        ],
        [
         "Tarte au sucre",
         0
        ],
        [
         "Sasquatch Ale",
         0
        ],
        [
         "Jack's New England Clam Chowder",
         0
        ],
        [
         "Rössle Sauerkraut",
         0
        ],
        [
         "NuNuCa Nuß-Nougat-Creme",
         0
        ],
        [
         "Spegesild",
         0
        ],
        [
         "Mozzarella di Giovanni",
         0
        ],
        [
         "Rhönbräu Klosterbier",
         0
        ],
        [
         "Scottish Longbreads",
         0
        ],
        [
         "Tunnbröd",
         0
        ],
        [
         "Alice Mutton",
         0
        ],
        [
         "Gorgonzola Telino",
         0
        ],
        [
         "Chang",
         0
        ],
        [
         "Inlagd Sill",
         0
        ],
        [
         "Raclette Courdavault",
         0
        ],
        [
         "Chartreuse verte",
         0
        ],
        [
         "Gravad lax",
         0
        ],
        [
         "Ravioli Angelo",
         0
        ],
        [
         "Alice Mutton",
         0
        ],
        [
         "Outback Lager",
         0
        ],
        [
         "Inlagd Sill",
         0
        ],
        [
         "Sir Rodney's Marmalade",
         0
        ],
        [
         "Gorgonzola Telino",
         0
        ],
        [
         "Ikura",
         0
        ],
        [
         "Rössle Sauerkraut",
         0
        ],
        [
         "Tarte au sucre",
         0
        ],
        [
         "Röd Kaviar",
         0
        ],
        [
         "Rhönbräu Klosterbier",
         0
        ],
        [
         "Teatime Chocolate Biscuits",
         0
        ],
        [
         "Mozzarella di Giovanni",
         0
        ],
        [
         "Sasquatch Ale",
         0
        ],
        [
         "Chef Anton's Gumbo Mix",
         0
        ],
        [
         "Thüringer Rostbratwurst",
         0
        ],
        [
         "Guaraná Fantástica",
         0
        ],
        [
         "Rhönbräu Klosterbier",
         0
        ],
        [
         "Chai",
         0
        ],
        [
         "Rhönbräu Klosterbier",
         0
        ],
        [
         "Pavlova",
         0
        ],
        [
         "Gudbrandsdalsost",
         0
        ],
        [
         "Louisiana Hot Spiced Okra",
         0
        ],
        [
         "Scottish Longbreads",
         0
        ],
        [
         "Rössle Sauerkraut",
         0
        ],
        [
         "Raclette Courdavault",
         0
        ],
        [
         "Flotemysost",
         0
        ],
        [
         "Scottish Longbreads",
         0
        ],
        [
         "Outback Lager",
         0
        ],
        [
         "Chef Anton's Cajun Seasoning",
         0
        ],
        [
         "Flotemysost",
         0
        ],
        [
         "Singaporean Hokkien Fried Mee",
         0
        ],
        [
         "Gudbrandsdalsost",
         0
        ],
        [
         "Outback Lager",
         0
        ],
        [
         "Jack's New England Clam Chowder",
         0
        ],
        [
         "Lakkalikööri",
         0
        ],
        [
         "Lakkalikööri",
         0
        ],
        [
         "Flotemysost",
         0
        ],
        [
         "Chartreuse verte",
         0
        ],
        [
         "Grandma's Boysenberry Spread",
         0
        ],
        [
         "Konbu",
         0
        ],
        [
         "Chef Anton's Cajun Seasoning",
         0
        ],
        [
         "Raclette Courdavault",
         0
        ],
        [
         "Louisiana Fiery Hot Pepper Sauce",
         0
        ],
        [
         "Gumbär Gummibärchen",
         0
        ],
        [
         "Inlagd Sill",
         0
        ],
        [
         "Perth Pasties",
         0
        ],
        [
         "Original Frankfurter grüne Soße",
         0
        ],
        [
         "Sir Rodney's Scones",
         0
        ],
        [
         "Boston Crab Meat",
         0
        ],
        [
         "Ipoh Coffee",
         0
        ],
        [
         "Mozzarella di Giovanni",
         0
        ],
        [
         "Gula Malacca",
         0
        ],
        [
         "Guaraná Fantástica",
         0
        ],
        [
         "Guaraná Fantástica",
         0
        ],
        [
         "Gula Malacca",
         0
        ],
        [
         "Aniseed Syrup",
         0
        ],
        [
         "Maxilaku",
         0
        ],
        [
         "Alice Mutton",
         0
        ],
        [
         "Gnocchi di nonna Alice",
         0
        ],
        [
         "Chartreuse verte",
         0
        ],
        [
         "Boston Crab Meat",
         0
        ],
        [
         "Ipoh Coffee",
         0
        ],
        [
         "Nord-Ost Matjeshering",
         0
        ],
        [
         "Grandma's Boysenberry Spread",
         0
        ],
        [
         "Pavlova",
         0
        ],
        [
         "Rössle Sauerkraut",
         0
        ],
        [
         "Tarte au sucre",
         0
        ],
        [
         "Alice Mutton",
         0
        ],
        [
         "Steeleye Stout",
         0
        ],
        [
         "Tofu",
         0
        ],
        [
         "Ravioli Angelo",
         0
        ],
        [
         "Scottish Longbreads",
         0
        ]
       ],
       "datasetInfos": [],
       "dbfsResultPath": null,
       "isJsonSchema": true,
       "metadata": {},
       "overflow": true,
       "plotOptions": {
        "customPlotOptions": {},
        "displayType": "table",
        "pivotAggregation": null,
        "pivotColumns": null,
        "xColumns": null,
        "yColumns": null
       },
       "removedWidgets": [],
       "schema": [
        {
         "metadata": "{}",
         "name": "ProductName",
         "type": "\"string\""
        },
        {
         "metadata": "{}",
         "name": "Discount",
         "type": "\"double\""
        }
       ],
       "type": "table"
      }
     },
     "output_type": "display_data"
    }
   ],
   "source": [
    "%sql\n",
    "-- List the most heavily discounted products in descending order\n",
    "SELECT p.ProductName, od.Discount\n",
    "FROM products p\n",
    "JOIN order_details od\n",
    "ON p.ProductID = od.ProductID\n",
    "ORDER BY od.Discount DESC;"
   ]
  },
  {
   "cell_type": "code",
   "execution_count": 0,
   "metadata": {
    "application/vnd.databricks.v1+cell": {
     "inputWidgets": {},
     "nuid": "bee622b9-b3fa-4413-8047-1f9e16c62f69",
     "showTitle": false,
     "title": ""
    }
   },
   "outputs": [
    {
     "data": {
      "text/plain": [
       "Out[8]: [Table(name='categories', database=None, description=None, tableType='TEMPORARY', isTemporary=True),\n",
       " Table(name='customers', database=None, description=None, tableType='TEMPORARY', isTemporary=True),\n",
       " Table(name='employee_territories', database=None, description=None, tableType='TEMPORARY', isTemporary=True),\n",
       " Table(name='employees', database=None, description=None, tableType='TEMPORARY', isTemporary=True),\n",
       " Table(name='order_details', database=None, description=None, tableType='TEMPORARY', isTemporary=True),\n",
       " Table(name='orders', database=None, description=None, tableType='TEMPORARY', isTemporary=True),\n",
       " Table(name='products', database=None, description=None, tableType='TEMPORARY', isTemporary=True),\n",
       " Table(name='regions', database=None, description=None, tableType='TEMPORARY', isTemporary=True),\n",
       " Table(name='shippers', database=None, description=None, tableType='TEMPORARY', isTemporary=True),\n",
       " Table(name='suppliers', database=None, description=None, tableType='TEMPORARY', isTemporary=True),\n",
       " Table(name='territories', database=None, description=None, tableType='TEMPORARY', isTemporary=True)]"
      ]
     },
     "metadata": {
      "application/vnd.databricks.v1+output": {
       "addedWidgets": {},
       "arguments": {},
       "data": "Out[8]: [Table(name='categories', database=None, description=None, tableType='TEMPORARY', isTemporary=True),\n Table(name='customers', database=None, description=None, tableType='TEMPORARY', isTemporary=True),\n Table(name='employee_territories', database=None, description=None, tableType='TEMPORARY', isTemporary=True),\n Table(name='employees', database=None, description=None, tableType='TEMPORARY', isTemporary=True),\n Table(name='order_details', database=None, description=None, tableType='TEMPORARY', isTemporary=True),\n Table(name='orders', database=None, description=None, tableType='TEMPORARY', isTemporary=True),\n Table(name='products', database=None, description=None, tableType='TEMPORARY', isTemporary=True),\n Table(name='regions', database=None, description=None, tableType='TEMPORARY', isTemporary=True),\n Table(name='shippers', database=None, description=None, tableType='TEMPORARY', isTemporary=True),\n Table(name='suppliers', database=None, description=None, tableType='TEMPORARY', isTemporary=True),\n Table(name='territories', database=None, description=None, tableType='TEMPORARY', isTemporary=True)]",
       "datasetInfos": [],
       "metadata": {},
       "removedWidgets": [],
       "type": "ansi"
      }
     },
     "output_type": "display_data"
    }
   ],
   "source": [
    "spark.catalog.listTables() "
   ]
  },
  {
   "cell_type": "code",
   "execution_count": 0,
   "metadata": {
    "application/vnd.databricks.v1+cell": {
     "inputWidgets": {},
     "nuid": "4697a79d-d0e3-40d1-a1cd-8acc2ff8e089",
     "showTitle": false,
     "title": ""
    }
   },
   "outputs": [
    {
     "data": {
      "text/html": [
       "<style scoped>\n",
       "  .ansiout {\n",
       "    display: block;\n",
       "    unicode-bidi: embed;\n",
       "    white-space: pre-wrap;\n",
       "    word-wrap: break-word;\n",
       "    word-break: break-all;\n",
       "    font-family: \"Source Code Pro\", \"Menlo\", monospace;;\n",
       "    font-size: 13px;\n",
       "    color: #555;\n",
       "    margin-left: 4px;\n",
       "    line-height: 19px;\n",
       "  }\n",
       "</style>"
      ]
     },
     "metadata": {
      "application/vnd.databricks.v1+output": {
       "arguments": {},
       "data": "",
       "errorSummary": "",
       "errorTraceType": null,
       "metadata": {},
       "type": "ipynbError"
      }
     },
     "output_type": "display_data"
    }
   ],
   "source": []
  }
 ],
 "metadata": {
  "application/vnd.databricks.v1+notebook": {
   "dashboards": [],
   "language": "python",
   "notebookMetadata": {
    "pythonIndentUnit": 2
   },
   "notebookName": "Northwind Group Project",
   "notebookOrigID": 1982033977624966,
   "widgets": {}
  },
  "kernelspec": {
   "display_name": "Python [conda env:PythonData] *",
   "language": "python",
   "name": "conda-env-PythonData-py"
  },
  "language_info": {
   "codemirror_mode": {
    "name": "ipython",
    "version": 3
   },
   "file_extension": ".py",
   "mimetype": "text/x-python",
   "name": "python",
   "nbconvert_exporter": "python",
   "pygments_lexer": "ipython3",
   "version": "3.6.13"
  }
 },
 "nbformat": 4,
 "nbformat_minor": 1
}
